{
 "cells": [
  {
   "cell_type": "code",
   "execution_count": 1,
   "id": "a19fc93e",
   "metadata": {},
   "outputs": [
    {
     "name": "stderr",
     "output_type": "stream",
     "text": [
      "INFO:jax._src.xla_bridge:Unable to initialize backend 'rocm': module 'jaxlib.xla_extension' has no attribute 'GpuAllocatorConfig'\n",
      "INFO:jax._src.xla_bridge:Unable to initialize backend 'tpu': INTERNAL: Failed to open libtpu.so: dlopen(libtpu.so, 0x0001): tried: 'libtpu.so' (no such file), '/System/Volumes/Preboot/Cryptexes/OSlibtpu.so' (no such file), '/Users/antoineluciano/.pyenv/versions/3.10.13/lib/libtpu.so' (no such file), '/System/Volumes/Preboot/Cryptexes/OS/Users/antoineluciano/.pyenv/versions/3.10.13/lib/libtpu.so' (no such file), '/opt/homebrew/lib/libtpu.so' (no such file), '/System/Volumes/Preboot/Cryptexes/OS/opt/homebrew/lib/libtpu.so' (no such file), '/Users/antoineluciano/.pyenv/versions/3.10.13/lib/libtpu.so' (no such file), '/System/Volumes/Preboot/Cryptexes/OS/Users/antoineluciano/.pyenv/versions/3.10.13/lib/libtpu.so' (no such file), '/opt/homebrew/lib/libtpu.so' (no such file), '/System/Volumes/Preboot/Cryptexes/OS/opt/homebrew/lib/libtpu.so' (no such file), '/Users/antoineluciano/.pyenv/versions/3.10.13/lib/libtpu.so' (no such file), '/System/Volumes/Preboot/Cryptexes/OS/Users/antoineluciano/.pyenv/versions/3.10.13/lib/libtpu.so' (no such file), '/opt/homebrew/lib/libtpu.so' (no such file), '/System/Volumes/Preboot/Cryptexes/OS/opt/homebrew/lib/libtpu.so' (no such file), '/usr/lib/libtpu.so' (no such file, not in dyld cache), 'libtpu.so' (no such file), '/usr/local/lib/libtpu.so' (no such file), '/usr/lib/libtpu.so' (no such file, not in dyld cache)\n",
      "INFO:jax._src.xla_bridge:Unable to initialize backend 'tpu': INTERNAL: Failed to open libtpu.so: dlopen(libtpu.so, 0x0001): tried: 'libtpu.so' (no such file), '/System/Volumes/Preboot/Cryptexes/OSlibtpu.so' (no such file), '/Users/antoineluciano/.pyenv/versions/3.10.13/lib/libtpu.so' (no such file), '/System/Volumes/Preboot/Cryptexes/OS/Users/antoineluciano/.pyenv/versions/3.10.13/lib/libtpu.so' (no such file), '/opt/homebrew/lib/libtpu.so' (no such file), '/System/Volumes/Preboot/Cryptexes/OS/opt/homebrew/lib/libtpu.so' (no such file), '/Users/antoineluciano/.pyenv/versions/3.10.13/lib/libtpu.so' (no such file), '/System/Volumes/Preboot/Cryptexes/OS/Users/antoineluciano/.pyenv/versions/3.10.13/lib/libtpu.so' (no such file), '/opt/homebrew/lib/libtpu.so' (no such file), '/System/Volumes/Preboot/Cryptexes/OS/opt/homebrew/lib/libtpu.so' (no such file), '/Users/antoineluciano/.pyenv/versions/3.10.13/lib/libtpu.so' (no such file), '/System/Volumes/Preboot/Cryptexes/OS/Users/antoineluciano/.pyenv/versions/3.10.13/lib/libtpu.so' (no such file), '/opt/homebrew/lib/libtpu.so' (no such file), '/System/Volumes/Preboot/Cryptexes/OS/opt/homebrew/lib/libtpu.so' (no such file), '/usr/lib/libtpu.so' (no such file, not in dyld cache), 'libtpu.so' (no such file), '/usr/local/lib/libtpu.so' (no such file), '/usr/lib/libtpu.so' (no such file, not in dyld cache)\n"
     ]
    },
    {
     "name": "stdout",
     "output_type": "stream",
     "text": [
      "--- Step 1: Load model and create simulator ---\n",
      "Model loaded: GaussGaussMultiDimModel(dim=10, n_obs=25, marginal_of_interest=0)\n",
      "Model loaded: GaussGaussMultiDimModel(dim=10, n_obs=25, marginal_of_interest=0)\n"
     ]
    },
    {
     "name": "stderr",
     "output_type": "stream",
     "text": [
      "INFO:abcnre.simulation.simulator:Created temporary observed data for prior sampling mode\n"
     ]
    }
   ],
   "source": [
    "from pathlib import Path\n",
    "from abcnre.simulation import ABCSimulator\n",
    "from abcnre.simulation.models import create_model_from_dict, get_example_model_configs\n",
    "import yaml\n",
    "import logging\n",
    "logging.basicConfig(level=logging.INFO)\n",
    "logger = logging.getLogger(__name__)\n",
    "%load_ext autoreload\n",
    "%autoreload 2\n",
    "\n",
    "current_dir = Path().resolve() \n",
    "parent_dir = current_dir.parent    \n",
    "results_dir = parent_dir / \"results\" \n",
    "\n",
    "print(\"--- Step 1: Load model and create simulator ---\")\n",
    "model_name = \"gauss_gauss_10d_default\"\n",
    "model_config = get_example_model_configs(model_name)\n",
    "\n",
    "\n",
    "model = create_model_from_dict(model_config)\n",
    "print(f\"Model loaded: {model}\")\n",
    "\n",
    "\n",
    "simulator = ABCSimulator(model=model)"
   ]
  },
  {
   "cell_type": "code",
   "execution_count": 2,
   "id": "414d8d46",
   "metadata": {},
   "outputs": [
    {
     "name": "stdout",
     "output_type": "stream",
     "text": [
      "--- Step 1.5 : Learn Summary Stats (Optional) ---\n"
     ]
    }
   ],
   "source": [
    "print(\"--- Step 1.5 : Learn Summary Stats (Optional) ---\")\n",
    "\n",
    "import jax\n",
    "from abcnre.training import get_nn_config\n",
    "key = jax.random.PRNGKey(123)\n",
    "key, subkey_learn = jax.random.split(key)\n",
    "\n",
    "\n",
    "# regressor_config = get_nn_config(network_name=\"deepset\",\n",
    "#                           network_size = \"default\",\n",
    "#                           training_size = \"default\",\n",
    "#                           task_type = \"regressor\",\n",
    "#                           lr_scheduler_name = \"reduce_on_plateau\",\n",
    "#                           lr_scheduler_variant = \"default\",\n",
    "#                           stopping_rules_variant = \"balanced\",\n",
    "#                           experiment_name = None, \n",
    "#                           training_set_size= 10000, \n",
    "#                           validation_set_size= 1000)\n",
    "# simulator.train_summary_network(subkey_learn, regressor_config)\n",
    "\n",
    "# key, subkey_check = jax.random.split(key)\n",
    "# empirical_correlation = simulator.check_summary_stats_correlation(\n",
    "#     subkey_check)\n",
    "# sigma0 = model.sigma0\n",
    "# sigma = model.sigma\n",
    "# n_obs = model.n_obs\n",
    "# import jax.numpy as jnp\n",
    "\n",
    "# theoretical_correlation = sigma0/jnp.sqrt(sigma**2/n_obs + sigma0**2)\n",
    "\n",
    "# print(\"Empirical correlation (s(x), mu_j):\", empirical_correlation,\"\\nTheoretical correlation (mean(x_j) and mu_j)\", theoretical_correlation)"
   ]
  },
  {
   "cell_type": "code",
   "execution_count": 3,
   "id": "08065435",
   "metadata": {},
   "outputs": [],
   "source": [
    "# n_samples = 1000 \n",
    "# key, subkey = jax.random.split(key)\n",
    "# phi_samples, x_samples = simulator.model.sample_phi_x_multiple(\n",
    "#     subkey, n_samples=n_samples\n",
    "# )\n",
    "# # Compute summary statistics for the generated samples\n",
    "# summary_stats = simulator.summary_stat_fn(x_samples)\n",
    "\n",
    "# print(f'Shapes: phi_samples: {phi_samples.shape}, x_samples: {x_samples.shape}, summary_stats: {summary_stats.shape}')\n",
    "# import seaborn as sns\n",
    "# import matplotlib.pyplot as plt\n",
    "# import jax.numpy as jnp\n",
    "\n",
    "# plt.scatter(phi_samples, summary_stats[:, 0])\n",
    "# plt.xlabel(\"phi_samples\")\n",
    "# plt.ylabel(\"summary_stats[:, 0]\")\n",
    "# plt.title(\"Scatter plot of phi_samples vs summary_stats[:, 0]\")\n",
    "# plt.show()\n",
    "# jnp.corrcoef(phi_samples[:,0], summary_stats[:, 0])\n"
   ]
  },
  {
   "cell_type": "code",
   "execution_count": 4,
   "id": "f6759ea1",
   "metadata": {},
   "outputs": [
    {
     "name": "stdout",
     "output_type": "stream",
     "text": [
      "--- Step 2.1: Sample x_obs and initialize the ABCSimulator ---\n",
      "(10,)\n"
     ]
    },
    {
     "name": "stderr",
     "output_type": "stream",
     "text": [
      "INFO:abcnre.simulation.simulator:Computed epsilon = 7.289465 for 10.0% quantile\n"
     ]
    }
   ],
   "source": [
    "print(\"--- Step 2.1: Sample x_obs and initialize the ABCSimulator ---\")\n",
    "import jax\n",
    "import jax.numpy as jnp\n",
    "key = jax.random.PRNGKey(1234)\n",
    "# Ensure the model is initialized\n",
    "model = simulator.model\n",
    "\n",
    "key, key_prior = jax.random.split(key)\n",
    "true_theta = model.get_prior_sample(key_prior)\n",
    "print(true_theta.shape)\n",
    "\n",
    "true_phi = 20.\n",
    "true_theta = true_theta.at[model.marginal_of_interest].set(true_phi)\n",
    "\n",
    "key, subkey_sample = jax.random.split(key)\n",
    "x_obs = model.simulate_data(subkey_sample, true_theta)\n",
    "simulator.update_observed_data(x_obs)\n",
    "\n",
    "\n",
    "quantile_distance = .1\n",
    "key, subkey_epsilon = jax.random.split(key)\n",
    "simulator.set_epsilon_from_quantile(key = subkey_epsilon, quantile_distance=quantile_distance, n_samples=10000)"
   ]
  },
  {
   "cell_type": "code",
   "execution_count": 5,
   "id": "803bcc19",
   "metadata": {},
   "outputs": [
    {
     "data": {
      "text/plain": [
       "(Array([19.853662], dtype=float32), Array([19.853662], dtype=float32))"
      ]
     },
     "execution_count": 5,
     "metadata": {},
     "output_type": "execute_result"
    }
   ],
   "source": [
    "import numpy as np\n",
    "model.predefined_summary_stat_fn(x_obs), simulator.summary_stat_fn(x_obs)"
   ]
  },
  {
   "cell_type": "code",
   "execution_count": 6,
   "id": "9833451b",
   "metadata": {},
   "outputs": [
    {
     "name": "stderr",
     "output_type": "stream",
     "text": [
      "INFO:abcnre.simulation.models.io:Model saved to: /Users/antoineluciano/Documents/Recherche/ABC-SBI-1/abcnre/examples/gauss_10D/results/simulator/simulator_model.yml\n",
      "INFO:abcnre.simulation.io:Saved model configuration to: /Users/antoineluciano/Documents/Recherche/ABC-SBI-1/abcnre/examples/gauss_10D/results/simulator/simulator_model.yml\n",
      "INFO:abcnre.simulation.io:Saved observed data to: /Users/antoineluciano/Documents/Recherche/ABC-SBI-1/abcnre/examples/gauss_10D/results/simulator/simulator_observed_data.npy\n",
      "INFO:abcnre.simulation.io:ABCSimulator configuration saved to: /Users/antoineluciano/Documents/Recherche/ABC-SBI-1/abcnre/examples/gauss_10D/results/simulator/simulator.yaml\n",
      "INFO:abcnre.simulation.io:Saved model configuration to: /Users/antoineluciano/Documents/Recherche/ABC-SBI-1/abcnre/examples/gauss_10D/results/simulator/simulator_model.yml\n",
      "INFO:abcnre.simulation.io:Saved observed data to: /Users/antoineluciano/Documents/Recherche/ABC-SBI-1/abcnre/examples/gauss_10D/results/simulator/simulator_observed_data.npy\n",
      "INFO:abcnre.simulation.io:ABCSimulator configuration saved to: /Users/antoineluciano/Documents/Recherche/ABC-SBI-1/abcnre/examples/gauss_10D/results/simulator/simulator.yaml\n"
     ]
    },
    {
     "name": "stdout",
     "output_type": "stream",
     "text": [
      "--- Step 2.2: Save model to YAML (Optional) ---\n"
     ]
    }
   ],
   "source": [
    "print(\"--- Step 2.2: Save model to YAML (Optional) ---\")\n",
    "\n",
    "from abcnre.simulation import save_simulator_to_yaml\n",
    "\n",
    "save_simulator_to_yaml(\n",
    "    simulator,\n",
    "    results_dir / \"simulator\" / \"simulator.yaml\",\n",
    "    overwrite=True\n",
    ")"
   ]
  },
  {
   "cell_type": "code",
   "execution_count": 7,
   "id": "2ef40275",
   "metadata": {},
   "outputs": [
    {
     "name": "stderr",
     "output_type": "stream",
     "text": [
      "INFO:abcnre.simulation.io:Loaded model: GaussGaussMultiDimModel\n",
      "INFO:abcnre.simulation.io:Loaded observed data from: /Users/antoineluciano/Documents/Recherche/ABC-SBI-1/abcnre/examples/gauss_10D/results/simulator/simulator_observed_data.npy\n",
      "INFO:abcnre.simulation.io:Loaded observed data from: /Users/antoineluciano/Documents/Recherche/ABC-SBI-1/abcnre/examples/gauss_10D/results/simulator/simulator_observed_data.npy\n",
      "INFO:abcnre.simulation.simulator:Using provided epsilon = 7.289465\n",
      "INFO:abcnre.simulation.simulator:Using provided epsilon = 7.289465\n"
     ]
    },
    {
     "name": "stdout",
     "output_type": "stream",
     "text": [
      "--- Step 2.3 : Load model from YAML and check (Optional) ---\n",
      "Simulators match: YES\n"
     ]
    }
   ],
   "source": [
    "\n",
    "print(\"--- Step 2.3 : Load model from YAML and check (Optional) ---\")\n",
    "\n",
    "from abcnre.simulation import load_simulator_from_yaml\n",
    "simulator_loaded = load_simulator_from_yaml(\n",
    "    results_dir / \"simulator\" / \"simulator.yaml\",\n",
    ")\n",
    "\n",
    "from abcnre.utils.comparison import are_simulators_equivalent\n",
    "\n",
    "simulators_match = are_simulators_equivalent(simulator, simulator_loaded)\n",
    "print(f\"Simulators match: {'YES' if simulators_match else 'NO'}\")"
   ]
  },
  {
   "cell_type": "code",
   "execution_count": 8,
   "id": "e5a4e904",
   "metadata": {},
   "outputs": [
    {
     "name": "stdout",
     "output_type": "stream",
     "text": [
      "--- Step 3.1: Create NNConfig for training ---\n"
     ]
    },
    {
     "name": "stderr",
     "output_type": "stream",
     "text": [
      "INFO:abcnre.training.config:Using custom lr_scheduler: reduce_on_plateau_default\n",
      "INFO:abcnre.training.config:Using stopping rules: balanced\n",
      "INFO:abcnre.training.config:Enabled pre-simulated data with training_set_size: 100000\n",
      "INFO:abcnre.training.config:Using stopping rules: balanced\n",
      "INFO:abcnre.training.config:Enabled pre-simulated data with training_set_size: 100000\n",
      "INFO:abcnre.training.config:Set validation_set_size: 10000\n",
      "INFO:abcnre.training.config:Created NN config: classifier_conditioned_deepset_default_default (task: classifier)\n",
      "INFO:abcnre.training.config:Set validation_set_size: 10000\n",
      "INFO:abcnre.training.config:Created NN config: classifier_conditioned_deepset_default_default (task: classifier)\n"
     ]
    }
   ],
   "source": [
    "from abcnre.training import NNConfig, NetworkConfig, TrainingConfig, get_nn_config\n",
    "print(\"--- Step 3.1: Create NNConfig for training ---\")\n",
    "nn_config = get_nn_config(network_name=\"conditioned_deepset\",\n",
    "                          network_size = \"default\",\n",
    "                          training_size = \"default\",\n",
    "                          task_type = \"classifier\",\n",
    "                          lr_scheduler_name = \"reduce_on_plateau\",\n",
    "                          lr_scheduler_variant = \"default\",\n",
    "                          stopping_rules_variant = \"balanced\",\n",
    "                          experiment_name = None, \n",
    "                          training_set_size= 100000,\n",
    "                          validation_set_size= 10000)    "
   ]
  },
  {
   "cell_type": "code",
   "execution_count": 9,
   "id": "c406b98d",
   "metadata": {},
   "outputs": [
    {
     "name": "stdout",
     "output_type": "stream",
     "text": [
      "--- Step 3.2: Create NeuralRatioEstimator ---\n"
     ]
    }
   ],
   "source": [
    "print(\"--- Step 3.2: Create NeuralRatioEstimator ---\")\n",
    "\n",
    "from abcnre.inference import NeuralRatioEstimator    \n",
    "\n",
    "estimator = NeuralRatioEstimator(\n",
    "    nn_config=nn_config,\n",
    "    simulator=simulator)"
   ]
  },
  {
   "cell_type": "code",
   "execution_count": 10,
   "id": "b7da3597",
   "metadata": {},
   "outputs": [
    {
     "name": "stderr",
     "output_type": "stream",
     "text": [
      "INFO:abcnre.inference.estimator:Using ConditionedDeepSet without summary statistics\n"
     ]
    },
    {
     "name": "stdout",
     "output_type": "stream",
     "text": [
      "--- Step 3.3: Train the NeuralRatioEstimator ---\n"
     ]
    },
    {
     "name": "stderr",
     "output_type": "stream",
     "text": [
      "INFO:abcnre.inference.estimator:Storing 10000 phi during training\n",
      "INFO:abcnre.training.components.metrics:Configuration Summary:\n",
      "INFO:abcnre.training.components.metrics:Configuration Summary:\n",
      "INFO:abcnre.training.components.metrics:   Task: classifier\n",
      "INFO:abcnre.training.components.metrics:   Network: ConditionedDeepSet\n",
      "INFO:abcnre.training.components.metrics:   Task: classifier\n",
      "INFO:abcnre.training.components.metrics:   Network: ConditionedDeepSet\n",
      "INFO:abcnre.training.components.metrics:   Optimizer: adam\n",
      "INFO:abcnre.training.components.metrics:   Learning rate: 0.0005\n",
      "INFO:abcnre.training.components.metrics:   LR scheduler: reduce_on_plateau\n",
      "INFO:abcnre.training.components.metrics:   Batch size: 256\n",
      "INFO:abcnre.training.components.metrics:   Optimizer: adam\n",
      "INFO:abcnre.training.components.metrics:   Learning rate: 0.0005\n",
      "INFO:abcnre.training.components.metrics:   LR scheduler: reduce_on_plateau\n",
      "INFO:abcnre.training.components.metrics:   Batch size: 256\n",
      "INFO:abcnre.training.components.metrics:   Samples/epoch: 10240\n",
      "INFO:abcnre.training.components.metrics:   Max epochs: 100\n",
      "INFO:abcnre.training.components.metrics:   Stopping rules: Enabled\n",
      "INFO:abcnre.training.components.metrics:   Phi storage: 10000 values\n",
      "INFO:abcnre.training.components.metrics:   Samples/epoch: 10240\n",
      "INFO:abcnre.training.components.metrics:   Max epochs: 100\n",
      "INFO:abcnre.training.components.metrics:   Stopping rules: Enabled\n",
      "INFO:abcnre.training.components.metrics:   Phi storage: 10000 values\n",
      "INFO:abcnre.training.components.setup:Setting up classifier training\n",
      "INFO:abcnre.training.components.setup:Setting up classifier training\n",
      "INFO:abcnre.training.components.setup:Epochs: 100, Batch size: 256, Batches/epoch: 40\n",
      "INFO:abcnre.training.components.setup:Epochs: 100, Batch size: 256, Batches/epoch: 40\n",
      "INFO:abcnre.training.registry:Registered networks: MLP, DeepSet, ConditionedDeepSet\n",
      "INFO:abcnre.training.registry:Set output_dim=1 for ConditionedDeepSet network\n",
      "INFO:abcnre.training.registry:Created ConditionedDeepSet network (from 'ConditionedDeepSet') for classifier\n",
      "INFO:abcnre.training.registry:Network args: {'activation': 'relu', 'use_layer_norm': True, 'dropout_rate': 0.0, 'pooling_type': 'mean', 'conditioning_mode': 'concat', 'phi_hidden_dims': [32, 16], 'rho_hidden_dims': [32, 16], 'output_dim': 1}\n",
      "INFO:abcnre.training.components.setup:Created network: ConditionedDeepSet\n",
      "INFO:abcnre.training.registry:Registered networks: MLP, DeepSet, ConditionedDeepSet\n",
      "INFO:abcnre.training.registry:Set output_dim=1 for ConditionedDeepSet network\n",
      "INFO:abcnre.training.registry:Created ConditionedDeepSet network (from 'ConditionedDeepSet') for classifier\n",
      "INFO:abcnre.training.registry:Network args: {'activation': 'relu', 'use_layer_norm': True, 'dropout_rate': 0.0, 'pooling_type': 'mean', 'conditioning_mode': 'concat', 'phi_hidden_dims': [32, 16], 'rho_hidden_dims': [32, 16], 'output_dim': 1}\n",
      "INFO:abcnre.training.components.setup:Created network: ConditionedDeepSet\n",
      "INFO:abcnre.training.components.setup:Network initialized with 2,225 parameters\n",
      "INFO:abcnre.training.components.setup:Using same generator for validation data\n",
      "INFO:abcnre.training.components.setup:Creating pre-simulated validation set: 10000 samples\n",
      "INFO:abcnre.training.components.setup:Network initialized with 2,225 parameters\n",
      "INFO:abcnre.training.components.setup:Using same generator for validation data\n",
      "INFO:abcnre.training.components.setup:Creating pre-simulated validation set: 10000 samples\n",
      "INFO:abcnre.training.components.setup:Setup complete. Initial simulations: 49961\n",
      "INFO:abcnre.training.components.schedulers:Initialized reduce-on-plateau scheduler\n",
      "INFO:abcnre.training.components.loop:Initialized phi storage for 10000 values\n",
      "INFO:abcnre.training.components.metrics:============================================================\n",
      "INFO:abcnre.training.components.setup:Setup complete. Initial simulations: 49961\n",
      "INFO:abcnre.training.components.schedulers:Initialized reduce-on-plateau scheduler\n",
      "INFO:abcnre.training.components.loop:Initialized phi storage for 10000 values\n",
      "INFO:abcnre.training.components.metrics:============================================================\n",
      "INFO:abcnre.training.components.metrics:Starting classifier training\n",
      "INFO:abcnre.training.components.metrics:Starting classifier training\n",
      "INFO:abcnre.training.components.metrics:Epochs: 100, Batch size: 256, Batches/epoch: 40\n",
      "INFO:abcnre.training.components.metrics:============================================================\n",
      "INFO:abcnre.training.train:Active stopping criteria: ['max_epochs', 'early_stopping', 'lr_stopping']\n",
      "INFO:abcnre.training.components.metrics:Epochs: 100, Batch size: 256, Batches/epoch: 40\n",
      "INFO:abcnre.training.components.metrics:============================================================\n",
      "INFO:abcnre.training.train:Active stopping criteria: ['max_epochs', 'early_stopping', 'lr_stopping']\n",
      "INFO:abcnre.training.train:Pre-simulated training set created: 100000 samples\n",
      "INFO:abcnre.training.train:Pre-simulated training set created: 100000 samples\n",
      "INFO:abcnre.training.components.metrics:Epoch   1/100 | Loss: train = 0.737934 val = 0.695228 | Acc: train = 50.00% val = 50.15% | LR: 5.00e-04 | Samples: 100,000 | Sims: 493,483 | Time: 39.3s\n",
      "INFO:abcnre.training.train:Timing [Pre-sim]: Sim=4.47s Train=1.20s Overhead=0.04s (Sim/Train: 3.7x)\n",
      "INFO:abcnre.training.components.metrics:Epoch   1/100 | Loss: train = 0.737934 val = 0.695228 | Acc: train = 50.00% val = 50.15% | LR: 5.00e-04 | Samples: 100,000 | Sims: 493,483 | Time: 39.3s\n",
      "INFO:abcnre.training.train:Timing [Pre-sim]: Sim=4.47s Train=1.20s Overhead=0.04s (Sim/Train: 3.7x)\n",
      "INFO:abcnre.training.components.metrics:Epoch  11/100 | Loss: train = 0.693232 val = 0.692840 | Acc: train = 50.78% val = 50.51% | LR: 5.00e-04 | Samples: 100,000 | Sims: 493,483 | Time: 93.7s\n",
      "INFO:abcnre.training.train:Timing [Pre-sim]: Sim=4.42s Train=0.11s Overhead=0.01s (Sim/Train: 40.0x)\n",
      "INFO:abcnre.training.train:Training efficiency: 2.1% (higher = less time on data generation)\n",
      "INFO:abcnre.training.train:ETA: 7.9 minutes\n",
      "INFO:abcnre.training.components.metrics:Epoch  11/100 | Loss: train = 0.693232 val = 0.692840 | Acc: train = 50.78% val = 50.51% | LR: 5.00e-04 | Samples: 100,000 | Sims: 493,483 | Time: 93.7s\n",
      "INFO:abcnre.training.train:Timing [Pre-sim]: Sim=4.42s Train=0.11s Overhead=0.01s (Sim/Train: 40.0x)\n",
      "INFO:abcnre.training.train:Training efficiency: 2.1% (higher = less time on data generation)\n",
      "INFO:abcnre.training.train:ETA: 7.9 minutes\n",
      "INFO:abcnre.training.components.metrics:Epoch  21/100 | Loss: train = 0.691832 val = 0.692715 | Acc: train = 50.78% val = 50.83% | LR: 5.00e-04 | Samples: 100,000 | Sims: 493,483 | Time: 144.1s\n",
      "INFO:abcnre.training.train:Timing [Pre-sim]: Sim=4.15s Train=0.08s Overhead=0.01s (Sim/Train: 49.2x)\n",
      "INFO:abcnre.training.train:Training efficiency: 2.0% (higher = less time on data generation)\n",
      "INFO:abcnre.training.train:ETA: 6.5 minutes\n",
      "INFO:abcnre.training.components.metrics:Epoch  21/100 | Loss: train = 0.691832 val = 0.692715 | Acc: train = 50.78% val = 50.83% | LR: 5.00e-04 | Samples: 100,000 | Sims: 493,483 | Time: 144.1s\n",
      "INFO:abcnre.training.train:Timing [Pre-sim]: Sim=4.15s Train=0.08s Overhead=0.01s (Sim/Train: 49.2x)\n",
      "INFO:abcnre.training.train:Training efficiency: 2.0% (higher = less time on data generation)\n",
      "INFO:abcnre.training.train:ETA: 6.5 minutes\n",
      "INFO:abcnre.training.components.metrics:Epoch  31/100 | Loss: train = 0.626707 val = 0.601461 | Acc: train = 62.11% val = 63.76% | LR: 5.00e-04 | Samples: 100,000 | Sims: 493,483 | Time: 189.7s\n",
      "INFO:abcnre.training.train:Timing [Pre-sim]: Sim=4.90s Train=0.12s Overhead=0.02s (Sim/Train: 41.6x)\n",
      "INFO:abcnre.training.train:Training efficiency: 2.0% (higher = less time on data generation)\n",
      "INFO:abcnre.training.train:ETA: 5.1 minutes\n",
      "INFO:abcnre.training.components.metrics:Epoch  31/100 | Loss: train = 0.626707 val = 0.601461 | Acc: train = 62.11% val = 63.76% | LR: 5.00e-04 | Samples: 100,000 | Sims: 493,483 | Time: 189.7s\n",
      "INFO:abcnre.training.train:Timing [Pre-sim]: Sim=4.90s Train=0.12s Overhead=0.02s (Sim/Train: 41.6x)\n",
      "INFO:abcnre.training.train:Training efficiency: 2.0% (higher = less time on data generation)\n",
      "INFO:abcnre.training.train:ETA: 5.1 minutes\n",
      "INFO:abcnre.training.components.metrics:Epoch  41/100 | Loss: train = 0.227996 val = 0.229918 | Acc: train = 88.28% val = 91.88% | LR: 5.00e-04 | Samples: 100,000 | Sims: 493,483 | Time: 238.6s\n",
      "INFO:abcnre.training.train:Timing [Pre-sim]: Sim=3.95s Train=0.08s Overhead=0.01s (Sim/Train: 50.1x)\n",
      "INFO:abcnre.training.train:Training efficiency: 2.0% (higher = less time on data generation)\n",
      "INFO:abcnre.training.train:ETA: 4.7 minutes\n",
      "INFO:abcnre.training.components.metrics:Epoch  41/100 | Loss: train = 0.227996 val = 0.229918 | Acc: train = 88.28% val = 91.88% | LR: 5.00e-04 | Samples: 100,000 | Sims: 493,483 | Time: 238.6s\n",
      "INFO:abcnre.training.train:Timing [Pre-sim]: Sim=3.95s Train=0.08s Overhead=0.01s (Sim/Train: 50.1x)\n",
      "INFO:abcnre.training.train:Training efficiency: 2.0% (higher = less time on data generation)\n",
      "INFO:abcnre.training.train:ETA: 4.7 minutes\n",
      "INFO:abcnre.training.components.metrics:Epoch  51/100 | Loss: train = 0.187714 val = 0.194751 | Acc: train = 90.23% val = 93.34% | LR: 5.00e-04 | Samples: 100,000 | Sims: 493,483 | Time: 283.7s\n",
      "INFO:abcnre.training.train:Timing [Pre-sim]: Sim=4.03s Train=0.09s Overhead=0.01s (Sim/Train: 45.5x)\n",
      "INFO:abcnre.training.train:Training efficiency: 2.1% (higher = less time on data generation)\n",
      "INFO:abcnre.training.train:ETA: 3.6 minutes\n",
      "INFO:abcnre.training.components.metrics:Epoch  51/100 | Loss: train = 0.187714 val = 0.194751 | Acc: train = 90.23% val = 93.34% | LR: 5.00e-04 | Samples: 100,000 | Sims: 493,483 | Time: 283.7s\n",
      "INFO:abcnre.training.train:Timing [Pre-sim]: Sim=4.03s Train=0.09s Overhead=0.01s (Sim/Train: 45.5x)\n",
      "INFO:abcnre.training.train:Training efficiency: 2.1% (higher = less time on data generation)\n",
      "INFO:abcnre.training.train:ETA: 3.6 minutes\n",
      "INFO:abcnre.training.components.metrics:Epoch  61/100 | Loss: train = 0.186841 val = 0.185904 | Acc: train = 92.19% val = 93.58% | LR: 5.00e-04 | Samples: 100,000 | Sims: 493,483 | Time: 326.4s\n",
      "INFO:abcnre.training.train:Timing [Pre-sim]: Sim=3.96s Train=0.08s Overhead=0.01s (Sim/Train: 50.1x)\n",
      "INFO:abcnre.training.train:Training efficiency: 2.0% (higher = less time on data generation)\n",
      "INFO:abcnre.training.train:ETA: 2.7 minutes\n",
      "INFO:abcnre.training.components.metrics:Epoch  61/100 | Loss: train = 0.186841 val = 0.185904 | Acc: train = 92.19% val = 93.58% | LR: 5.00e-04 | Samples: 100,000 | Sims: 493,483 | Time: 326.4s\n",
      "INFO:abcnre.training.train:Timing [Pre-sim]: Sim=3.96s Train=0.08s Overhead=0.01s (Sim/Train: 50.1x)\n",
      "INFO:abcnre.training.train:Training efficiency: 2.0% (higher = less time on data generation)\n",
      "INFO:abcnre.training.train:ETA: 2.7 minutes\n",
      "INFO:abcnre.training.components.metrics:Epoch  71/100 | Loss: train = 0.184574 val = 0.181699 | Acc: train = 94.14% val = 93.61% | LR: 5.00e-04 | Samples: 100,000 | Sims: 493,483 | Time: 370.4s\n",
      "INFO:abcnre.training.train:Timing [Pre-sim]: Sim=4.04s Train=0.09s Overhead=0.01s (Sim/Train: 44.5x)\n",
      "INFO:abcnre.training.train:Training efficiency: 2.1% (higher = less time on data generation)\n",
      "INFO:abcnre.training.train:ETA: 2.1 minutes\n",
      "INFO:abcnre.training.components.metrics:Epoch  71/100 | Loss: train = 0.184574 val = 0.181699 | Acc: train = 94.14% val = 93.61% | LR: 5.00e-04 | Samples: 100,000 | Sims: 493,483 | Time: 370.4s\n",
      "INFO:abcnre.training.train:Timing [Pre-sim]: Sim=4.04s Train=0.09s Overhead=0.01s (Sim/Train: 44.5x)\n",
      "INFO:abcnre.training.train:Training efficiency: 2.1% (higher = less time on data generation)\n",
      "INFO:abcnre.training.train:ETA: 2.1 minutes\n",
      "INFO:abcnre.training.components.metrics:Epoch  81/100 | Loss: train = 0.177342 val = 0.180784 | Acc: train = 92.58% val = 93.78% | LR: 5.00e-04 | Samples: 100,000 | Sims: 493,483 | Time: 412.2s\n",
      "INFO:abcnre.training.train:Timing [Pre-sim]: Sim=3.95s Train=0.08s Overhead=0.01s (Sim/Train: 50.4x)\n",
      "INFO:abcnre.training.train:Training efficiency: 1.9% (higher = less time on data generation)\n",
      "INFO:abcnre.training.train:ETA: 1.3 minutes\n",
      "INFO:abcnre.training.components.metrics:Epoch  81/100 | Loss: train = 0.177342 val = 0.180784 | Acc: train = 92.58% val = 93.78% | LR: 5.00e-04 | Samples: 100,000 | Sims: 493,483 | Time: 412.2s\n",
      "INFO:abcnre.training.train:Timing [Pre-sim]: Sim=3.95s Train=0.08s Overhead=0.01s (Sim/Train: 50.4x)\n",
      "INFO:abcnre.training.train:Training efficiency: 1.9% (higher = less time on data generation)\n",
      "INFO:abcnre.training.train:ETA: 1.3 minutes\n",
      "INFO:abcnre.training.components.schedulers:Learning rate reduced: 5.00e-04 -> 2.50e-04\n",
      "INFO:abcnre.training.components.metrics:Learning rate reduced: 5.00e-04 -> 2.50e-04 (0.50x)\n",
      "INFO:abcnre.training.components.schedulers:Learning rate reduced: 5.00e-04 -> 2.50e-04\n",
      "INFO:abcnre.training.components.metrics:Learning rate reduced: 5.00e-04 -> 2.50e-04 (0.50x)\n",
      "INFO:abcnre.training.components.metrics:Epoch  91/100 | Loss: train = 0.168529 val = 0.176537 | Acc: train = 94.14% val = 94.07% | LR: 2.50e-04 | Samples: 100,000 | Sims: 493,483 | Time: 458.3s\n",
      "INFO:abcnre.training.train:Timing [Pre-sim]: Sim=3.95s Train=0.08s Overhead=0.01s (Sim/Train: 48.0x)\n",
      "INFO:abcnre.training.train:Training efficiency: 5.9% (higher = less time on data generation)\n",
      "INFO:abcnre.training.components.metrics:Epoch  91/100 | Loss: train = 0.168529 val = 0.176537 | Acc: train = 94.14% val = 94.07% | LR: 2.50e-04 | Samples: 100,000 | Sims: 493,483 | Time: 458.3s\n",
      "INFO:abcnre.training.train:Timing [Pre-sim]: Sim=3.95s Train=0.08s Overhead=0.01s (Sim/Train: 48.0x)\n",
      "INFO:abcnre.training.train:Training efficiency: 5.9% (higher = less time on data generation)\n",
      "INFO:abcnre.training.components.schedulers:Learning rate reduced: 2.50e-04 -> 1.25e-04\n",
      "INFO:abcnre.training.components.metrics:Learning rate reduced: 2.50e-04 -> 1.25e-04 (0.50x)\n",
      "INFO:abcnre.training.components.schedulers:Learning rate reduced: 2.50e-04 -> 1.25e-04\n",
      "INFO:abcnre.training.components.metrics:Learning rate reduced: 2.50e-04 -> 1.25e-04 (0.50x)\n",
      "INFO:abcnre.training.components.metrics:============================================================\n",
      "INFO:abcnre.training.components.metrics:Training completed!\n",
      "INFO:abcnre.training.components.metrics:Total time: 497.4s (8.3m)\n",
      "INFO:abcnre.training.components.metrics:Epochs completed: 100\n",
      "INFO:abcnre.training.components.metrics:Final train loss: 0.155877\n",
      "INFO:abcnre.training.components.metrics:Final val loss: 0.174477\n",
      "INFO:abcnre.training.components.metrics:Final val accuracy: 94.0%\n",
      "INFO:abcnre.training.components.metrics:Total simulations: 493,483\n",
      "INFO:abcnre.training.components.metrics:Best val loss: 0.173675 (epoch 96)\n",
      "INFO:abcnre.training.components.metrics:============================================================\n",
      "INFO:abcnre.training.components.loop:Phi storage completed: 10000 values stored (target: 10000)\n",
      "INFO:abcnre.training.train:Final stopping rules status: {'enabled': True, 'max_epochs': 500, 'active_criteria': ['max_epochs', 'early_stopping', 'lr_stopping'], 'config': {'max_epochs': 500, 'early_stopping': {'enabled': True, 'monitor': 'validation_loss', 'patience': 15, 'min_delta': 0.0001, 'restore_best_weights': True, 'mode': 'min'}, 'lr_stopping': {'enabled': True, 'min_lr': 1e-07}, 'convergence_stopping': {'enabled': False, 'tolerance': 1e-06, 'patience': 5}, 'plateau_stopping': {'enabled': False, 'patience': 20, 'threshold': 1e-05}, 'time_stopping': {'enabled': False, 'max_time_hours': None}, 'sample_stopping': {'enabled': False, 'max_samples': None}, 'simulation_stopping': {'enabled': False, 'max_simulations': None}}}\n",
      "INFO:abcnre.training.train:============================================================\n",
      "INFO:abcnre.training.train:DETAILED TIMING BREAKDOWN\n",
      "INFO:abcnre.training.train:============================================================\n",
      "INFO:abcnre.training.train:Total training time: 497.44s (8.3m)\n",
      "INFO:abcnre.training.train:  - Pure simulation time: 440.73s (88.6%)\n",
      "INFO:abcnre.training.train:  - Pure training time: 12.39s (2.5%)\n",
      "INFO:abcnre.training.train:  - Overhead time: 1.24s (0.2%)\n",
      "INFO:abcnre.training.train:Average sim/train ratio: 46.48x\n",
      "INFO:abcnre.training.train:Note: Using pre-simulated data - simulation time includes data sampling\n",
      "INFO:abcnre.training.train:💡 Pre-simulated data could provide 35.6x speedup\n",
      "INFO:abcnre.training.train:============================================================\n",
      "INFO:abcnre.training.components.metrics:============================================================\n",
      "INFO:abcnre.training.components.metrics:Training completed!\n",
      "INFO:abcnre.training.components.metrics:Total time: 497.4s (8.3m)\n",
      "INFO:abcnre.training.components.metrics:Epochs completed: 100\n",
      "INFO:abcnre.training.components.metrics:Final train loss: 0.155877\n",
      "INFO:abcnre.training.components.metrics:Final val loss: 0.174477\n",
      "INFO:abcnre.training.components.metrics:Final val accuracy: 94.0%\n",
      "INFO:abcnre.training.components.metrics:Total simulations: 493,483\n",
      "INFO:abcnre.training.components.metrics:Best val loss: 0.173675 (epoch 96)\n",
      "INFO:abcnre.training.components.metrics:============================================================\n",
      "INFO:abcnre.training.components.loop:Phi storage completed: 10000 values stored (target: 10000)\n",
      "INFO:abcnre.training.train:Final stopping rules status: {'enabled': True, 'max_epochs': 500, 'active_criteria': ['max_epochs', 'early_stopping', 'lr_stopping'], 'config': {'max_epochs': 500, 'early_stopping': {'enabled': True, 'monitor': 'validation_loss', 'patience': 15, 'min_delta': 0.0001, 'restore_best_weights': True, 'mode': 'min'}, 'lr_stopping': {'enabled': True, 'min_lr': 1e-07}, 'convergence_stopping': {'enabled': False, 'tolerance': 1e-06, 'patience': 5}, 'plateau_stopping': {'enabled': False, 'patience': 20, 'threshold': 1e-05}, 'time_stopping': {'enabled': False, 'max_time_hours': None}, 'sample_stopping': {'enabled': False, 'max_samples': None}, 'simulation_stopping': {'enabled': False, 'max_simulations': None}}}\n",
      "INFO:abcnre.training.train:============================================================\n",
      "INFO:abcnre.training.train:DETAILED TIMING BREAKDOWN\n",
      "INFO:abcnre.training.train:============================================================\n",
      "INFO:abcnre.training.train:Total training time: 497.44s (8.3m)\n",
      "INFO:abcnre.training.train:  - Pure simulation time: 440.73s (88.6%)\n",
      "INFO:abcnre.training.train:  - Pure training time: 12.39s (2.5%)\n",
      "INFO:abcnre.training.train:  - Overhead time: 1.24s (0.2%)\n",
      "INFO:abcnre.training.train:Average sim/train ratio: 46.48x\n",
      "INFO:abcnre.training.train:Note: Using pre-simulated data - simulation time includes data sampling\n",
      "INFO:abcnre.training.train:💡 Pre-simulated data could provide 35.6x speedup\n",
      "INFO:abcnre.training.train:============================================================\n",
      "INFO:abcnre.training.components.metrics:Training Metrics Summary:\n",
      "INFO:abcnre.training.components.metrics:   train_loss: min=0.155877, max=0.737934, mean=0.352497\n",
      "INFO:abcnre.training.components.metrics:   val_loss: min=0.173675, max=0.695228, mean=0.354650\n",
      "INFO:abcnre.training.components.metrics:   train_accuracy: min=0.473, max=0.969, mean=0.799\n",
      "INFO:abcnre.training.components.metrics:   val_accuracy: min=0.496, max=0.941, mean=0.800\n",
      "INFO:abcnre.training.train:Stored phi values: 10000\n",
      "INFO:abcnre.training.components.metrics:Training Metrics Summary:\n",
      "INFO:abcnre.training.components.metrics:   train_loss: min=0.155877, max=0.737934, mean=0.352497\n",
      "INFO:abcnre.training.components.metrics:   val_loss: min=0.173675, max=0.695228, mean=0.354650\n",
      "INFO:abcnre.training.components.metrics:   train_accuracy: min=0.473, max=0.969, mean=0.799\n",
      "INFO:abcnre.training.components.metrics:   val_accuracy: min=0.496, max=0.941, mean=0.800\n",
      "INFO:abcnre.training.train:Stored phi values: 10000\n"
     ]
    },
    {
     "name": "stdout",
     "output_type": "stream",
     "text": [
      "Neural Ratio Estimator training completed successfully!\n",
      "   - Final train loss: 0.15587732195854187\n",
      "   - Total simulations: 493483\n"
     ]
    }
   ],
   "source": [
    "print(\"--- Step 3.3: Train the NeuralRatioEstimator ---\")\n",
    "\n",
    "\n",
    "key, key_train = jax.random.split(key)\n",
    "res = estimator.train(key_train, n_phi_to_store = 10000)  # Store few phi samples\n"
   ]
  },
  {
   "cell_type": "code",
   "execution_count": null,
   "id": "9220ae46",
   "metadata": {},
   "outputs": [],
   "source": []
  },
  {
   "cell_type": "code",
   "execution_count": 11,
   "id": "7020b30b",
   "metadata": {},
   "outputs": [
    {
     "name": "stderr",
     "output_type": "stream",
     "text": [
      "INFO:abcnre.training.config:Configuration saved to /Users/antoineluciano/Documents/Recherche/ABC-SBI-1/abcnre/examples/gauss_10D/results/estimator/estimator_classif_config.yaml\n",
      "INFO:abcnre.inference.io:Saved classifier config to: /Users/antoineluciano/Documents/Recherche/ABC-SBI-1/abcnre/examples/gauss_10D/results/estimator/estimator_classif_config.yaml\n",
      "INFO:abcnre.simulation.models.io:Model saved to: /Users/antoineluciano/Documents/Recherche/ABC-SBI-1/abcnre/examples/gauss_10D/results/estimator/estimator_simulator_model.yml\n",
      "INFO:abcnre.simulation.io:Saved model configuration to: /Users/antoineluciano/Documents/Recherche/ABC-SBI-1/abcnre/examples/gauss_10D/results/estimator/estimator_simulator_model.yml\n",
      "INFO:abcnre.simulation.io:Saved observed data to: /Users/antoineluciano/Documents/Recherche/ABC-SBI-1/abcnre/examples/gauss_10D/results/estimator/estimator_simulator_observed_data.npy\n",
      "INFO:abcnre.inference.io:Saved classifier config to: /Users/antoineluciano/Documents/Recherche/ABC-SBI-1/abcnre/examples/gauss_10D/results/estimator/estimator_classif_config.yaml\n",
      "INFO:abcnre.simulation.models.io:Model saved to: /Users/antoineluciano/Documents/Recherche/ABC-SBI-1/abcnre/examples/gauss_10D/results/estimator/estimator_simulator_model.yml\n",
      "INFO:abcnre.simulation.io:Saved model configuration to: /Users/antoineluciano/Documents/Recherche/ABC-SBI-1/abcnre/examples/gauss_10D/results/estimator/estimator_simulator_model.yml\n",
      "INFO:abcnre.simulation.io:Saved observed data to: /Users/antoineluciano/Documents/Recherche/ABC-SBI-1/abcnre/examples/gauss_10D/results/estimator/estimator_simulator_observed_data.npy\n",
      "INFO:abcnre.simulation.io:ABCSimulator configuration saved to: /Users/antoineluciano/Documents/Recherche/ABC-SBI-1/abcnre/examples/gauss_10D/results/estimator/estimator_simulator.yaml\n",
      "INFO:abcnre.inference.io:Saved simulator config to: /Users/antoineluciano/Documents/Recherche/ABC-SBI-1/abcnre/examples/gauss_10D/results/estimator/estimator_simulator.yaml\n",
      "INFO:abcnre.inference.io:Saved classifier params to: /Users/antoineluciano/Documents/Recherche/ABC-SBI-1/abcnre/examples/gauss_10D/results/estimator/estimator_classif_params.npz\n",
      "INFO:abcnre.inference.io:Saved stored phis to: /Users/antoineluciano/Documents/Recherche/ABC-SBI-1/abcnre/examples/gauss_10D/results/estimator/estimator_stored_phis.npy\n",
      "INFO:abcnre.simulation.io:ABCSimulator configuration saved to: /Users/antoineluciano/Documents/Recherche/ABC-SBI-1/abcnre/examples/gauss_10D/results/estimator/estimator_simulator.yaml\n",
      "INFO:abcnre.inference.io:Saved simulator config to: /Users/antoineluciano/Documents/Recherche/ABC-SBI-1/abcnre/examples/gauss_10D/results/estimator/estimator_simulator.yaml\n",
      "INFO:abcnre.inference.io:Saved classifier params to: /Users/antoineluciano/Documents/Recherche/ABC-SBI-1/abcnre/examples/gauss_10D/results/estimator/estimator_classif_params.npz\n",
      "INFO:abcnre.inference.io:Saved stored phis to: /Users/antoineluciano/Documents/Recherche/ABC-SBI-1/abcnre/examples/gauss_10D/results/estimator/estimator_stored_phis.npy\n",
      "INFO:abcnre.inference.io:Saved estimator to: /Users/antoineluciano/Documents/Recherche/ABC-SBI-1/abcnre/examples/gauss_10D/results/estimator/estimator.yaml\n",
      "INFO:abcnre.inference.io:Saved estimator to: /Users/antoineluciano/Documents/Recherche/ABC-SBI-1/abcnre/examples/gauss_10D/results/estimator/estimator.yaml\n"
     ]
    },
    {
     "name": "stdout",
     "output_type": "stream",
     "text": [
      "--- Step 3.4: Save the NeuralRatioEstimator to YAML (Optional) ---\n"
     ]
    }
   ],
   "source": [
    "print(\"--- Step 3.4: Save the NeuralRatioEstimator to YAML (Optional) ---\")\n",
    "\n",
    "from abcnre.inference.io import save_estimator_to_yaml\n",
    "save_estimator_to_yaml(\n",
    "    estimator,\n",
    "    results_dir / \"estimator\" / \"estimator.yaml\",\n",
    "    overwrite=True\n",
    ")\n"
   ]
  },
  {
   "cell_type": "code",
   "execution_count": 12,
   "id": "4f005f34",
   "metadata": {},
   "outputs": [
    {
     "name": "stderr",
     "output_type": "stream",
     "text": [
      "INFO:abcnre.training.config:Loaded configuration from /Users/antoineluciano/Documents/Recherche/ABC-SBI-1/abcnre/examples/gauss_10D/results/estimator/estimator_classif_config.yaml\n",
      "INFO:abcnre.simulation.io:Loaded model: GaussGaussMultiDimModel\n",
      "INFO:abcnre.simulation.io:Loaded observed data from: /Users/antoineluciano/Documents/Recherche/ABC-SBI-1/abcnre/examples/gauss_10D/results/estimator/estimator_simulator_observed_data.npy\n",
      "INFO:abcnre.simulation.simulator:Using provided epsilon = 7.289465\n",
      "INFO:abcnre.simulation.io:Loaded model: GaussGaussMultiDimModel\n",
      "INFO:abcnre.simulation.io:Loaded observed data from: /Users/antoineluciano/Documents/Recherche/ABC-SBI-1/abcnre/examples/gauss_10D/results/estimator/estimator_simulator_observed_data.npy\n",
      "INFO:abcnre.simulation.simulator:Using provided epsilon = 7.289465\n",
      "INFO:abcnre.training.registry:Registered networks: MLP, DeepSet, ConditionedDeepSet\n",
      "INFO:abcnre.training.registry:Set output_dim=1 for ConditionedDeepSet network\n",
      "INFO:abcnre.training.registry:Created ConditionedDeepSet network (from 'ConditionedDeepSet') for classifier\n",
      "INFO:abcnre.training.registry:Network args: {'activation': 'relu', 'use_layer_norm': True, 'dropout_rate': 0.0, 'pooling_type': 'mean', 'conditioning_mode': 'concat', 'phi_hidden_dims': [32, 16], 'rho_hidden_dims': [32, 16], 'output_dim': 1}\n",
      "INFO:abcnre.inference.io:Loaded trained params and log ratio function from: /Users/antoineluciano/Documents/Recherche/ABC-SBI-1/abcnre/examples/gauss_10D/results/estimator/estimator_classif_params.npz\n",
      "INFO:abcnre.inference.io:Loaded stored phis from: /Users/antoineluciano/Documents/Recherche/ABC-SBI-1/abcnre/examples/gauss_10D/results/estimator/estimator_stored_phis.npy\n",
      "INFO:abcnre.training.registry:Registered networks: MLP, DeepSet, ConditionedDeepSet\n",
      "INFO:abcnre.training.registry:Set output_dim=1 for ConditionedDeepSet network\n",
      "INFO:abcnre.training.registry:Created ConditionedDeepSet network (from 'ConditionedDeepSet') for classifier\n",
      "INFO:abcnre.training.registry:Network args: {'activation': 'relu', 'use_layer_norm': True, 'dropout_rate': 0.0, 'pooling_type': 'mean', 'conditioning_mode': 'concat', 'phi_hidden_dims': [32, 16], 'rho_hidden_dims': [32, 16], 'output_dim': 1}\n",
      "INFO:abcnre.inference.io:Loaded trained params and log ratio function from: /Users/antoineluciano/Documents/Recherche/ABC-SBI-1/abcnre/examples/gauss_10D/results/estimator/estimator_classif_params.npz\n",
      "INFO:abcnre.inference.io:Loaded stored phis from: /Users/antoineluciano/Documents/Recherche/ABC-SBI-1/abcnre/examples/gauss_10D/results/estimator/estimator_stored_phis.npy\n"
     ]
    },
    {
     "name": "stdout",
     "output_type": "stream",
     "text": [
      "--- Step 3.5: Load the NeuralRatioEstimator from YAML and check (Optional) ---\n",
      "Estimators match: YES\n"
     ]
    }
   ],
   "source": [
    "print(\"--- Step 3.5: Load the NeuralRatioEstimator from YAML and check (Optional) ---\")\n",
    "\n",
    "from abcnre.inference import load_estimator_from_yaml\n",
    "\n",
    "estimator_loaded = load_estimator_from_yaml(\n",
    "    results_dir / \"estimator\" / \"estimator.yaml\",\n",
    ")\n",
    "from abcnre.utils.comparison import are_estimators_equivalent\n",
    "\n",
    "estimators_match = are_estimators_equivalent(estimator, estimator_loaded)\n",
    "print(f\"Estimators match: {'YES' if estimators_match else 'NO'}\")"
   ]
  },
  {
   "cell_type": "code",
   "execution_count": 16,
   "id": "5707f795",
   "metadata": {},
   "outputs": [
    {
     "data": {
      "image/png": "[encoded data removed]",
      "text/plain": [
       "<Figure size 1200x800 with 1 Axes>"
      ]
     },
     "metadata": {},
     "output_type": "display_data"
    }
   ],
   "source": [
    "from abcnre.diagnostics.posterior import get_unnormalized_nre_pdf, get_normalized_pdf, get_unnormalized_corrected_nre_pdf\n",
    "from abcnre.diagnostics.viz import plot_posterior_comparison\n",
    "import numpy as np\n",
    "\n",
    "abc_phi_samples = estimator.stored_phis\n",
    "min_phi, max_phi = np.min(abc_phi_samples), np.max(abc_phi_samples)\n",
    "\n",
    "n_grid = 10000  # Number of grid points for the posterior distribution\n",
    "abc_phi_grid = np.linspace(min_phi, max_phi, n_grid)\n",
    "\n",
    "# Get posterior distributions\n",
    "unnormalized_pdf_func = get_unnormalized_nre_pdf(estimator)\n",
    "phi_grid, nre_pdf = get_normalized_pdf(unnormalized_pdf_func, \n",
    "                                       initial_bounds=(min_phi, max_phi), \n",
    "                                        n_grid_points=n_grid)\n",
    "\n",
    "# Get prior for plotting\n",
    "prior_pdf_values = simulator.model.prior_phi_pdf(abc_phi_grid)\n",
    "\n",
    "true_grid, true_pdf = get_normalized_pdf(simulator.model.get_posterior_phi_distribution(simulator.observed_data).pdf, initial_bounds=(min_phi, max_phi))\n",
    "\n",
    "unnormalized_corrected_pdf_func = get_unnormalized_corrected_nre_pdf(estimator)\n",
    "\n",
    "phi_corrected_grid, unnormalized_corrected_pdf = get_normalized_pdf(\n",
    "                                    unnormalized_pdf_func=unnormalized_corrected_pdf_func,\n",
    "                                    initial_bounds=(min_phi, max_phi),\n",
    "                                    n_grid_points=n_grid\n",
    ")\n",
    "\n",
    "phi_corrected_grid, unnormalized_corrected_pdf = get_normalized_pdf(\n",
    "    unnormalized_pdf_func=unnormalized_corrected_pdf_func,\n",
    "    initial_bounds=(min_phi, max_phi),\n",
    "    n_grid_points=n_grid\n",
    ")\n",
    "\n",
    "# Generate the comparison plot - flatten ABC samples to 1D\n",
    "plot_posterior_comparison(\n",
    "    distributions={\n",
    "        'NRE Posterior': (phi_grid, nre_pdf), \n",
    "        'ABC Posterior': abc_phi_samples.flatten(),  # Flatten to 1D array\n",
    "        'True Posterior': (true_grid, true_pdf), \n",
    "        'Corrected NRE Posterior': (phi_corrected_grid, unnormalized_corrected_pdf)\n",
    "    },\n",
    "    prior_pdf=(abc_phi_grid, prior_pdf_values),\n",
    "    # xlim=(18,22),\n",
    "    # save_path=output_dir / \"posterior_comparison.png\"\n",
    ")\n",
    "\n",
    "\n"
   ]
  },
  {
   "cell_type": "code",
   "execution_count": 14,
   "id": "e39a6aa3",
   "metadata": {},
   "outputs": [],
   "source": [
    "# from abcnre.diagnostics.calibration import run_abc_sbc\n",
    "# from abcnre.diagnostics.viz import plot_sbc_ranks\n",
    "\n",
    "# # --- Step 7: Simulation-Based Calibration (SBC) ---\n",
    "# print(\"\\n--- Step 7: Simulation-Based Calibration (SBC) ---\")\n",
    "# import jax\n",
    "# key  = jax.random.PRNGKey(42)\n",
    "# num_posterior_samples = 128  \n",
    "# sbc_results = run_abc_sbc(\n",
    "#     key=key,\n",
    "#     estimator=estimator,\n",
    "#     num_sbc_rounds=10,\n",
    "#     num_posterior_samples=num_posterior_samples\n",
    "# )\n",
    "\n",
    "\n",
    "# plot_sbc_ranks(sbc_results)"
   ]
  },
  {
   "cell_type": "code",
   "execution_count": 15,
   "id": "67ad7c07",
   "metadata": {},
   "outputs": [],
   "source": [
    "# print(\"\\n--- Step 8: Creating Samplers and Running Metrics ---\")\n",
    "# from abcnre.diagnostics.posterior import get_unnormalized_nre_pdf, get_normalized_pdf, get_unnormalized_corrected_nre_pdf, get_sampler_from_pdf\n",
    "# from abcnre.diagnostics.metrics import generate_and_evaluate_metrics, save_metrics_to_csv\n",
    "\n",
    "\n",
    "# # Define bounds for posterior calculation based on reference samples\n",
    "# min_phi = np.min(abc_phi_samples) - 1.0\n",
    "# max_phi = np.max(abc_phi_samples) + 1.0\n",
    "\n",
    "# # --- Create all necessary sampler functions ---\n",
    "# # A sampler is a function that takes (n_samples, key) and returns samples\n",
    "\n",
    "# unorm_nre_pdf = get_unnormalized_nre_pdf(estimator)\n",
    "# nre_sampler = get_sampler_from_pdf(\n",
    "#     unnormalized_pdf_func=unorm_nre_pdf,\n",
    "#     initial_bounds=(min_phi, max_phi)\n",
    "# )\n",
    "\n",
    "# unorm_corrected_nre_pdf = get_unnormalized_corrected_nre_pdf(\n",
    "#     estimator, phi_samples=abc_phi_samples\n",
    "# )\n",
    "# corrected_nre_sampler = get_sampler_from_pdf(\n",
    "#     unnormalized_pdf_func=unorm_corrected_nre_pdf,\n",
    "#     initial_bounds=(min_phi, max_phi)\n",
    "# )\n",
    "\n",
    "# true_sampler = simulator.get_true_posterior_samples\n",
    "\n",
    "# # abc_sampler = lambda: key, n_s:  simulator.get_abc_posterior_samples()\n",
    "\n",
    "# # --- Run the metrics suite ---\n",
    "# approx_samplers_dict = {\n",
    "#     \"NRE_Standard\": nre_sampler,\n",
    "#     \"NRE_Corrected\": corrected_nre_sampler,\n",
    "#     # \"ABC\": \n",
    "# }\n",
    "\n",
    "# # The key here will be split inside the function for each sampler\n",
    "# key = jax.random.PRNGKey(123)\n",
    "# all_metrics_results = generate_and_evaluate_metrics(\n",
    "#     key=key,\n",
    "#     true_sampler=true_sampler,\n",
    "#     approx_samplers_dict=approx_samplers_dict,\n",
    "#     n_samples=5000\n",
    "# )\n",
    "\n",
    "# print(\"\\n--- Quantitative Results ---\")\n",
    "# save_metrics_to_csv(all_metrics_results, results_dir / \"diagnostics_metrics.csv\")"
   ]
  }
 ],
 "metadata": {
  "kernelspec": {
   "display_name": "jax_env",
   "language": "python",
   "name": "python3"
  },
  "language_info": {
   "codemirror_mode": {
    "name": "ipython",
    "version": 3
   },
   "file_extension": ".py",
   "mimetype": "text/x-python",
   "name": "python",
   "nbconvert_exporter": "python",
   "pygments_lexer": "ipython3",
   "version": "3.10.13"
  }
 },
 "nbformat": 4,
 "nbformat_minor": 5
}
