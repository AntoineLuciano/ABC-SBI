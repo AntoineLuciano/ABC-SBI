{
 "cells": [
  {
   "cell_type": "code",
   "execution_count": 1,
   "id": "1dca4377-e05e-44f5-984d-940542aaaf45",
   "metadata": {},
   "outputs": [],
   "source": [
    "from pathlib import Path\n",
    "import yaml\n",
    "%load_ext autoreload\n",
    "%autoreload 2\n",
    "\n",
    "current_dir = Path().resolve() \n",
    "parent_dir = current_dir.parent    \n",
    "results_dir = parent_dir / \"results\""
   ]
  },
  {
   "cell_type": "code",
   "execution_count": 16,
   "id": "65260567-97e5-41a3-a268-31336322b834",
   "metadata": {},
   "outputs": [],
   "source": [
    "from abcnre.simulation.models import GaussGaussMultiDimModel\n",
    "from abcnre.simulation.samplers import SummarizedStatisticalModel, RejectionSampler\n",
    "from abcnre.simulation.utils import get_epsilon_quantile, get_io_generator, create_summary_stats_fn\n",
    "\n",
    "from abcnre.training import get_nn_config\n",
    "\n",
    "import jax\n",
    "import jax.numpy as jnp\n",
    "from jax import random\n",
    "\n",
    "from typing import Callable, Tuple, Any, Dict, Optional, Union\n",
    "\n",
    "import matplotlib.pyplot as plt\n",
    "\n",
    "key = jax.random.PRNGKey(123)\n",
    "\n",
    "def comp_plot(x, y, ax=None):\n",
    "    if ax:\n",
    "        ax.plot(x, y, 'b.')\n",
    "        ax.plot(x, x, 'k-')\n",
    "    else:\n",
    "        plt.plot(x, y, 'b.')\n",
    "        plt.plot(x, x, 'k-')"
   ]
  },
  {
   "cell_type": "code",
   "execution_count": 3,
   "id": "253daa0f-b5e3-4828-a4c7-c8f6ca26e2ee",
   "metadata": {},
   "outputs": [
    {
     "data": {
      "text/plain": [
       "Array([[-1.4444284 ],\n",
       "       [ 1.7635945 ],\n",
       "       [-1.4011569 ],\n",
       "       [ 0.23181824],\n",
       "       [ 1.5486579 ]], dtype=float32)"
      ]
     },
     "execution_count": 3,
     "metadata": {},
     "output_type": "execute_result"
    }
   ],
   "source": [
    "# Set up a model to generate draws from the first component of a 2d Gaussian\n",
    "\n",
    "model = GaussGaussMultiDimModel(mu0=0., sigma0=1.0, sigma=2.0, dim=2, n_obs=5)\n",
    "model0 = SummarizedStatisticalModel(model, lambda theta: jnp.array([ theta[0] ]))\n",
    "key, _key = jax.random.split(key, 2)\n",
    "phi_draws, x_draws = model0.sample_theta_x_multiple(_key, 5)\n",
    "phi_draws"
   ]
  },
  {
   "cell_type": "code",
   "execution_count": 4,
   "id": "45d00834-0095-4ba7-af90-d17125f178e0",
   "metadata": {},
   "outputs": [],
   "source": [
    "nn_config = get_nn_config(network_name=\"deepset\",\n",
    "                          network_size = \"default\",\n",
    "                          training_size = \"default\",\n",
    "                          task_type = \"regressor\",\n",
    "                          lr_scheduler_name = \"reduce_on_plateau\",\n",
    "                          lr_scheduler_variant = \"default\",\n",
    "                          stopping_rules_variant = \"balanced\",\n",
    "                          experiment_name = None)"
   ]
  },
  {
   "cell_type": "code",
   "execution_count": 5,
   "id": "cc3e0f85-3865-4f7b-ac80-6b5f812b116a",
   "metadata": {},
   "outputs": [
    {
     "name": "stdout",
     "output_type": "stream",
     "text": [
      "True\n",
      "True\n",
      "False\n"
     ]
    }
   ],
   "source": [
    "print(hasattr(nn_config.training, \"stopping_rules\"))\n",
    "print(isinstance(nn_config.training.stopping_rules, dict))\n",
    "print(hasattr(nn_config.training.stopping_rules, \"sample_stopping\"))"
   ]
  },
  {
   "cell_type": "code",
   "execution_count": 6,
   "id": "0f4bf224-1f87-4cff-8f66-a45666d75171",
   "metadata": {},
   "outputs": [],
   "source": [
    "# RG: Why is it even possible for it to be both StoppingRulesConfig or Dict?\n",
    "n_samples_max = jnp.inf\n",
    "if isinstance(nn_config.training.stopping_rules, dict):\n",
    "    # Working with dictionary format - need to modify it\n",
    "    if \"sample_stopping\" not in nn_config.training.stopping_rules:\n",
    "        nn_config.training.stopping_rules[\"sample_stopping\"] = {}\n",
    "\n",
    "    nn_config.training.stopping_rules[\"sample_stopping\"][\"enabled\"] = True\n",
    "    nn_config.training.stopping_rules[\"sample_stopping\"][\n",
    "        \"max_samples\"\n",
    "    ] = n_samples_max\n",
    "elif hasattr(nn_config.training.stopping_rules, \"sample_stopping\"):\n",
    "    # Working with StoppingRulesConfig object\n",
    "    nn_config.training.stopping_rules.sample_stopping.enabled = True\n",
    "    nn_config.training.stopping_rules.sample_stopping.max_samples = (\n",
    "        n_samples_max\n",
    "    )"
   ]
  },
  {
   "cell_type": "code",
   "execution_count": 7,
   "id": "72b1b557-8726-4b55-b6f1-cb51bb3ea9bc",
   "metadata": {},
   "outputs": [
    {
     "data": {
      "text/plain": [
       "{'input': Array([[[-1.4092901 ,  0.35230592],\n",
       "         [-1.99227   , -0.6037842 ],\n",
       "         [-1.5806706 ,  2.8814423 ],\n",
       "         [-0.40986162, -1.5043074 ],\n",
       "         [-0.59669155, -1.0447356 ]],\n",
       " \n",
       "        [[ 0.08437496, -0.43321306],\n",
       "         [-0.92502487, -0.26413488],\n",
       "         [ 1.194182  , -1.5840983 ],\n",
       "         [-0.22363687,  0.03412068],\n",
       "         [-1.6675947 , -0.02828574]]], dtype=float32),\n",
       " 'output': Array([[-0.37115902],\n",
       "        [-0.7742927 ]], dtype=float32),\n",
       " 'n_simulations': 2}"
      ]
     },
     "execution_count": 7,
     "metadata": {},
     "output_type": "execute_result"
    }
   ],
   "source": [
    "io_generator = get_io_generator(model0.sample_theta_x_multiple)\n",
    "io_generator(key, 2)"
   ]
  },
  {
   "cell_type": "code",
   "execution_count": 8,
   "id": "1540a57e-e4c4-4302-b5bd-5887be91268b",
   "metadata": {},
   "outputs": [],
   "source": [
    "# Train a nn\n",
    "from abcnre.training import train_nn\n",
    "key, train_key = random.split(key)\n",
    "summary_results = train_nn(key=train_key, config=nn_config, io_generator=io_generator)"
   ]
  },
  {
   "cell_type": "code",
   "execution_count": 9,
   "id": "7168f2c9-cee6-494e-95ae-05520e536c7a",
   "metadata": {},
   "outputs": [],
   "source": [
    "summary_fn = create_summary_stats_fn(\n",
    "    network=summary_results.network,\n",
    "    params=summary_results.params)"
   ]
  },
  {
   "cell_type": "code",
   "execution_count": 10,
   "id": "26a2048d-951c-4c68-9d5f-2986a46e7766",
   "metadata": {},
   "outputs": [],
   "source": [
    "key, key_ = random.split(key)\n",
    "phi_draws, x_draws = model0.sample_theta_x_multiple(key_, n_samples=1000)"
   ]
  },
  {
   "cell_type": "code",
   "execution_count": 11,
   "id": "1bf79af7-70aa-4f6e-9cb4-364118101fc1",
   "metadata": {},
   "outputs": [],
   "source": [
    "x_draws.shape\n",
    "x_means = jnp.mean(x_draws[:, :, 0], axis=1) # The correct summary statistic\n",
    "x_nn_means = summary_fn(x_draws)"
   ]
  },
  {
   "cell_type": "code",
   "execution_count": 17,
   "id": "6a0cfc56-961c-4664-b6ff-0ebbb25244c3",
   "metadata": {},
   "outputs": [
    {
     "data": {
      "image/png": "[encoded data removed]",
      "text/plain": [
       "<Figure size 640x480 with 2 Axes>"
      ]
     },
     "metadata": {},
     "output_type": "display_data"
    }
   ],
   "source": [
    "_, axs = plt.subplots(1, 2)\n",
    "comp_plot(x_means, x_nn_means, axs[0])\n",
    "comp_plot(phi_draws, x_nn_means, axs[1])"
   ]
  },
  {
   "cell_type": "code",
   "execution_count": null,
   "id": "f6759ea1",
   "metadata": {},
   "outputs": [],
   "source": [
    "print(\"--- Step 2.1: Sample x_obs and initialize the ABCSimulator ---\")\n",
    "\n",
    "true_theta = 2.5\n",
    "key, subkey_sample = jax.random.split(key)\n",
    "x_obs = simulator.model.simulate_data(subkey_sample, true_theta)\n",
    "\n",
    "simulator.update_observed_data(x_obs)\n",
    "print(f\"Observation x_obs: {x_obs}\")\n",
    "\n",
    "quantile_distance = 1.\n",
    "key, subkey_epsilon = jax.random.split(key)\n",
    "simulator.set_epsilon_from_quantile(key = subkey_epsilon, quantile_distance=quantile_distance, n_samples=10000)"
   ]
  },
  {
   "cell_type": "code",
   "execution_count": null,
   "id": "9833451b",
   "metadata": {},
   "outputs": [],
   "source": [
    "print(\"--- Step 2.2: Save model to YAML (Optional) ---\")\n",
    "\n",
    "from abcnre.simulation import save_simulator_to_yaml\n",
    "\n",
    "\n",
    "save_simulator_to_yaml(\n",
    "    simulator,\n",
    "    results_dir / \"simulator\" / \"simulator.yaml\",\n",
    "    overwrite=True\n",
    ")"
   ]
  },
  {
   "cell_type": "code",
   "execution_count": null,
   "id": "1afd2b60",
   "metadata": {},
   "outputs": [],
   "source": [
    "print(\"--- Step 2.3 : Load model from YAML and check (Optional) ---\")\n",
    "\n",
    "from abcnre.simulation import load_simulator_from_yaml\n",
    "simulator_loaded = load_simulator_from_yaml(\n",
    "    results_dir / \"simulator\" / \"simulator.yaml\",\n",
    ")\n",
    "\n",
    "key, key_samples, key_samples_load = jax.random.split(key, 3)\n",
    "samples = simulator_loaded.generate_samples(key_samples, n_samples=100000)\n",
    "samples_load = simulator_loaded.generate_samples(key_samples_load, n_samples=100000)\n",
    "\n",
    "import seaborn as sns\n",
    "import matplotlib.pyplot as plt\n",
    "sns.kdeplot(samples.phi.flatten(), label=\"Samples from simulator\"\n",
    "            )\n",
    "sns.kdeplot(samples_load.phi.flatten(), label=\"Samples from loaded simulator\")\n",
    "plt.legend()\n",
    "plt.title(\"Phi marginal of the two simulators\")\n",
    "plt.xlabel(\"Phi samples\")"
   ]
  },
  {
   "cell_type": "code",
   "execution_count": null,
   "id": "dd8c3643",
   "metadata": {},
   "outputs": [],
   "source": [
    "from abcnre.training import NNConfig, NetworkConfig, TrainingConfig, get_nn_config\n",
    "print(\"--- Step 3.1: Create NNConfig for training ---\")\n",
    "nn_config = get_nn_config(network_name=\"mlp\",\n",
    "                          network_size = \"default\",\n",
    "                          training_size = \"default\",\n",
    "                          task_type = \"classifier\",\n",
    "                          lr_scheduler_name = \"reduce_on_plateau\",\n",
    "                          lr_scheduler_variant = \"default\",\n",
    "                          stopping_rules_variant = \"balanced\",\n",
    "                          experiment_name = None)\n",
    "\n",
    "\n",
    "nn_config.training.num_epochs = 500\n",
    "nn_config.training.batch_size = 1024\n",
    "nn_config.training.n_samples_per_epoch = 10240\n",
    "nn_config.training.learning_rate = 1e-2\n",
    "nn_config.training.optimizer= \"adamw\"\n",
    "nn_config.training.weight_decay = 1e-3"
   ]
  },
  {
   "cell_type": "code",
   "execution_count": null,
   "id": "c406b98d",
   "metadata": {},
   "outputs": [],
   "source": [
    "print(\"--- Step 3.2: Create NeuralRatioEstimator ---\")\n",
    "\n",
    "from abcnre.inference import NeuralRatioEstimator    \n",
    "\n",
    "estimator = NeuralRatioEstimator(\n",
    "    nn_config=nn_config,\n",
    "    simulator=simulator)"
   ]
  },
  {
   "cell_type": "code",
   "execution_count": null,
   "id": "b8018464",
   "metadata": {},
   "outputs": [],
   "source": [
    "print(\"--- Step 3.3: Train the NeuralRatioEstimator ---\")\n",
    "\n",
    "key, key_train = jax.random.split(key)\n",
    "res = estimator.train(key_train, n_phi_to_store = 10000)"
   ]
  },
  {
   "cell_type": "code",
   "execution_count": null,
   "id": "7020b30b",
   "metadata": {},
   "outputs": [],
   "source": [
    "print(\"--- Step 3.4: Save the NeuralRatioEstimator to YAML (Optional) ---\")\n",
    "\n",
    "from abcnre.inference.io import save_estimator_to_yaml\n",
    "save_estimator_to_yaml(\n",
    "    estimator,\n",
    "    results_dir / \"estimator\" / \"estimator.yaml\",\n",
    "    overwrite=True\n",
    ")\n"
   ]
  },
  {
   "cell_type": "code",
   "execution_count": null,
   "id": "0deab27d",
   "metadata": {},
   "outputs": [],
   "source": [
    "print(\"--- Step 3.5: Load the NeuralRatioEstimator from YAML and check (Optional) ---\")\n",
    "\n",
    "from abcnre.inference import load_estimator_from_yaml\n",
    "\n",
    "estimator_loaded = load_estimator_from_yaml(\n",
    "    results_dir / \"estimator\" / \"estimator.yaml\",\n",
    ")\n",
    "\n",
    "key, key_samples_estimator, key_samples_estimator_load = jax.random.split(key, 3)\n",
    "samples_estimator = estimator.simulator.generate_samples(key_samples_estimator, n_samples=100000)\n",
    "samples_estimator_load = estimator_loaded.simulator.generate_samples(key_samples_estimator_load, n_samples=100000)\n",
    "import seaborn as sns\n",
    "import matplotlib.pyplot as plt\n",
    "sns.kdeplot(samples_estimator.phi.flatten(), label=\"Samples from estimator\")\n",
    "sns.kdeplot(samples_estimator_load.phi.flatten(), label=\"Samples from loaded estimator\")\n",
    "plt.legend()\n",
    "plt.title(\"Phi marginal of the two estimators\") "
   ]
  }
 ],
 "metadata": {
  "kernelspec": {
   "display_name": "ABC-SBI-kernel",
   "language": "python",
   "name": "abc-sbi-kernel"
  },
  "language_info": {
   "codemirror_mode": {
    "name": "ipython",
    "version": 3
   },
   "file_extension": ".py",
   "mimetype": "text/x-python",
   "name": "python",
   "nbconvert_exporter": "python",
   "pygments_lexer": "ipython3",
   "version": "3.10.12"
  }
 },
 "nbformat": 4,
 "nbformat_minor": 5
}
