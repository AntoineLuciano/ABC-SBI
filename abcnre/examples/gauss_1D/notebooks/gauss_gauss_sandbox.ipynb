{
 "cells": [
  {
   "cell_type": "code",
   "execution_count": 1,
   "id": "1dca4377-e05e-44f5-984d-940542aaaf45",
   "metadata": {},
   "outputs": [],
   "source": [
    "from pathlib import Path\n",
    "import yaml\n",
    "%load_ext autoreload\n",
    "%autoreload 2\n",
    "\n",
    "current_dir = Path().resolve() \n",
    "parent_dir = current_dir.parent    \n",
    "results_dir = parent_dir / \"results\""
   ]
  },
  {
   "cell_type": "code",
   "execution_count": 2,
   "id": "65260567-97e5-41a3-a268-31336322b834",
   "metadata": {},
   "outputs": [
    {
     "name": "stderr",
     "output_type": "stream",
     "text": [
      "WARNING:2025-08-06 13:44:53,671:jax._src.xla_bridge:966: An NVIDIA GPU may be present on this machine, but a CUDA-enabled jaxlib is not installed. Falling back to cpu.\n"
     ]
    }
   ],
   "source": [
    "from abcnre.simulation.models import GaussGaussModel, GaussGaussMultiDimModel\n",
    "from abcnre.simulation.samplers import SummarizedStatisticalModel, RejectionSampler\n",
    "from abcnre.simulation.utils import \\\n",
    "    get_epsilon_quantile, get_io_generator, create_summary_stats_fn, get_discrepancy_fun\n",
    "\n",
    "from abcnre.training import get_nn_config, train_nn\n",
    "\n",
    "import jax\n",
    "import jax.numpy as jnp\n",
    "from jax import random\n",
    "\n",
    "from typing import Callable, Tuple, Any, Dict, Optional, Union\n",
    "\n",
    "import matplotlib.pyplot as plt\n",
    "\n",
    "key = jax.random.PRNGKey(123)\n",
    "\n",
    "def comp_plot(x, y, ax=None):\n",
    "    if ax:\n",
    "        ax.plot(x, y, 'b.')\n",
    "        ax.plot(x, x, 'k-')\n",
    "    else:\n",
    "        plt.plot(x, y, 'b.')\n",
    "        plt.plot(x, x, 'k-')"
   ]
  },
  {
   "cell_type": "markdown",
   "id": "723bc239-6fcb-40a9-a96c-5b8282d11a63",
   "metadata": {},
   "source": [
    "# Set up a model to generate draws from the first component of a 2d Gaussian"
   ]
  },
  {
   "cell_type": "code",
   "execution_count": 3,
   "id": "253daa0f-b5e3-4828-a4c7-c8f6ca26e2ee",
   "metadata": {},
   "outputs": [],
   "source": [
    "model = GaussGaussMultiDimModel(mu0=0., sigma0=1.0, sigma=2.0, dim=2, n_obs=30)\n",
    "target_ind = 0\n",
    "model0 = SummarizedStatisticalModel(model, lambda theta: jnp.array([ theta[target_ind] ]))\n",
    "model_marg = GaussGaussModel(\n",
    "    mu0=model.mu0[target_ind],\n",
    "    sigma0=model.sigma0[target_ind, target_ind],\n",
    "    sigma=model.sigma[target_ind, target_ind],\n",
    "    n_obs=model.n_obs)\n",
    "\n",
    "key, _key = jax.random.split(key, 2)\n",
    "phi_draws, x_draws = model0.sample_theta_x_multiple(_key, 5)\n",
    "phi_draws\n",
    "\n",
    "key, _key = jax.random.split(key, 2)\n",
    "theta_obs, x_obs = model0.sample_theta_x(_key)\n",
    "post_true = model_marg.get_posterior_stats(x_obs)"
   ]
  },
  {
   "cell_type": "markdown",
   "id": "923dc214-ae3f-4be7-84d8-3dada9cf6b98",
   "metadata": {},
   "source": [
    "# Attempt to learn the optimal summary statistic (the sample mean)"
   ]
  },
  {
   "cell_type": "code",
   "execution_count": 5,
   "id": "45d00834-0095-4ba7-af90-d17125f178e0",
   "metadata": {},
   "outputs": [],
   "source": [
    "nn_config = get_nn_config(network_name=\"deepset\",\n",
    "                          network_size = \"default\",\n",
    "                          training_size = \"default\",\n",
    "                          task_type = \"regressor\",\n",
    "                          lr_scheduler_name = \"reduce_on_plateau\",\n",
    "                          lr_scheduler_variant = \"default\",\n",
    "                          stopping_rules_variant = \"balanced\",\n",
    "                          experiment_name = None)"
   ]
  },
  {
   "cell_type": "code",
   "execution_count": 6,
   "id": "cc3e0f85-3865-4f7b-ac80-6b5f812b116a",
   "metadata": {},
   "outputs": [
    {
     "name": "stdout",
     "output_type": "stream",
     "text": [
      "True\n",
      "True\n",
      "False\n"
     ]
    }
   ],
   "source": [
    "print(hasattr(nn_config.training, \"stopping_rules\"))\n",
    "print(isinstance(nn_config.training.stopping_rules, dict))\n",
    "print(hasattr(nn_config.training.stopping_rules, \"sample_stopping\"))"
   ]
  },
  {
   "cell_type": "code",
   "execution_count": 7,
   "id": "0f4bf224-1f87-4cff-8f66-a45666d75171",
   "metadata": {},
   "outputs": [],
   "source": [
    "# RG: Why is it even possible for it to be both StoppingRulesConfig or Dict?\n",
    "n_samples_max = jnp.inf\n",
    "if isinstance(nn_config.training.stopping_rules, dict):\n",
    "    # Working with dictionary format - need to modify it\n",
    "    if \"sample_stopping\" not in nn_config.training.stopping_rules:\n",
    "        nn_config.training.stopping_rules[\"sample_stopping\"] = {}\n",
    "\n",
    "    nn_config.training.stopping_rules[\"sample_stopping\"][\"enabled\"] = True\n",
    "    nn_config.training.stopping_rules[\"sample_stopping\"][\n",
    "        \"max_samples\"\n",
    "    ] = n_samples_max\n",
    "elif hasattr(nn_config.training.stopping_rules, \"sample_stopping\"):\n",
    "    # Working with StoppingRulesConfig object\n",
    "    nn_config.training.stopping_rules.sample_stopping.enabled = True\n",
    "    nn_config.training.stopping_rules.sample_stopping.max_samples = (\n",
    "        n_samples_max\n",
    "    )"
   ]
  },
  {
   "cell_type": "code",
   "execution_count": 8,
   "id": "1540a57e-e4c4-4302-b5bd-5887be91268b",
   "metadata": {},
   "outputs": [],
   "source": [
    "# Train a nn\n",
    "io_generator = get_io_generator(model0.sample_theta_x_multiple)\n",
    "key, train_key = random.split(key)\n",
    "summary_results = train_nn(key=train_key, config=nn_config, io_generator=io_generator)"
   ]
  },
  {
   "cell_type": "code",
   "execution_count": 9,
   "id": "7168f2c9-cee6-494e-95ae-05520e536c7a",
   "metadata": {},
   "outputs": [],
   "source": [
    "summary_fn = create_summary_stats_fn(\n",
    "    network=summary_results.network,\n",
    "    params=summary_results.params)"
   ]
  },
  {
   "cell_type": "markdown",
   "id": "0e32a1ed-e16d-42d0-8743-7c90a4d4cdc5",
   "metadata": {},
   "source": [
    "## Check the performance against the known optimal summary statistic"
   ]
  },
  {
   "cell_type": "code",
   "execution_count": 10,
   "id": "1bf79af7-70aa-4f6e-9cb4-364118101fc1",
   "metadata": {},
   "outputs": [],
   "source": [
    "key, key_ = random.split(key)\n",
    "phi_draws, x_draws = model0.sample_theta_x_multiple(key_, n_samples=1000)\n",
    "x_means = jnp.mean(x_draws[:, :, 0], axis=1) # The correct summary statistic\n",
    "x_nn_means = summary_fn(x_draws)"
   ]
  },
  {
   "cell_type": "code",
   "execution_count": 11,
   "id": "6a0cfc56-961c-4664-b6ff-0ebbb25244c3",
   "metadata": {},
   "outputs": [
    {
     "data": {
      "text/plain": [
       "Text(0, 0.5, 'NN output')"
      ]
     },
     "execution_count": 11,
     "metadata": {},
     "output_type": "execute_result"
    },
    {
     "data": {
      "image/png": "[encoded data removed]",
      "text/plain": [
       "<Figure size 640x480 with 2 Axes>"
      ]
     },
     "metadata": {},
     "output_type": "display_data"
    }
   ],
   "source": [
    "_, axs = plt.subplots(1, 2)\n",
    "comp_plot(x_means, x_nn_means, axs[0])\n",
    "axs[0].set_xlabel(\"Sample mean\")\n",
    "axs[0].set_ylabel(\"NN output\")\n",
    "comp_plot(phi_draws, x_nn_means, axs[1])\n",
    "axs[1].set_xlabel(\"True phi\")\n",
    "axs[1].set_ylabel(\"NN output\")\n"
   ]
  },
  {
   "cell_type": "markdown",
   "id": "9f70788c-cdc6-4eb7-b5f7-dab7a809b6f2",
   "metadata": {},
   "source": [
    "## Define a rejection sampler using the NN"
   ]
  },
  {
   "cell_type": "code",
   "execution_count": 19,
   "id": "bccf5202-a7f6-4207-8145-cf4c0c20deef",
   "metadata": {},
   "outputs": [
    {
     "name": "stdout",
     "output_type": "stream",
     "text": [
      "0.099999994  = should be appriximately alpha\n"
     ]
    }
   ],
   "source": [
    "d_fn = get_discrepancy_fun(x_obs, summary_fn)\n",
    "key, key_ = random.split(key)\n",
    "epsilon, epsilons = get_epsilon_quantile(key_, model0.sample_theta_x_multiple, d_fn, alpha=0.1)\n",
    "\n",
    "print(jnp.mean(epsilons <= epsilon), \" = should be appriximately alpha\")"
   ]
  },
  {
   "cell_type": "code",
   "execution_count": 20,
   "id": "fb91fd41-0c8b-46a4-8481-2684b7d8ccc7",
   "metadata": {},
   "outputs": [],
   "source": [
    "model_abc = RejectionSampler(model0, discrepancy_fn=d_fn, epsilon=epsilon)"
   ]
  },
  {
   "cell_type": "code",
   "execution_count": 21,
   "id": "e57c5d7d-cee3-47c4-84dc-9e182799520d",
   "metadata": {},
   "outputs": [],
   "source": [
    "key, key_ = random.split(key)\n",
    "phi_abc, _ = model_abc.sample_theta_x_multiple(key_, 10000, cache=True)"
   ]
  },
  {
   "cell_type": "code",
   "execution_count": 22,
   "id": "19454937-9bd0-479a-8dab-6232c8a26330",
   "metadata": {},
   "outputs": [
    {
     "name": "stdout",
     "output_type": "stream",
     "text": [
      "8.7337\n"
     ]
    }
   ],
   "source": [
    "abc_metadata = model_abc.get_cache(key_, 10000)\n",
    "print(jnp.mean(abc_metadata.rejection_count))"
   ]
  },
  {
   "cell_type": "code",
   "execution_count": 23,
   "id": "060ffca4-f690-4d60-98f6-83a1f82b6b8d",
   "metadata": {},
   "outputs": [
    {
     "data": {
      "text/plain": [
       "[<matplotlib.lines.Line2D at 0x7bb44ff239a0>]"
      ]
     },
     "execution_count": 23,
     "metadata": {},
     "output_type": "execute_result"
    },
    {
     "data": {
      "image/png": "[encoded data removed]",
      "text/plain": [
       "<Figure size 640x480 with 1 Axes>"
      ]
     },
     "metadata": {},
     "output_type": "display_data"
    }
   ],
   "source": [
    "# Compare the true posterior to ABC\n",
    "post_dist = model_marg.get_posterior_distribution(x_obs)\n",
    "post_dist.pdf(0.5)\n",
    "\n",
    "abc_n, abc_bins, _ = plt.hist(phi_abc, 50);\n",
    "dx = abc_bins[1] - abc_bins[0]\n",
    "plt.plot(abc_bins, post_dist.pdf(abc_bins) * dx * jnp.sum(abc_n))"
   ]
  },
  {
   "cell_type": "markdown",
   "id": "7c5eb86c-c9ef-473c-978e-81ea5a47fce8",
   "metadata": {},
   "source": [
    "# Train a classifier-based NRE"
   ]
  },
  {
   "cell_type": "code",
   "execution_count": 18,
   "id": "f6759ea1",
   "metadata": {},
   "outputs": [
    {
     "name": "stdout",
     "output_type": "stream",
     "text": [
      "--- Step 2.1: Sample x_obs and initialize the ABCSimulator ---\n"
     ]
    },
    {
     "ename": "NameError",
     "evalue": "name 'simulator' is not defined",
     "output_type": "error",
     "traceback": [
      "\u001b[0;31m---------------------------------------------------------------------------\u001b[0m",
      "\u001b[0;31mNameError\u001b[0m                                 Traceback (most recent call last)",
      "Cell \u001b[0;32mIn[18], line 5\u001b[0m\n\u001b[1;32m      3\u001b[0m true_theta \u001b[38;5;241m=\u001b[39m \u001b[38;5;241m2.5\u001b[39m\n\u001b[1;32m      4\u001b[0m key, subkey_sample \u001b[38;5;241m=\u001b[39m jax\u001b[38;5;241m.\u001b[39mrandom\u001b[38;5;241m.\u001b[39msplit(key)\n\u001b[0;32m----> 5\u001b[0m x_obs \u001b[38;5;241m=\u001b[39m \u001b[43msimulator\u001b[49m\u001b[38;5;241m.\u001b[39mmodel\u001b[38;5;241m.\u001b[39msimulate_data(subkey_sample, true_theta)\n\u001b[1;32m      7\u001b[0m simulator\u001b[38;5;241m.\u001b[39mupdate_observed_data(x_obs)\n\u001b[1;32m      8\u001b[0m \u001b[38;5;28mprint\u001b[39m(\u001b[38;5;124mf\u001b[39m\u001b[38;5;124m\"\u001b[39m\u001b[38;5;124mObservation x_obs: \u001b[39m\u001b[38;5;132;01m{\u001b[39;00mx_obs\u001b[38;5;132;01m}\u001b[39;00m\u001b[38;5;124m\"\u001b[39m)\n",
      "\u001b[0;31mNameError\u001b[0m: name 'simulator' is not defined"
     ]
    }
   ],
   "source": [
    "print(\"--- Step 2.1: Sample x_obs and initialize the ABCSimulator ---\")\n",
    "\n",
    "true_theta = 2.5\n",
    "key, subkey_sample = jax.random.split(key)\n",
    "x_obs = simulator.model.simulate_data(subkey_sample, true_theta)\n",
    "\n",
    "simulator.update_observed_data(x_obs)\n",
    "print(f\"Observation x_obs: {x_obs}\")\n",
    "\n",
    "quantile_distance = 1.\n",
    "key, subkey_epsilon = jax.random.split(key)\n",
    "simulator.set_epsilon_from_quantile(key = subkey_epsilon, quantile_distance=quantile_distance, n_samples=10000)"
   ]
  },
  {
   "cell_type": "code",
   "execution_count": null,
   "id": "9833451b",
   "metadata": {},
   "outputs": [],
   "source": [
    "print(\"--- Step 2.2: Save model to YAML (Optional) ---\")\n",
    "\n",
    "from abcnre.simulation import save_simulator_to_yaml\n",
    "\n",
    "\n",
    "save_simulator_to_yaml(\n",
    "    simulator,\n",
    "    results_dir / \"simulator\" / \"simulator.yaml\",\n",
    "    overwrite=True\n",
    ")"
   ]
  },
  {
   "cell_type": "code",
   "execution_count": null,
   "id": "1afd2b60",
   "metadata": {},
   "outputs": [],
   "source": [
    "print(\"--- Step 2.3 : Load model from YAML and check (Optional) ---\")\n",
    "\n",
    "from abcnre.simulation import load_simulator_from_yaml\n",
    "simulator_loaded = load_simulator_from_yaml(\n",
    "    results_dir / \"simulator\" / \"simulator.yaml\",\n",
    ")\n",
    "\n",
    "key, key_samples, key_samples_load = jax.random.split(key, 3)\n",
    "samples = simulator_loaded.generate_samples(key_samples, n_samples=100000)\n",
    "samples_load = simulator_loaded.generate_samples(key_samples_load, n_samples=100000)\n",
    "\n",
    "import seaborn as sns\n",
    "import matplotlib.pyplot as plt\n",
    "sns.kdeplot(samples.phi.flatten(), label=\"Samples from simulator\"\n",
    "            )\n",
    "sns.kdeplot(samples_load.phi.flatten(), label=\"Samples from loaded simulator\")\n",
    "plt.legend()\n",
    "plt.title(\"Phi marginal of the two simulators\")\n",
    "plt.xlabel(\"Phi samples\")"
   ]
  },
  {
   "cell_type": "code",
   "execution_count": null,
   "id": "dd8c3643",
   "metadata": {},
   "outputs": [],
   "source": [
    "from abcnre.training import NNConfig, NetworkConfig, TrainingConfig, get_nn_config\n",
    "print(\"--- Step 3.1: Create NNConfig for training ---\")\n",
    "nn_config = get_nn_config(network_name=\"mlp\",\n",
    "                          network_size = \"default\",\n",
    "                          training_size = \"default\",\n",
    "                          task_type = \"classifier\",\n",
    "                          lr_scheduler_name = \"reduce_on_plateau\",\n",
    "                          lr_scheduler_variant = \"default\",\n",
    "                          stopping_rules_variant = \"balanced\",\n",
    "                          experiment_name = None)\n",
    "\n",
    "\n",
    "nn_config.training.num_epochs = 500\n",
    "nn_config.training.batch_size = 1024\n",
    "nn_config.training.n_samples_per_epoch = 10240\n",
    "nn_config.training.learning_rate = 1e-2\n",
    "nn_config.training.optimizer= \"adamw\"\n",
    "nn_config.training.weight_decay = 1e-3"
   ]
  },
  {
   "cell_type": "code",
   "execution_count": null,
   "id": "c406b98d",
   "metadata": {},
   "outputs": [],
   "source": [
    "print(\"--- Step 3.2: Create NeuralRatioEstimator ---\")\n",
    "\n",
    "from abcnre.inference import NeuralRatioEstimator    \n",
    "\n",
    "estimator = NeuralRatioEstimator(\n",
    "    nn_config=nn_config,\n",
    "    simulator=simulator)"
   ]
  },
  {
   "cell_type": "code",
   "execution_count": null,
   "id": "b8018464",
   "metadata": {},
   "outputs": [],
   "source": [
    "print(\"--- Step 3.3: Train the NeuralRatioEstimator ---\")\n",
    "\n",
    "key, key_train = jax.random.split(key)\n",
    "res = estimator.train(key_train, n_phi_to_store = 10000)"
   ]
  },
  {
   "cell_type": "code",
   "execution_count": null,
   "id": "7020b30b",
   "metadata": {},
   "outputs": [],
   "source": [
    "print(\"--- Step 3.4: Save the NeuralRatioEstimator to YAML (Optional) ---\")\n",
    "\n",
    "from abcnre.inference.io import save_estimator_to_yaml\n",
    "save_estimator_to_yaml(\n",
    "    estimator,\n",
    "    results_dir / \"estimator\" / \"estimator.yaml\",\n",
    "    overwrite=True\n",
    ")\n"
   ]
  },
  {
   "cell_type": "code",
   "execution_count": null,
   "id": "0deab27d",
   "metadata": {},
   "outputs": [],
   "source": [
    "print(\"--- Step 3.5: Load the NeuralRatioEstimator from YAML and check (Optional) ---\")\n",
    "\n",
    "from abcnre.inference import load_estimator_from_yaml\n",
    "\n",
    "estimator_loaded = load_estimator_from_yaml(\n",
    "    results_dir / \"estimator\" / \"estimator.yaml\",\n",
    ")\n",
    "\n",
    "key, key_samples_estimator, key_samples_estimator_load = jax.random.split(key, 3)\n",
    "samples_estimator = estimator.simulator.generate_samples(key_samples_estimator, n_samples=100000)\n",
    "samples_estimator_load = estimator_loaded.simulator.generate_samples(key_samples_estimator_load, n_samples=100000)\n",
    "import seaborn as sns\n",
    "import matplotlib.pyplot as plt\n",
    "sns.kdeplot(samples_estimator.phi.flatten(), label=\"Samples from estimator\")\n",
    "sns.kdeplot(samples_estimator_load.phi.flatten(), label=\"Samples from loaded estimator\")\n",
    "plt.legend()\n",
    "plt.title(\"Phi marginal of the two estimators\") "
   ]
  }
 ],
 "metadata": {
  "kernelspec": {
   "display_name": "ABC-SBI-kernel",
   "language": "python",
   "name": "abc-sbi-kernel"
  },
  "language_info": {
   "codemirror_mode": {
    "name": "ipython",
    "version": 3
   },
   "file_extension": ".py",
   "mimetype": "text/x-python",
   "name": "python",
   "nbconvert_exporter": "python",
   "pygments_lexer": "ipython3",
   "version": "3.10.12"
  }
 },
 "nbformat": 4,
 "nbformat_minor": 5
}
