{
 "cells": [
  {
   "cell_type": "code",
   "execution_count": 23,
   "id": "a19fc93e",
   "metadata": {},
   "outputs": [
    {
     "name": "stdout",
     "output_type": "stream",
     "text": [
      "The autoreload extension is already loaded. To reload it, use:\n",
      "  %reload_ext autoreload\n",
      "--- Step 1: Load model and create simulator ---\n",
      "Model loaded: GaussGaussModel(mu0=0.0, sigma0=5.0, sigma=1.0)\n",
      "📝 Created temporary observed data for prior sampling mode\n"
     ]
    }
   ],
   "source": [
    "from pathlib import Path\n",
    "from abcnre.simulation import ABCSimulator\n",
    "from abcnre.simulation.models import create_model_from_dict, get_example_model_configs\n",
    "import yaml\n",
    "%load_ext autoreload\n",
    "%autoreload 2\n",
    "\n",
    "current_dir = Path().resolve() \n",
    "parent_dir = current_dir.parent    \n",
    "results_dir = parent_dir / \"results\" \n",
    "\n",
    "print(\"--- Step 1: Load model and create simulator ---\")\n",
    "model_name = \"gauss_gauss_1d_default\"\n",
    "model_config = get_example_model_configs(model_name)\n",
    "\n",
    "\n",
    "model = create_model_from_dict(model_config)\n",
    "print(f\"Model loaded: {model}\")\n",
    "\n",
    "\n",
    "simulator = ABCSimulator(model=model)"
   ]
  },
  {
   "cell_type": "code",
   "execution_count": 36,
   "id": "414d8d46",
   "metadata": {},
   "outputs": [
    {
     "name": "stderr",
     "output_type": "stream",
     "text": [
      "INFO:abcnre.training.config:Using custom lr_scheduler: reduce_on_plateau_default\n",
      "INFO:abcnre.training.config:Using stopping rules: balanced\n",
      "INFO:abcnre.training.config:Created NN config: summary_learner_deepset_default_default (task: summary_learner)\n",
      "INFO:abcnre.training.components.metrics:Configuration Summary:\n",
      "INFO:abcnre.training.components.metrics:   Task: summary_learner\n",
      "INFO:abcnre.training.components.metrics:   Network: DeepSet\n",
      "INFO:abcnre.training.components.metrics:   Optimizer: adam\n",
      "INFO:abcnre.training.components.metrics:   Learning rate: 0.0003\n",
      "INFO:abcnre.training.components.metrics:   LR scheduler: reduce_on_plateau\n",
      "INFO:abcnre.training.components.metrics:   Batch size: 256\n",
      "INFO:abcnre.training.components.metrics:   Samples/epoch: 10240\n",
      "INFO:abcnre.training.components.metrics:   Max epochs: 100\n",
      "INFO:abcnre.training.components.metrics:   Stopping rules: Enabled\n",
      "INFO:abcnre.training.components.setup:Setting up summary_learner training\n",
      "INFO:abcnre.training.components.setup:Epochs: 100, Batch size: 256, Batches/epoch: 40\n",
      "INFO:abcnre.training.registry:Registered networks: MLP, DeepSet, ConditionedDeepSet\n",
      "INFO:abcnre.training.registry:Set output_dim=1 for DeepSet network\n",
      "INFO:abcnre.training.registry:Created DeepSet network (from 'DeepSet') for summary_learner\n",
      "INFO:abcnre.training.registry:Network args: {'activation': 'relu', 'use_layer_norm': True, 'dropout_rate': 0.0, 'pooling_type': 'mean', 'phi_hidden_dims': [32, 16], 'rho_hidden_dims': [32, 16], 'output_dim': 1}\n",
      "INFO:abcnre.training.components.setup:Created network: DeepSet\n",
      "INFO:abcnre.training.components.setup:Network initialized with 1,873 parameters\n",
      "INFO:abcnre.training.components.setup:Using same generator for validation data\n",
      "INFO:abcnre.training.components.setup:Setup complete. Initial simulations: 1034\n",
      "INFO:abcnre.training.components.schedulers:Initialized reduce-on-plateau scheduler\n",
      "INFO:abcnre.training.components.metrics:============================================================\n",
      "INFO:abcnre.training.components.metrics:Starting summary_learner training\n",
      "INFO:abcnre.training.components.metrics:Epochs: 100, Batch size: 256, Batches/epoch: 40\n",
      "INFO:abcnre.training.components.metrics:============================================================\n",
      "INFO:abcnre.training.train:Active stopping criteria: ['max_epochs', 'early_stopping', 'lr_stopping', 'sample_stopping']\n"
     ]
    },
    {
     "name": "stdout",
     "output_type": "stream",
     "text": [
      "--- Step 1.5 : Learn Summary Stats (Optional) ---\n"
     ]
    },
    {
     "name": "stderr",
     "output_type": "stream",
     "text": [
      "INFO:abcnre.training.components.metrics:Epoch   1/100 | Loss: train = 21.062094 val = 18.043736 | LR: 3.00e-04 | Samples: 11,274 | Time: 0.9s\n",
      "INFO:abcnre.training.train:ETA: 1.3 minutes\n",
      "INFO:abcnre.training.components.metrics:Epoch  11/100 | Loss: train = 8.897247 val = 9.176363 | LR: 3.00e-04 | Samples: 113,674 | Time: 2.3s\n",
      "INFO:abcnre.training.components.metrics:Epoch  21/100 | Loss: train = 5.096270 val = 5.626554 | LR: 3.00e-04 | Samples: 216,074 | Time: 3.7s\n",
      "INFO:abcnre.training.components.metrics:Epoch  31/100 | Loss: train = 3.171854 val = 3.252938 | LR: 3.00e-04 | Samples: 318,474 | Time: 5.1s\n",
      "INFO:abcnre.training.components.metrics:Epoch  41/100 | Loss: train = 1.930785 val = 1.890497 | LR: 3.00e-04 | Samples: 420,874 | Time: 6.6s\n",
      "INFO:abcnre.training.components.metrics:Epoch  51/100 | Loss: train = 1.099403 val = 1.170033 | LR: 3.00e-04 | Samples: 523,274 | Time: 7.9s\n",
      "INFO:abcnre.training.components.metrics:Epoch  61/100 | Loss: train = 0.727566 val = 0.781704 | LR: 3.00e-04 | Samples: 625,674 | Time: 9.3s\n",
      "INFO:abcnre.training.components.metrics:Epoch  71/100 | Loss: train = 0.542835 val = 0.539095 | LR: 3.00e-04 | Samples: 728,074 | Time: 10.6s\n",
      "INFO:abcnre.training.components.metrics:Epoch  81/100 | Loss: train = 0.400098 val = 0.405414 | LR: 3.00e-04 | Samples: 830,474 | Time: 12.0s\n",
      "INFO:abcnre.training.components.metrics:Epoch  91/100 | Loss: train = 0.311427 val = 0.339324 | LR: 3.00e-04 | Samples: 932,874 | Time: 13.3s\n",
      "INFO:abcnre.training.components.metrics:============================================================\n",
      "INFO:abcnre.training.components.metrics:Training completed!\n",
      "INFO:abcnre.training.components.metrics:Total time: 14.6s (0.2m)\n",
      "INFO:abcnre.training.components.metrics:Epochs completed: 100\n",
      "INFO:abcnre.training.components.metrics:Final train loss: 0.246998\n",
      "INFO:abcnre.training.components.metrics:Final val loss: 0.272317\n",
      "INFO:abcnre.training.components.metrics:Total simulations: 1,025,034\n",
      "INFO:abcnre.training.components.metrics:Best val loss: 0.269390 (epoch 97)\n",
      "INFO:abcnre.training.components.metrics:============================================================\n",
      "INFO:abcnre.training.train:Final stopping rules status: {'enabled': True, 'max_epochs': 500, 'active_criteria': ['max_epochs', 'early_stopping', 'lr_stopping', 'sample_stopping'], 'config': {'max_epochs': 500, 'early_stopping': {'enabled': True, 'monitor': 'validation_loss', 'patience': 15, 'min_delta': 0.0001, 'restore_best_weights': True, 'mode': 'min'}, 'lr_stopping': {'enabled': True, 'min_lr': 1e-07}, 'convergence_stopping': {'enabled': False, 'tolerance': 1e-06, 'patience': 5}, 'plateau_stopping': {'enabled': False, 'patience': 20, 'threshold': 1e-05}, 'time_stopping': {'enabled': False, 'max_time_hours': None}, 'sample_stopping': {'enabled': True, 'max_samples': inf}, 'simulation_stopping': {'enabled': False, 'max_simulations': None}}}\n",
      "INFO:abcnre.training.components.metrics:Training Metrics Summary:\n",
      "INFO:abcnre.training.components.metrics:   train_loss: min=0.220851, max=21.062094, mean=3.082954\n",
      "INFO:abcnre.training.components.metrics:   val_loss: min=0.269390, max=18.043736, mean=3.109447\n"
     ]
    },
    {
     "name": "stdout",
     "output_type": "stream",
     "text": [
      "✅ Updating model's summary statistics function...\n",
      "✅ Summary statistics learned and updated successfully!\n",
      "   - Original data dimension: (10,)\n",
      "   - Learned summary function integrated into model\n",
      "Shapes : phi_samples: (10000, 1) x_samples: (10000, 10, 1)\n",
      "Shapes: summary_stats: (10000, 1) phi_samples: (10000, 1)\n",
      "Correlation between summary statistics and model parameters: [[0.9949483]]\n"
     ]
    },
    {
     "data": {
      "text/plain": [
       "Array([[0.9949483]], dtype=float32)"
      ]
     },
     "execution_count": 36,
     "metadata": {},
     "output_type": "execute_result"
    }
   ],
   "source": [
    "print(\"--- Step 1.5 : Learn Summary Stats (Optional) ---\")\n",
    "\n",
    "import jax\n",
    "from abcnre.training import get_nn_config\n",
    "key = jax.random.PRNGKey(123)\n",
    "key, subkey_learn = jax.random.split(key)\n",
    "\n",
    "\n",
    "regressor_config = get_nn_config(network_name=\"deepset\",\n",
    "                          network_size = \"default\",\n",
    "                          training_size = \"default\",\n",
    "                          task_type = \"summary_learner\",\n",
    "                          lr_scheduler_name = \"reduce_on_plateau\",\n",
    "                          lr_scheduler_variant = \"default\",\n",
    "                          stopping_rules_variant = \"balanced\",\n",
    "                          experiment_name = None)\n",
    "simulator.learn_summary_stats(subkey_learn, regressor_config)\n",
    "\n",
    "key, subkey_check = jax.random.split(key)\n",
    "simulator.check_summary_stats_correlation(\n",
    "    subkey_check,\n",
    "    n_samples=10000)"
   ]
  },
  {
   "cell_type": "code",
   "execution_count": null,
   "id": "eb5f3b1b",
   "metadata": {},
   "outputs": [],
   "source": []
  },
  {
   "cell_type": "markdown",
   "id": "efe0cdd1",
   "metadata": {},
   "source": [
    "VERIFY THE CORRELATION (CAN BE COMPUTED)\n",
    "TEST DRIVEN DEV from now on (SIMPLE TASK) SIMPLER TASK (CLASSIF REGRESSOR)\n",
    "SUMMARY LEARNER -> REGRESSOR\n",
    "FRIDAY RYAN TEST (MAKE HIS LIFE EASY AS POSSIBLE) --> 100D GAUSS TEST"
   ]
  },
  {
   "cell_type": "code",
   "execution_count": 25,
   "id": "c115871c",
   "metadata": {},
   "outputs": [],
   "source": [
    "#\n",
    "\n",
    "key, key_sim = jax.random.split(key)\n"
   ]
  },
  {
   "cell_type": "code",
   "execution_count": 26,
   "id": "f6759ea1",
   "metadata": {},
   "outputs": [
    {
     "name": "stdout",
     "output_type": "stream",
     "text": [
      "--- Step 2.1: Sample x_obs and initialize the ABCSimulator ---\n",
      "🔄 Updated sampler with new observed data.\n",
      "Observation x_obs: [[4.6136894]\n",
      " [3.7419693]\n",
      " [2.7883747]\n",
      " [2.0384965]\n",
      " [2.2912316]\n",
      " [3.0152106]\n",
      " [3.3933015]\n",
      " [3.4819908]\n",
      " [1.1553577]\n",
      " [1.5837486]]\n",
      "🔄 Updated sampler with new observed data.\n",
      "Observation x_obs: [[4.6136894]\n",
      " [3.7419693]\n",
      " [2.7883747]\n",
      " [2.0384965]\n",
      " [2.2912316]\n",
      " [3.0152106]\n",
      " [3.3933015]\n",
      " [3.4819908]\n",
      " [1.1553577]\n",
      " [1.5837486]]\n"
     ]
    }
   ],
   "source": [
    "print(\"--- Step 2.1: Sample x_obs and initialize the ABCSimulator ---\")\n",
    "\n",
    "true_theta = 2.5\n",
    "key, subkey_sample = jax.random.split(key)\n",
    "x_obs = simulator.model.simulate_data(subkey_sample, true_theta)\n",
    "\n",
    "simulator.update_observed_data(x_obs)\n",
    "print(f\"Observation x_obs: {x_obs}\")\n",
    "\n",
    "quantile_distance = 1.\n",
    "key, subkey_epsilon = jax.random.split(key)\n",
    "simulator.set_epsilon_from_quantile(key = subkey_epsilon, quantile_distance=quantile_distance, n_samples=10000)"
   ]
  },
  {
   "cell_type": "code",
   "execution_count": 27,
   "id": "9833451b",
   "metadata": {},
   "outputs": [
    {
     "name": "stderr",
     "output_type": "stream",
     "text": [
      "INFO:abcnre.simulation.models.io:Model saved to: /Users/antoineluciano/Documents/Recherche/ABC-SBI-1/abcnre/examples/gauss_1D/results/simulator/simulator_model.yml\n",
      "INFO:abcnre.simulation.io:Saved model configuration to: /Users/antoineluciano/Documents/Recherche/ABC-SBI-1/abcnre/examples/gauss_1D/results/simulator/simulator_model.yml\n",
      "INFO:abcnre.simulation.io:Saved observed data to: /Users/antoineluciano/Documents/Recherche/ABC-SBI-1/abcnre/examples/gauss_1D/results/simulator/simulator_observed_data.npy\n",
      "INFO:abcnre.training.config:Configuration saved to /Users/antoineluciano/Documents/Recherche/ABC-SBI-1/abcnre/examples/gauss_1D/results/simulator/simulator_summary_network_config.yml\n",
      "INFO:abcnre.simulation.io:Saved summary network weights to: /Users/antoineluciano/Documents/Recherche/ABC-SBI-1/abcnre/examples/gauss_1D/results/simulator/simulator_summary_network_weights.npz\n",
      "INFO:abcnre.simulation.io:Saved model configuration to: /Users/antoineluciano/Documents/Recherche/ABC-SBI-1/abcnre/examples/gauss_1D/results/simulator/simulator_model.yml\n",
      "INFO:abcnre.simulation.io:Saved observed data to: /Users/antoineluciano/Documents/Recherche/ABC-SBI-1/abcnre/examples/gauss_1D/results/simulator/simulator_observed_data.npy\n",
      "INFO:abcnre.training.config:Configuration saved to /Users/antoineluciano/Documents/Recherche/ABC-SBI-1/abcnre/examples/gauss_1D/results/simulator/simulator_summary_network_config.yml\n",
      "INFO:abcnre.simulation.io:Saved summary network weights to: /Users/antoineluciano/Documents/Recherche/ABC-SBI-1/abcnre/examples/gauss_1D/results/simulator/simulator_summary_network_weights.npz\n",
      "INFO:abcnre.simulation.io:ABCSimulator configuration saved to: /Users/antoineluciano/Documents/Recherche/ABC-SBI-1/abcnre/examples/gauss_1D/results/simulator/simulator.yaml\n",
      "INFO:abcnre.simulation.io:ABCSimulator configuration saved to: /Users/antoineluciano/Documents/Recherche/ABC-SBI-1/abcnre/examples/gauss_1D/results/simulator/simulator.yaml\n"
     ]
    },
    {
     "name": "stdout",
     "output_type": "stream",
     "text": [
      "--- Step 2.2: Save model to YAML (Optional) ---\n"
     ]
    }
   ],
   "source": [
    "print(\"--- Step 2.2: Save model to YAML (Optional) ---\")\n",
    "\n",
    "from abcnre.simulation import save_simulator_to_yaml\n",
    "\n",
    "\n",
    "save_simulator_to_yaml(\n",
    "    simulator,\n",
    "    results_dir / \"simulator\" / \"simulator.yaml\",\n",
    "    overwrite=True\n",
    ")"
   ]
  },
  {
   "cell_type": "code",
   "execution_count": 28,
   "id": "1afd2b60",
   "metadata": {},
   "outputs": [
    {
     "name": "stderr",
     "output_type": "stream",
     "text": [
      "INFO:abcnre.simulation.io:Loaded model: GaussGaussModel\n",
      "INFO:abcnre.simulation.io:Loaded observed data from: /Users/antoineluciano/Documents/Recherche/ABC-SBI-1/abcnre/examples/gauss_1D/results/simulator/simulator_observed_data.npy\n",
      "INFO:abcnre.training.config:Loaded configuration from /Users/antoineluciano/Documents/Recherche/ABC-SBI-1/abcnre/examples/gauss_1D/results/simulator/simulator_summary_network_config.yml\n",
      "INFO:abcnre.simulation.io:Loaded observed data from: /Users/antoineluciano/Documents/Recherche/ABC-SBI-1/abcnre/examples/gauss_1D/results/simulator/simulator_observed_data.npy\n",
      "INFO:abcnre.training.config:Loaded configuration from /Users/antoineluciano/Documents/Recherche/ABC-SBI-1/abcnre/examples/gauss_1D/results/simulator/simulator_summary_network_config.yml\n",
      "INFO:abcnre.simulation.io:Loaded summary network config from: /Users/antoineluciano/Documents/Recherche/ABC-SBI-1/abcnre/examples/gauss_1D/results/simulator/simulator_summary_network_config.yml\n",
      "INFO:abcnre.simulation.io:Loaded summary network weights from: /Users/antoineluciano/Documents/Recherche/ABC-SBI-1/abcnre/examples/gauss_1D/results/simulator/simulator_summary_network_weights.npz\n",
      "INFO:abcnre.training.registry:Registered networks: MLP, DeepSet, ConditionedDeepSet\n",
      "INFO:abcnre.training.registry:Set output_dim=1 for DeepSet network\n",
      "INFO:abcnre.training.registry:Created DeepSet network (from 'DeepSet') for summary_learner\n",
      "INFO:abcnre.training.registry:Network args: {'activation': 'relu', 'use_layer_norm': True, 'dropout_rate': 0.0, 'pooling_type': 'mean', 'phi_hidden_dims': [32, 16], 'rho_hidden_dims': [32, 16], 'output_dim': 1}\n",
      "INFO:abcnre.simulation.io:Loaded summary network config from: /Users/antoineluciano/Documents/Recherche/ABC-SBI-1/abcnre/examples/gauss_1D/results/simulator/simulator_summary_network_config.yml\n",
      "INFO:abcnre.simulation.io:Loaded summary network weights from: /Users/antoineluciano/Documents/Recherche/ABC-SBI-1/abcnre/examples/gauss_1D/results/simulator/simulator_summary_network_weights.npz\n",
      "INFO:abcnre.training.registry:Registered networks: MLP, DeepSet, ConditionedDeepSet\n",
      "INFO:abcnre.training.registry:Set output_dim=1 for DeepSet network\n",
      "INFO:abcnre.training.registry:Created DeepSet network (from 'DeepSet') for summary_learner\n",
      "INFO:abcnre.training.registry:Network args: {'activation': 'relu', 'use_layer_norm': True, 'dropout_rate': 0.0, 'pooling_type': 'mean', 'phi_hidden_dims': [32, 16], 'rho_hidden_dims': [32, 16], 'output_dim': 1}\n"
     ]
    },
    {
     "name": "stdout",
     "output_type": "stream",
     "text": [
      "--- Step 2.3 : Load model from YAML and check (Optional) ---\n",
      "Computing epsilon for 100.0% quantile...\n",
      "Setting epsilon to infinity (maximum distance).\n"
     ]
    },
    {
     "name": "stderr",
     "output_type": "stream",
     "text": [
      "INFO:abcnre.simulation.io:Summary network loaded and integrated into simulator\n"
     ]
    },
    {
     "data": {
      "text/plain": [
       "Text(0.5, 0, 'Phi samples')"
      ]
     },
     "execution_count": 28,
     "metadata": {},
     "output_type": "execute_result"
    },
    {
     "data": {
      "image/png": "[encoded data removed]",
      "text/plain": [
       "<Figure size 640x480 with 1 Axes>"
      ]
     },
     "metadata": {},
     "output_type": "display_data"
    }
   ],
   "source": [
    "print(\"--- Step 2.3 : Load model from YAML and check (Optional) ---\")\n",
    "\n",
    "from abcnre.simulation import load_simulator_from_yaml\n",
    "simulator_loaded = load_simulator_from_yaml(\n",
    "    results_dir / \"simulator\" / \"simulator.yaml\",\n",
    ")\n",
    "\n",
    "key, key_samples, key_samples_load = jax.random.split(key, 3)\n",
    "samples = simulator_loaded.generate_samples(key_samples, n_samples=100000)\n",
    "samples_load = simulator_loaded.generate_samples(key_samples_load, n_samples=100000)\n",
    "\n",
    "import seaborn as sns\n",
    "import matplotlib.pyplot as plt\n",
    "sns.kdeplot(samples.phi.flatten(), label=\"Samples from simulator\"\n",
    "            )\n",
    "sns.kdeplot(samples_load.phi.flatten(), label=\"Samples from loaded simulator\")\n",
    "plt.legend()\n",
    "plt.title(\"Phi marginal of the two simulators\")\n",
    "plt.xlabel(\"Phi samples\")"
   ]
  },
  {
   "cell_type": "code",
   "execution_count": 29,
   "id": "dd8c3643",
   "metadata": {},
   "outputs": [
    {
     "name": "stderr",
     "output_type": "stream",
     "text": [
      "INFO:abcnre.training.config:Using custom lr_scheduler: reduce_on_plateau_default\n",
      "INFO:abcnre.training.config:Using stopping rules: balanced\n",
      "INFO:abcnre.training.config:Using stopping rules: balanced\n",
      "INFO:abcnre.training.config:Created NN config: classifier_mlp_default_default (task: classifier)\n",
      "INFO:abcnre.training.config:Created NN config: classifier_mlp_default_default (task: classifier)\n"
     ]
    },
    {
     "name": "stdout",
     "output_type": "stream",
     "text": [
      "--- Step 3.1: Create NNConfig for training ---\n"
     ]
    }
   ],
   "source": [
    "from abcnre.training import NNConfig, NetworkConfig, TrainingConfig, get_nn_config\n",
    "print(\"--- Step 3.1: Create NNConfig for training ---\")\n",
    "nn_config = get_nn_config(network_name=\"mlp\",\n",
    "                          network_size = \"default\",\n",
    "                          training_size = \"default\",\n",
    "                          task_type = \"classifier\",\n",
    "                          lr_scheduler_name = \"reduce_on_plateau\",\n",
    "                          lr_scheduler_variant = \"default\",\n",
    "                          stopping_rules_variant = \"balanced\",\n",
    "                          experiment_name = None)\n",
    "\n",
    "\n",
    "nn_config.training.num_epochs = 500\n",
    "nn_config.training.batch_size = 1024\n",
    "nn_config.training.n_samples_per_epoch = 10240\n",
    "nn_config.training.learning_rate = 1e-2\n",
    "nn_config.training.optimizer= \"adamw\"\n",
    "nn_config.training.weight_decay = 1e-3"
   ]
  },
  {
   "cell_type": "code",
   "execution_count": 30,
   "id": "c406b98d",
   "metadata": {},
   "outputs": [
    {
     "name": "stdout",
     "output_type": "stream",
     "text": [
      "--- Step 3.2: Create NeuralRatioEstimator ---\n"
     ]
    }
   ],
   "source": [
    "print(\"--- Step 3.2: Create NeuralRatioEstimator ---\")\n",
    "\n",
    "from abcnre.inference import NeuralRatioEstimator    \n",
    "\n",
    "estimator = NeuralRatioEstimator(\n",
    "    nn_config=nn_config,\n",
    "    simulator=simulator)"
   ]
  },
  {
   "cell_type": "code",
   "execution_count": 31,
   "id": "b8018464",
   "metadata": {},
   "outputs": [
    {
     "name": "stderr",
     "output_type": "stream",
     "text": [
      "INFO:abcnre.inference.estimator:Using MLP without summary statistics\n",
      "INFO:abcnre.inference.estimator:Storing 10000 phi during training\n",
      "INFO:abcnre.training.components.metrics:Configuration Summary:\n",
      "INFO:abcnre.training.components.metrics:   Task: classifier\n",
      "INFO:abcnre.training.components.metrics:   Network: MLP\n",
      "INFO:abcnre.training.components.metrics:   Optimizer: adamw\n",
      "INFO:abcnre.training.components.metrics:   Learning rate: 0.01\n",
      "INFO:abcnre.training.components.metrics:   LR scheduler: reduce_on_plateau\n",
      "INFO:abcnre.training.components.metrics:   Batch size: 1024\n",
      "INFO:abcnre.training.components.metrics:   Samples/epoch: 10240\n",
      "INFO:abcnre.training.components.metrics:   Max epochs: 500\n",
      "INFO:abcnre.training.components.metrics:   Stopping rules: Enabled\n",
      "INFO:abcnre.training.components.metrics:   Phi storage: 10000 values\n",
      "INFO:abcnre.training.components.setup:Setting up classifier training\n",
      "INFO:abcnre.training.components.setup:Epochs: 500, Batch size: 1024, Batches/epoch: 10\n",
      "INFO:abcnre.inference.estimator:Storing 10000 phi during training\n",
      "INFO:abcnre.training.components.metrics:Configuration Summary:\n",
      "INFO:abcnre.training.components.metrics:   Task: classifier\n",
      "INFO:abcnre.training.components.metrics:   Network: MLP\n",
      "INFO:abcnre.training.components.metrics:   Optimizer: adamw\n",
      "INFO:abcnre.training.components.metrics:   Learning rate: 0.01\n",
      "INFO:abcnre.training.components.metrics:   LR scheduler: reduce_on_plateau\n",
      "INFO:abcnre.training.components.metrics:   Batch size: 1024\n",
      "INFO:abcnre.training.components.metrics:   Samples/epoch: 10240\n",
      "INFO:abcnre.training.components.metrics:   Max epochs: 500\n",
      "INFO:abcnre.training.components.metrics:   Stopping rules: Enabled\n",
      "INFO:abcnre.training.components.metrics:   Phi storage: 10000 values\n",
      "INFO:abcnre.training.components.setup:Setting up classifier training\n",
      "INFO:abcnre.training.components.setup:Epochs: 500, Batch size: 1024, Batches/epoch: 10\n"
     ]
    },
    {
     "name": "stdout",
     "output_type": "stream",
     "text": [
      "--- Step 3.3: Train the NeuralRatioEstimator ---\n"
     ]
    },
    {
     "name": "stderr",
     "output_type": "stream",
     "text": [
      "INFO:abcnre.training.registry:Registered networks: MLP, DeepSet, ConditionedDeepSet\n",
      "INFO:abcnre.training.registry:Set output_dim=1 for MLP network\n",
      "INFO:abcnre.training.registry:Created MLP network (from 'MLP') for classifier\n",
      "INFO:abcnre.training.registry:Network args: {'activation': 'relu', 'use_layer_norm': False, 'dropout_rate': 0.0, 'hidden_dims': [64, 64, 64], 'output_dim': 1}\n",
      "INFO:abcnre.training.components.setup:Created network: MLP\n",
      "INFO:abcnre.training.registry:Set output_dim=1 for MLP network\n",
      "INFO:abcnre.training.registry:Created MLP network (from 'MLP') for classifier\n",
      "INFO:abcnre.training.registry:Network args: {'activation': 'relu', 'use_layer_norm': False, 'dropout_rate': 0.0, 'hidden_dims': [64, 64, 64], 'output_dim': 1}\n",
      "INFO:abcnre.training.components.setup:Created network: MLP\n",
      "INFO:abcnre.training.components.setup:Network initialized with 9,153 parameters\n",
      "INFO:abcnre.training.components.setup:Using same generator for validation data\n",
      "INFO:abcnre.training.components.setup:Network initialized with 9,153 parameters\n",
      "INFO:abcnre.training.components.setup:Using same generator for validation data\n",
      "INFO:abcnre.training.components.setup:Setup complete. Initial simulations: 517\n",
      "INFO:abcnre.training.components.schedulers:Initialized reduce-on-plateau scheduler\n",
      "INFO:abcnre.training.components.loop:Initialized phi storage for 10000 values\n",
      "INFO:abcnre.training.components.metrics:============================================================\n",
      "INFO:abcnre.training.components.metrics:Starting classifier training\n",
      "INFO:abcnre.training.components.metrics:Epochs: 500, Batch size: 1024, Batches/epoch: 10\n",
      "INFO:abcnre.training.components.metrics:============================================================\n",
      "INFO:abcnre.training.train:Active stopping criteria: ['max_epochs', 'early_stopping', 'lr_stopping']\n",
      "INFO:abcnre.training.components.setup:Setup complete. Initial simulations: 517\n",
      "INFO:abcnre.training.components.schedulers:Initialized reduce-on-plateau scheduler\n",
      "INFO:abcnre.training.components.loop:Initialized phi storage for 10000 values\n",
      "INFO:abcnre.training.components.metrics:============================================================\n",
      "INFO:abcnre.training.components.metrics:Starting classifier training\n",
      "INFO:abcnre.training.components.metrics:Epochs: 500, Batch size: 1024, Batches/epoch: 10\n",
      "INFO:abcnre.training.components.metrics:============================================================\n",
      "INFO:abcnre.training.train:Active stopping criteria: ['max_epochs', 'early_stopping', 'lr_stopping']\n",
      "INFO:abcnre.training.components.metrics:Epoch   1/500 (  0.2%) | Loss: train = 0.593630 val = 0.391741 | Acc: train = 82.23% val = 83.69% | LR: 1.00e-02 | Samples: 11,274 | Sims: 5,637 | Time: 0.4s\n",
      "INFO:abcnre.training.train:ETA: 2.8 minutes\n",
      "INFO:abcnre.training.components.metrics:Epoch   1/500 (  0.2%) | Loss: train = 0.593630 val = 0.391741 | Acc: train = 82.23% val = 83.69% | LR: 1.00e-02 | Samples: 11,274 | Sims: 5,637 | Time: 0.4s\n",
      "INFO:abcnre.training.train:ETA: 2.8 minutes\n",
      "INFO:abcnre.training.components.metrics:Epoch  11/500 (  2.2%) | Loss: train = 0.154220 val = 0.179074 | Acc: train = 94.24% val = 93.85% | LR: 1.00e-02 | Samples: 113,674 | Sims: 56,837 | Time: 1.2s\n",
      "INFO:abcnre.training.components.metrics:Epoch  11/500 (  2.2%) | Loss: train = 0.154220 val = 0.179074 | Acc: train = 94.24% val = 93.85% | LR: 1.00e-02 | Samples: 113,674 | Sims: 56,837 | Time: 1.2s\n",
      "INFO:abcnre.training.components.schedulers:Learning rate reduced: 1.00e-02 -> 5.00e-03\n",
      "INFO:abcnre.training.components.metrics:Learning rate reduced: 1.00e-02 -> 5.00e-03 (0.50x)\n",
      "INFO:abcnre.training.components.schedulers:Learning rate reduced: 1.00e-02 -> 5.00e-03\n",
      "INFO:abcnre.training.components.metrics:Learning rate reduced: 1.00e-02 -> 5.00e-03 (0.50x)\n",
      "INFO:abcnre.training.components.metrics:Epoch  21/500 (  4.2%) | Loss: train = 0.160973 val = 0.175778 | Acc: train = 93.55% val = 93.65% | LR: 5.00e-03 | Samples: 216,074 | Sims: 108,037 | Time: 1.9s\n",
      "INFO:abcnre.training.components.metrics:Epoch  21/500 (  4.2%) | Loss: train = 0.160973 val = 0.175778 | Acc: train = 93.55% val = 93.65% | LR: 5.00e-03 | Samples: 216,074 | Sims: 108,037 | Time: 1.9s\n",
      "INFO:abcnre.training.components.metrics:Epoch  31/500 (  6.2%) | Loss: train = 0.160565 val = 0.176143 | Acc: train = 95.51% val = 93.95% | LR: 5.00e-03 | Samples: 318,474 | Sims: 159,237 | Time: 2.8s\n",
      "INFO:abcnre.training.components.metrics:Epoch  31/500 (  6.2%) | Loss: train = 0.160565 val = 0.176143 | Acc: train = 95.51% val = 93.95% | LR: 5.00e-03 | Samples: 318,474 | Sims: 159,237 | Time: 2.8s\n",
      "INFO:abcnre.training.components.schedulers:Learning rate reduced: 5.00e-03 -> 2.50e-03\n",
      "INFO:abcnre.training.components.metrics:Learning rate reduced: 5.00e-03 -> 2.50e-03 (0.50x)\n",
      "INFO:abcnre.training.components.schedulers:Learning rate reduced: 5.00e-03 -> 2.50e-03\n",
      "INFO:abcnre.training.components.metrics:Learning rate reduced: 5.00e-03 -> 2.50e-03 (0.50x)\n",
      "INFO:abcnre.training.components.metrics:Early stopping at epoch 40: Early stopping at epoch 40: No improvement in validation loss for 15 epochs (best: 0.171761, current: 0.172832)\n",
      "INFO:abcnre.training.components.metrics:============================================================\n",
      "INFO:abcnre.training.components.metrics:Training completed!\n",
      "INFO:abcnre.training.components.metrics:Total time: 3.6s (0.1m)\n",
      "INFO:abcnre.training.components.metrics:Epochs completed: 40\n",
      "INFO:abcnre.training.components.metrics:Final train loss: 0.162726\n",
      "INFO:abcnre.training.components.metrics:Final val loss: 0.172832\n",
      "INFO:abcnre.training.components.metrics:Final val accuracy: 93.8%\n",
      "INFO:abcnre.training.components.metrics:Total simulations: 205,317\n",
      "INFO:abcnre.training.components.metrics:Best val loss: 0.171761 (epoch 24)\n",
      "INFO:abcnre.training.components.metrics:============================================================\n",
      "INFO:abcnre.training.components.loop:Phi storage completed: 10000 values stored (target: 10000)\n",
      "INFO:abcnre.training.train:Final stopping rules status: {'enabled': True, 'max_epochs': 500, 'active_criteria': ['max_epochs', 'early_stopping', 'lr_stopping'], 'config': {'max_epochs': 500, 'early_stopping': {'enabled': True, 'monitor': 'validation_loss', 'patience': 15, 'min_delta': 0.0001, 'restore_best_weights': True, 'mode': 'min'}, 'lr_stopping': {'enabled': True, 'min_lr': 1e-07}, 'convergence_stopping': {'enabled': False, 'tolerance': 1e-06, 'patience': 5}, 'plateau_stopping': {'enabled': False, 'patience': 20, 'threshold': 1e-05}, 'time_stopping': {'enabled': False, 'max_time_hours': None}, 'sample_stopping': {'enabled': False, 'max_samples': None}, 'simulation_stopping': {'enabled': False, 'max_simulations': None}}}\n",
      "INFO:abcnre.training.components.metrics:Training Metrics Summary:\n",
      "INFO:abcnre.training.components.metrics:   train_loss: min=0.149633, max=0.593630, mean=0.181617\n",
      "INFO:abcnre.training.components.metrics:   val_loss: min=0.171761, max=0.391741, mean=0.189472\n",
      "INFO:abcnre.training.components.metrics:   train_accuracy: min=0.822, max=0.962, mean=0.941\n",
      "INFO:abcnre.training.components.metrics:   val_accuracy: min=0.837, max=0.943, mean=0.933\n",
      "INFO:abcnre.training.train:Stored phi values: 10000\n",
      "INFO:abcnre.training.components.metrics:Early stopping at epoch 40: Early stopping at epoch 40: No improvement in validation loss for 15 epochs (best: 0.171761, current: 0.172832)\n",
      "INFO:abcnre.training.components.metrics:============================================================\n",
      "INFO:abcnre.training.components.metrics:Training completed!\n",
      "INFO:abcnre.training.components.metrics:Total time: 3.6s (0.1m)\n",
      "INFO:abcnre.training.components.metrics:Epochs completed: 40\n",
      "INFO:abcnre.training.components.metrics:Final train loss: 0.162726\n",
      "INFO:abcnre.training.components.metrics:Final val loss: 0.172832\n",
      "INFO:abcnre.training.components.metrics:Final val accuracy: 93.8%\n",
      "INFO:abcnre.training.components.metrics:Total simulations: 205,317\n",
      "INFO:abcnre.training.components.metrics:Best val loss: 0.171761 (epoch 24)\n",
      "INFO:abcnre.training.components.metrics:============================================================\n",
      "INFO:abcnre.training.components.loop:Phi storage completed: 10000 values stored (target: 10000)\n",
      "INFO:abcnre.training.train:Final stopping rules status: {'enabled': True, 'max_epochs': 500, 'active_criteria': ['max_epochs', 'early_stopping', 'lr_stopping'], 'config': {'max_epochs': 500, 'early_stopping': {'enabled': True, 'monitor': 'validation_loss', 'patience': 15, 'min_delta': 0.0001, 'restore_best_weights': True, 'mode': 'min'}, 'lr_stopping': {'enabled': True, 'min_lr': 1e-07}, 'convergence_stopping': {'enabled': False, 'tolerance': 1e-06, 'patience': 5}, 'plateau_stopping': {'enabled': False, 'patience': 20, 'threshold': 1e-05}, 'time_stopping': {'enabled': False, 'max_time_hours': None}, 'sample_stopping': {'enabled': False, 'max_samples': None}, 'simulation_stopping': {'enabled': False, 'max_simulations': None}}}\n",
      "INFO:abcnre.training.components.metrics:Training Metrics Summary:\n",
      "INFO:abcnre.training.components.metrics:   train_loss: min=0.149633, max=0.593630, mean=0.181617\n",
      "INFO:abcnre.training.components.metrics:   val_loss: min=0.171761, max=0.391741, mean=0.189472\n",
      "INFO:abcnre.training.components.metrics:   train_accuracy: min=0.822, max=0.962, mean=0.941\n",
      "INFO:abcnre.training.components.metrics:   val_accuracy: min=0.837, max=0.943, mean=0.933\n",
      "INFO:abcnre.training.train:Stored phi values: 10000\n"
     ]
    },
    {
     "name": "stdout",
     "output_type": "stream",
     "text": [
      "✅ Neural Ratio Estimator training completed successfully!\n",
      "   - Final train loss: 0.1627260446548462\n",
      "   - Total simulations: 205317\n"
     ]
    }
   ],
   "source": [
    "print(\"--- Step 3.3: Train the NeuralRatioEstimator ---\")\n",
    "\n",
    "key, key_train = jax.random.split(key)\n",
    "res = estimator.train(key_train, n_phi_to_store = 10000)"
   ]
  },
  {
   "cell_type": "code",
   "execution_count": 34,
   "id": "7020b30b",
   "metadata": {},
   "outputs": [
    {
     "name": "stderr",
     "output_type": "stream",
     "text": [
      "INFO:abcnre.training.config:Configuration saved to /Users/antoineluciano/Documents/Recherche/ABC-SBI-1/abcnre/examples/gauss_1D/results/estimator/estimator_classif_config.yaml\n",
      "INFO:abcnre.inference.io:Saved classifier config to: /Users/antoineluciano/Documents/Recherche/ABC-SBI-1/abcnre/examples/gauss_1D/results/estimator/estimator_classif_config.yaml\n",
      "INFO:abcnre.simulation.models.io:Model saved to: /Users/antoineluciano/Documents/Recherche/ABC-SBI-1/abcnre/examples/gauss_1D/results/estimator/estimator_simulator_model.yml\n",
      "INFO:abcnre.simulation.io:Saved model configuration to: /Users/antoineluciano/Documents/Recherche/ABC-SBI-1/abcnre/examples/gauss_1D/results/estimator/estimator_simulator_model.yml\n",
      "INFO:abcnre.simulation.io:Saved observed data to: /Users/antoineluciano/Documents/Recherche/ABC-SBI-1/abcnre/examples/gauss_1D/results/estimator/estimator_simulator_observed_data.npy\n",
      "INFO:abcnre.training.config:Configuration saved to /Users/antoineluciano/Documents/Recherche/ABC-SBI-1/abcnre/examples/gauss_1D/results/estimator/estimator_simulator_summary_network_config.yml\n",
      "INFO:abcnre.simulation.io:Saved summary network weights to: /Users/antoineluciano/Documents/Recherche/ABC-SBI-1/abcnre/examples/gauss_1D/results/estimator/estimator_simulator_summary_network_weights.npz\n",
      "INFO:abcnre.inference.io:Saved classifier config to: /Users/antoineluciano/Documents/Recherche/ABC-SBI-1/abcnre/examples/gauss_1D/results/estimator/estimator_classif_config.yaml\n",
      "INFO:abcnre.simulation.models.io:Model saved to: /Users/antoineluciano/Documents/Recherche/ABC-SBI-1/abcnre/examples/gauss_1D/results/estimator/estimator_simulator_model.yml\n",
      "INFO:abcnre.simulation.io:Saved model configuration to: /Users/antoineluciano/Documents/Recherche/ABC-SBI-1/abcnre/examples/gauss_1D/results/estimator/estimator_simulator_model.yml\n",
      "INFO:abcnre.simulation.io:Saved observed data to: /Users/antoineluciano/Documents/Recherche/ABC-SBI-1/abcnre/examples/gauss_1D/results/estimator/estimator_simulator_observed_data.npy\n",
      "INFO:abcnre.training.config:Configuration saved to /Users/antoineluciano/Documents/Recherche/ABC-SBI-1/abcnre/examples/gauss_1D/results/estimator/estimator_simulator_summary_network_config.yml\n",
      "INFO:abcnre.simulation.io:Saved summary network weights to: /Users/antoineluciano/Documents/Recherche/ABC-SBI-1/abcnre/examples/gauss_1D/results/estimator/estimator_simulator_summary_network_weights.npz\n",
      "INFO:abcnre.simulation.io:ABCSimulator configuration saved to: /Users/antoineluciano/Documents/Recherche/ABC-SBI-1/abcnre/examples/gauss_1D/results/estimator/estimator_simulator.yaml\n",
      "INFO:abcnre.inference.io:Saved simulator config to: /Users/antoineluciano/Documents/Recherche/ABC-SBI-1/abcnre/examples/gauss_1D/results/estimator/estimator_simulator.yaml\n",
      "INFO:abcnre.inference.io:Saved classifier params to: /Users/antoineluciano/Documents/Recherche/ABC-SBI-1/abcnre/examples/gauss_1D/results/estimator/estimator_classif_params.npz\n",
      "INFO:abcnre.inference.io:Saved stored phis to: /Users/antoineluciano/Documents/Recherche/ABC-SBI-1/abcnre/examples/gauss_1D/results/estimator/estimator_stored_phis.npy\n",
      "INFO:abcnre.inference.io:Saved estimator to: /Users/antoineluciano/Documents/Recherche/ABC-SBI-1/abcnre/examples/gauss_1D/results/estimator/estimator.yaml\n",
      "INFO:abcnre.simulation.io:ABCSimulator configuration saved to: /Users/antoineluciano/Documents/Recherche/ABC-SBI-1/abcnre/examples/gauss_1D/results/estimator/estimator_simulator.yaml\n",
      "INFO:abcnre.inference.io:Saved simulator config to: /Users/antoineluciano/Documents/Recherche/ABC-SBI-1/abcnre/examples/gauss_1D/results/estimator/estimator_simulator.yaml\n",
      "INFO:abcnre.inference.io:Saved classifier params to: /Users/antoineluciano/Documents/Recherche/ABC-SBI-1/abcnre/examples/gauss_1D/results/estimator/estimator_classif_params.npz\n",
      "INFO:abcnre.inference.io:Saved stored phis to: /Users/antoineluciano/Documents/Recherche/ABC-SBI-1/abcnre/examples/gauss_1D/results/estimator/estimator_stored_phis.npy\n",
      "INFO:abcnre.inference.io:Saved estimator to: /Users/antoineluciano/Documents/Recherche/ABC-SBI-1/abcnre/examples/gauss_1D/results/estimator/estimator.yaml\n"
     ]
    },
    {
     "name": "stdout",
     "output_type": "stream",
     "text": [
      "--- Step 3.4: Save the NeuralRatioEstimator to YAML (Optional) ---\n",
      "True stored_phis attribute not found in estimator\n"
     ]
    }
   ],
   "source": [
    "print(\"--- Step 3.4: Save the NeuralRatioEstimator to YAML (Optional) ---\")\n",
    "\n",
    "from abcnre.inference.io import save_estimator_to_yaml\n",
    "save_estimator_to_yaml(\n",
    "    estimator,\n",
    "    results_dir / \"estimator\" / \"estimator.yaml\",\n",
    "    overwrite=True\n",
    ")\n"
   ]
  },
  {
   "cell_type": "code",
   "execution_count": 35,
   "id": "0deab27d",
   "metadata": {},
   "outputs": [
    {
     "name": "stderr",
     "output_type": "stream",
     "text": [
      "INFO:abcnre.training.config:Loaded configuration from /Users/antoineluciano/Documents/Recherche/ABC-SBI-1/abcnre/examples/gauss_1D/results/estimator/estimator_classif_config.yaml\n",
      "INFO:abcnre.simulation.io:Loaded model: GaussGaussModel\n",
      "INFO:abcnre.simulation.io:Loaded observed data from: /Users/antoineluciano/Documents/Recherche/ABC-SBI-1/abcnre/examples/gauss_1D/results/estimator/estimator_simulator_observed_data.npy\n",
      "INFO:abcnre.training.config:Loaded configuration from /Users/antoineluciano/Documents/Recherche/ABC-SBI-1/abcnre/examples/gauss_1D/results/estimator/estimator_simulator_summary_network_config.yml\n",
      "INFO:abcnre.simulation.io:Loaded model: GaussGaussModel\n",
      "INFO:abcnre.simulation.io:Loaded observed data from: /Users/antoineluciano/Documents/Recherche/ABC-SBI-1/abcnre/examples/gauss_1D/results/estimator/estimator_simulator_observed_data.npy\n",
      "INFO:abcnre.training.config:Loaded configuration from /Users/antoineluciano/Documents/Recherche/ABC-SBI-1/abcnre/examples/gauss_1D/results/estimator/estimator_simulator_summary_network_config.yml\n",
      "INFO:abcnre.simulation.io:Loaded summary network config from: /Users/antoineluciano/Documents/Recherche/ABC-SBI-1/abcnre/examples/gauss_1D/results/estimator/estimator_simulator_summary_network_config.yml\n",
      "INFO:abcnre.simulation.io:Loaded summary network weights from: /Users/antoineluciano/Documents/Recherche/ABC-SBI-1/abcnre/examples/gauss_1D/results/estimator/estimator_simulator_summary_network_weights.npz\n",
      "INFO:abcnre.training.registry:Registered networks: MLP, DeepSet, ConditionedDeepSet\n",
      "INFO:abcnre.training.registry:Set output_dim=1 for DeepSet network\n",
      "INFO:abcnre.training.registry:Created DeepSet network (from 'DeepSet') for summary_learner\n",
      "INFO:abcnre.training.registry:Network args: {'activation': 'relu', 'use_layer_norm': True, 'dropout_rate': 0.0, 'pooling_type': 'mean', 'phi_hidden_dims': [32, 16], 'rho_hidden_dims': [32, 16], 'output_dim': 1}\n",
      "INFO:abcnre.simulation.io:Loaded summary network config from: /Users/antoineluciano/Documents/Recherche/ABC-SBI-1/abcnre/examples/gauss_1D/results/estimator/estimator_simulator_summary_network_config.yml\n",
      "INFO:abcnre.simulation.io:Loaded summary network weights from: /Users/antoineluciano/Documents/Recherche/ABC-SBI-1/abcnre/examples/gauss_1D/results/estimator/estimator_simulator_summary_network_weights.npz\n",
      "INFO:abcnre.training.registry:Registered networks: MLP, DeepSet, ConditionedDeepSet\n",
      "INFO:abcnre.training.registry:Set output_dim=1 for DeepSet network\n",
      "INFO:abcnre.training.registry:Created DeepSet network (from 'DeepSet') for summary_learner\n",
      "INFO:abcnre.training.registry:Network args: {'activation': 'relu', 'use_layer_norm': True, 'dropout_rate': 0.0, 'pooling_type': 'mean', 'phi_hidden_dims': [32, 16], 'rho_hidden_dims': [32, 16], 'output_dim': 1}\n",
      "INFO:abcnre.simulation.io:Summary network loaded and integrated into simulator\n",
      "INFO:abcnre.inference.io:Loaded trained params from: /Users/antoineluciano/Documents/Recherche/ABC-SBI-1/abcnre/examples/gauss_1D/results/estimator/estimator_classif_params.npz\n",
      "INFO:abcnre.training.registry:Registered networks: MLP, DeepSet, ConditionedDeepSet\n",
      "INFO:abcnre.training.registry:Set output_dim=1 for MLP network\n",
      "INFO:abcnre.training.registry:Created MLP network (from 'MLP') for classifier\n",
      "INFO:abcnre.training.registry:Network args: {'activation': 'relu', 'use_layer_norm': False, 'dropout_rate': 0.0, 'hidden_dims': [64, 64, 64], 'output_dim': 1}\n",
      "INFO:abcnre.inference.io:Loaded trained params from: /Users/antoineluciano/Documents/Recherche/ABC-SBI-1/abcnre/examples/gauss_1D/results/estimator/estimator_classif_params.npz\n",
      "INFO:abcnre.inference.io:Loaded log ratio function from: /Users/antoineluciano/Documents/Recherche/ABC-SBI-1/abcnre/examples/gauss_1D/results/estimator/estimator_classif_params.npz\n",
      "INFO:abcnre.inference.io:Loaded trained config from: /Users/antoineluciano/Documents/Recherche/ABC-SBI-1/abcnre/examples/gauss_1D/results/estimator/estimator_classif_params.npz\n",
      "INFO:abcnre.inference.io:Loaded stored phis from: /Users/antoineluciano/Documents/Recherche/ABC-SBI-1/abcnre/examples/gauss_1D/results/estimator/estimator_stored_phis.npy\n",
      "INFO:abcnre.simulation.io:Summary network loaded and integrated into simulator\n",
      "INFO:abcnre.inference.io:Loaded trained params from: /Users/antoineluciano/Documents/Recherche/ABC-SBI-1/abcnre/examples/gauss_1D/results/estimator/estimator_classif_params.npz\n",
      "INFO:abcnre.training.registry:Registered networks: MLP, DeepSet, ConditionedDeepSet\n",
      "INFO:abcnre.training.registry:Set output_dim=1 for MLP network\n",
      "INFO:abcnre.training.registry:Created MLP network (from 'MLP') for classifier\n",
      "INFO:abcnre.training.registry:Network args: {'activation': 'relu', 'use_layer_norm': False, 'dropout_rate': 0.0, 'hidden_dims': [64, 64, 64], 'output_dim': 1}\n",
      "INFO:abcnre.inference.io:Loaded trained params from: /Users/antoineluciano/Documents/Recherche/ABC-SBI-1/abcnre/examples/gauss_1D/results/estimator/estimator_classif_params.npz\n",
      "INFO:abcnre.inference.io:Loaded log ratio function from: /Users/antoineluciano/Documents/Recherche/ABC-SBI-1/abcnre/examples/gauss_1D/results/estimator/estimator_classif_params.npz\n",
      "INFO:abcnre.inference.io:Loaded trained config from: /Users/antoineluciano/Documents/Recherche/ABC-SBI-1/abcnre/examples/gauss_1D/results/estimator/estimator_classif_params.npz\n",
      "INFO:abcnre.inference.io:Loaded stored phis from: /Users/antoineluciano/Documents/Recherche/ABC-SBI-1/abcnre/examples/gauss_1D/results/estimator/estimator_stored_phis.npy\n"
     ]
    },
    {
     "name": "stdout",
     "output_type": "stream",
     "text": [
      "--- Step 3.5: Load the NeuralRatioEstimator from YAML and check (Optional) ---\n",
      "Computing epsilon for 100.0% quantile...\n",
      "Setting epsilon to infinity (maximum distance).\n"
     ]
    },
    {
     "data": {
      "text/plain": [
       "Text(0.5, 1.0, 'Phi marginal of the two estimators')"
      ]
     },
     "execution_count": 35,
     "metadata": {},
     "output_type": "execute_result"
    },
    {
     "data": {
      "image/png": "[encoded data removed]",
      "text/plain": [
       "<Figure size 640x480 with 1 Axes>"
      ]
     },
     "metadata": {},
     "output_type": "display_data"
    }
   ],
   "source": [
    "print(\"--- Step 3.5: Load the NeuralRatioEstimator from YAML and check (Optional) ---\")\n",
    "\n",
    "from abcnre.inference import load_estimator_from_yaml\n",
    "\n",
    "estimator_loaded = load_estimator_from_yaml(\n",
    "    results_dir / \"estimator\" / \"estimator.yaml\",\n",
    ")\n",
    "\n",
    "key, key_samples_estimator, key_samples_estimator_load = jax.random.split(key, 3)\n",
    "samples_estimator = estimator.simulator.generate_samples(key_samples_estimator, n_samples=100000)\n",
    "samples_estimator_load = estimator_loaded.simulator.generate_samples(key_samples_estimator_load, n_samples=100000)\n",
    "import seaborn as sns\n",
    "import matplotlib.pyplot as plt\n",
    "sns.kdeplot(samples_estimator.phi.flatten(), label=\"Samples from estimator\")\n",
    "sns.kdeplot(samples_estimator_load.phi.flatten(), label=\"Samples from loaded estimator\")\n",
    "plt.legend()\n",
    "plt.title(\"Phi marginal of the two estimators\") "
   ]
  }
 ],
 "metadata": {
  "kernelspec": {
   "display_name": "jax_env",
   "language": "python",
   "name": "python3"
  },
  "language_info": {
   "codemirror_mode": {
    "name": "ipython",
    "version": 3
   },
   "file_extension": ".py",
   "mimetype": "text/x-python",
   "name": "python",
   "nbconvert_exporter": "python",
   "pygments_lexer": "ipython3",
   "version": "3.10.13"
  }
 },
 "nbformat": 4,
 "nbformat_minor": 5
}
