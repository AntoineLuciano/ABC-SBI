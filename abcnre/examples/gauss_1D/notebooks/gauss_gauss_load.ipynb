{
 "cells": [
  {
   "cell_type": "code",
   "execution_count": 1,
   "id": "c90b0afc",
   "metadata": {},
   "outputs": [
    {
     "name": "stderr",
     "output_type": "stream",
     "text": [
      "Observed data file not found: /home/rgiordan/Documents/git_repos/ABC-SBI/abcnre/examples/gauss_1D/results/estimator/estimator_simulator_observed_data.npy\n",
      "WARNING:2025-08-05 12:00:02,353:jax._src.xla_bridge:966: An NVIDIA GPU may be present on this machine, but a CUDA-enabled jaxlib is not installed. Falling back to cpu.\n",
      "Summary statistics files not found, skipping...\n",
      "Classifier params file /home/rgiordan/Documents/git_repos/ABC-SBI/abcnre/examples/gauss_1D/results/estimator/estimator_classif_params.npz does not exist\n",
      "Stored phis file /home/rgiordan/Documents/git_repos/ABC-SBI/abcnre/examples/gauss_1D/results/estimator/estimator_stored_phis.npy does not exist\n"
     ]
    },
    {
     "name": "stdout",
     "output_type": "stream",
     "text": [
      "📝 Created temporary observed data for prior sampling mode\n"
     ]
    }
   ],
   "source": [
    "\n",
    "from pathlib import Path\n",
    "%load_ext autoreload\n",
    "%autoreload 2\n",
    "\n",
    "current_dir = Path().resolve() \n",
    "parent_dir = current_dir.parent    \n",
    "results_dir = parent_dir / \"results\" \n",
    "plots_dir = results_dir / \"plots\"\n",
    "if not plots_dir.exists():\n",
    "    plots_dir.mkdir(parents=True, exist_ok=True)\n",
    "\n",
    "diagnostics_dir = results_dir / \"diagnostics\"\n",
    "if not diagnostics_dir.exists():\n",
    "    diagnostics_dir.mkdir(parents=True, exist_ok=True)\n",
    "from abcnre.inference import load_estimator_from_yaml\n",
    "\n",
    "estimator = load_estimator_from_yaml(\n",
    "    results_dir / \"estimator\" / \"estimator.yaml\",\n",
    ")\n",
    "\n",
    "simulator = estimator.simulator"
   ]
  },
  {
   "cell_type": "code",
   "execution_count": 2,
   "id": "41242633",
   "metadata": {},
   "outputs": [
    {
     "ename": "TypeError",
     "evalue": "unsupported operand type(s) for *: 'NoneType' and 'float'",
     "output_type": "error",
     "traceback": [
      "\u001b[0;31m---------------------------------------------------------------------------\u001b[0m",
      "\u001b[0;31mTypeError\u001b[0m                                 Traceback (most recent call last)",
      "Cell \u001b[0;32mIn[2], line 9\u001b[0m\n\u001b[1;32m      6\u001b[0m min_phi, max_phi \u001b[38;5;241m=\u001b[39m np\u001b[38;5;241m.\u001b[39mmin(abc_phi_samples), np\u001b[38;5;241m.\u001b[39mmax(abc_phi_samples)\n\u001b[1;32m      8\u001b[0m n_grid \u001b[38;5;241m=\u001b[39m \u001b[38;5;241m10000\u001b[39m  \u001b[38;5;66;03m# Number of grid points for the posterior distribution\u001b[39;00m\n\u001b[0;32m----> 9\u001b[0m abc_phi_grid \u001b[38;5;241m=\u001b[39m \u001b[43mnp\u001b[49m\u001b[38;5;241;43m.\u001b[39;49m\u001b[43mlinspace\u001b[49m\u001b[43m(\u001b[49m\u001b[43mmin_phi\u001b[49m\u001b[43m,\u001b[49m\u001b[43m \u001b[49m\u001b[43mmax_phi\u001b[49m\u001b[43m,\u001b[49m\u001b[43m \u001b[49m\u001b[43mn_grid\u001b[49m\u001b[43m)\u001b[49m\n\u001b[1;32m     11\u001b[0m \u001b[38;5;66;03m# Get posterior distributions\u001b[39;00m\n\u001b[1;32m     12\u001b[0m unnormalized_pdf_func \u001b[38;5;241m=\u001b[39m get_unnormalized_nre_pdf(estimator)\n",
      "File \u001b[0;32m~/Documents/git_repos/ABC-SBI/venv/lib/python3.10/site-packages/numpy/core/function_base.py:129\u001b[0m, in \u001b[0;36mlinspace\u001b[0;34m(start, stop, num, endpoint, retstep, dtype, axis)\u001b[0m\n\u001b[1;32m    125\u001b[0m div \u001b[38;5;241m=\u001b[39m (num \u001b[38;5;241m-\u001b[39m \u001b[38;5;241m1\u001b[39m) \u001b[38;5;28;01mif\u001b[39;00m endpoint \u001b[38;5;28;01melse\u001b[39;00m num\n\u001b[1;32m    127\u001b[0m \u001b[38;5;66;03m# Convert float/complex array scalars to float, gh-3504\u001b[39;00m\n\u001b[1;32m    128\u001b[0m \u001b[38;5;66;03m# and make sure one can use variables that have an __array_interface__, gh-6634\u001b[39;00m\n\u001b[0;32m--> 129\u001b[0m start \u001b[38;5;241m=\u001b[39m \u001b[43masanyarray\u001b[49m\u001b[43m(\u001b[49m\u001b[43mstart\u001b[49m\u001b[43m)\u001b[49m\u001b[43m \u001b[49m\u001b[38;5;241;43m*\u001b[39;49m\u001b[43m \u001b[49m\u001b[38;5;241;43m1.0\u001b[39;49m\n\u001b[1;32m    130\u001b[0m stop  \u001b[38;5;241m=\u001b[39m asanyarray(stop)  \u001b[38;5;241m*\u001b[39m \u001b[38;5;241m1.0\u001b[39m\n\u001b[1;32m    132\u001b[0m dt \u001b[38;5;241m=\u001b[39m result_type(start, stop, \u001b[38;5;28mfloat\u001b[39m(num))\n",
      "\u001b[0;31mTypeError\u001b[0m: unsupported operand type(s) for *: 'NoneType' and 'float'"
     ]
    }
   ],
   "source": [
    "from abcnre.diagnostics.posterior import get_unnormalized_nre_pdf, get_normalized_pdf, get_unnormalized_corrected_nre_pdf\n",
    "from abcnre.diagnostics.viz import plot_posterior_comparison\n",
    "import numpy as np\n",
    "\n",
    "abc_phi_samples = estimator.stored_phis\n",
    "min_phi, max_phi = np.min(abc_phi_samples), np.max(abc_phi_samples)\n",
    "\n",
    "n_grid = 10000  # Number of grid points for the posterior distribution\n",
    "abc_phi_grid = np.linspace(min_phi, max_phi, n_grid)\n",
    "\n",
    "# Get posterior distributions\n",
    "unnormalized_pdf_func = get_unnormalized_nre_pdf(estimator)\n",
    "phi_grid, nre_pdf = get_normalized_pdf(unnormalized_pdf_func, \n",
    "                                       initial_bounds=(min_phi, max_phi), \n",
    "                                        n_grid_points=n_grid)\n",
    "\n",
    "# Get prior for plotting\n",
    "prior_pdf_values = simulator.model.prior_phi_pdf(abc_phi_grid)\n",
    "\n",
    "true_grid, true_pdf = get_normalized_pdf(simulator.model.get_posterior_phi_distribution(simulator.observed_data).pdf, initial_bounds=(min_phi, max_phi))\n",
    "\n",
    "unnormalized_corrected_pdf_func = get_unnormalized_corrected_nre_pdf(estimator)\n",
    "\n",
    "phi_corrected_grid, unnormalized_corrected_pdf = get_normalized_pdf(\n",
    "                                    unnormalized_pdf_func=unnormalized_corrected_pdf_func,\n",
    "                                    initial_bounds=(min_phi, max_phi),\n",
    "                                    n_grid_points=n_grid\n",
    ")\n",
    "\n",
    "phi_corrected_grid, unnormalized_corrected_pdf = get_normalized_pdf(\n",
    "    unnormalized_pdf_func=unnormalized_corrected_pdf_func,\n",
    "    initial_bounds=(min_phi, max_phi),\n",
    "    n_grid_points=n_grid\n",
    ")\n",
    "\n",
    "# Generate the comparison plot - flatten ABC samples to 1D\n",
    "plot_posterior_comparison(\n",
    "    distributions={\n",
    "        'NRE Posterior': (phi_grid, nre_pdf), \n",
    "        'ABC Posterior': abc_phi_samples.flatten(),  # Flatten to 1D array\n",
    "        'True Posterior': (true_grid, true_pdf), \n",
    "        'Corrected NRE Posterior': (phi_corrected_grid, unnormalized_corrected_pdf)\n",
    "    },\n",
    "    prior_pdf=(abc_phi_grid, prior_pdf_values),\n",
    "    xlim=(3,7)\n",
    "    # save_path=output_dir / \"posterior_comparison.png\"\n",
    ")\n",
    "\n",
    "print(\"\\n✅ Diagnostics complete.\")"
   ]
  },
  {
   "cell_type": "code",
   "execution_count": null,
   "id": "8169799a",
   "metadata": {},
   "outputs": [
    {
     "name": "stdout",
     "output_type": "stream",
     "text": [
      "\n",
      "--- Step 7: Simulation-Based Calibration (SBC) ---\n",
      "DEBUG: ABC-SBC sampled 1000 data points. Type abc_results=<class 'abcnre.simulation.base.ABCSampleResult'>\n"
     ]
    },
    {
     "name": "stderr",
     "output_type": "stream",
     "text": [
      "ABC-SBC Progress: 100%|██████████| 1000/1000 [11:02<00:00,  1.51it/s]"
     ]
    },
    {
     "name": "stdout",
     "output_type": "stream",
     "text": [
      "ABC-SBC complete.\n"
     ]
    },
    {
     "name": "stderr",
     "output_type": "stream",
     "text": [
      "\n"
     ]
    }
   ],
   "source": [
    "from abcnre.diagnostics.calibration import run_abc_sbc\n",
    "from abcnre.diagnostics.viz import plot_sbc_ranks\n",
    "\n",
    "# --- Step 7: Simulation-Based Calibration (SBC) ---\n",
    "print(\"\\n--- Step 7: Simulation-Based Calibration (SBC) ---\")\n",
    "import jax\n",
    "key  = jax.random.PRNGKey(42)\n",
    "num_posterior_samples = 128  \n",
    "sbc_results = run_abc_sbc(\n",
    "    key=key,\n",
    "    estimator=estimator,\n",
    "    num_sbc_rounds=1000,\n",
    "    num_posterior_samples=num_posterior_samples\n",
    ")\n",
    "\n",
    "\n",
    "plot_sbc_ranks(sbc_results, save_path= plots_dir / \"sbc.png\")\n",
    "\n",
    "save_sbc_results = sbc_results.save(\n",
    "    diagnostics_dir / \"sbc_results.json\",\n",
    "    save_samples=True,\n",
    "    save_ranks=True,\n",
    "    save_posterior_samples=True\n",
    ")"
   ]
  },
  {
   "cell_type": "code",
   "execution_count": 21,
   "id": "30d48443",
   "metadata": {},
   "outputs": [
    {
     "data": {
      "image/png": "[encoded data removed]",
      "text/plain": [
       "<Figure size 1000x600 with 1 Axes>"
      ]
     },
     "metadata": {},
     "output_type": "display_data"
    }
   ],
   "source": [
    "plot_sbc_ranks(sbc_results, save_path= plots_dir / \"sbc.png\")"
   ]
  },
  {
   "cell_type": "code",
   "execution_count": 25,
   "id": "791f0559",
   "metadata": {},
   "outputs": [
    {
     "name": "stdout",
     "output_type": "stream",
     "text": [
      "\n",
      "--- Step 8: Creating Samplers and Running Metrics ---\n",
      "Generating 5000 samples for metrics evaluation...\n",
      "  -> Generating samples for 'NRE_Standard'...\n",
      "  -> Generating samples for 'NRE_Corrected'...\n",
      "Running metrics suite...\n",
      "  Computing metrics for 'NRE_Standard'...\n",
      "  Computing metrics for 'NRE_Corrected'...\n",
      "Metrics suite complete.\n",
      "\n",
      "--- Quantitative Results ---\n",
      "{\n",
      "  \"NRE_Standard\": {\n",
      "    \"mse_mean\": 0.018057435750961304,\n",
      "    \"mse_std\": 0.001365220407024026,\n",
      "    \"wasserstein_distance\": 0.1354908636663455,\n",
      "    \"c2st\": 0.5892999768257141\n",
      "  },\n",
      "  \"NRE_Corrected\": {\n",
      "    \"mse_mean\": 0.016059095039963722,\n",
      "    \"mse_std\": 0.0009826571913436055,\n",
      "    \"wasserstein_distance\": 0.12736185377829085,\n",
      "    \"c2st\": 0.5805000066757202\n",
      "  }\n",
      "}\n",
      "✅ Metrics for all methods saved to /Users/antoineluciano/Documents/Recherche/ABC-SBI-1/abcnre/examples/gauss_1D/results/diagnostics_metrics.csv\n"
     ]
    }
   ],
   "source": [
    "print(\"\\n--- Step 8: Creating Samplers and Running Metrics ---\")\n",
    "from abcnre.diagnostics.posterior import get_unnormalized_nre_pdf, get_normalized_pdf, get_unnormalized_corrected_nre_pdf, get_sampler_from_pdf\n",
    "from abcnre.diagnostics.metrics import generate_and_evaluate_metrics, save_metrics_to_csv\n",
    "\n",
    "\n",
    "# Define bounds for posterior calculation based on reference samples\n",
    "min_phi = np.min(abc_phi_samples) - 1.0\n",
    "max_phi = np.max(abc_phi_samples) + 1.0\n",
    "\n",
    "# --- Create all necessary sampler functions ---\n",
    "# A sampler is a function that takes (n_samples, key) and returns samples\n",
    "\n",
    "unorm_nre_pdf = get_unnormalized_nre_pdf(estimator)\n",
    "nre_sampler = get_sampler_from_pdf(\n",
    "    unnormalized_pdf_func=unorm_nre_pdf,\n",
    "    initial_bounds=(min_phi, max_phi)\n",
    ")\n",
    "\n",
    "unorm_corrected_nre_pdf = get_unnormalized_corrected_nre_pdf(\n",
    "    estimator, phi_samples=abc_phi_samples\n",
    ")\n",
    "corrected_nre_sampler = get_sampler_from_pdf(\n",
    "    unnormalized_pdf_func=unorm_corrected_nre_pdf,\n",
    "    initial_bounds=(min_phi, max_phi)\n",
    ")\n",
    "\n",
    "true_sampler = simulator.get_true_posterior_samples\n",
    "\n",
    "# abc_sampler = lambda: key, n_s:  simulator.get_abc_posterior_samples()\n",
    "\n",
    "# --- Run the metrics suite ---\n",
    "approx_samplers_dict = {\n",
    "    \"NRE_Standard\": nre_sampler,\n",
    "    \"NRE_Corrected\": corrected_nre_sampler,\n",
    "    # \"ABC\": \n",
    "}\n",
    "\n",
    "# The key here will be split inside the function for each sampler\n",
    "key = jax.random.PRNGKey(123)\n",
    "all_metrics_results = generate_and_evaluate_metrics(\n",
    "    key=key,\n",
    "    true_sampler=true_sampler,\n",
    "    approx_samplers_dict=approx_samplers_dict,\n",
    "    n_samples=5000\n",
    ")\n",
    "\n",
    "print(\"\\n--- Quantitative Results ---\")\n",
    "print(json.dumps(all_metrics_results, indent=2))\n",
    "save_metrics_to_csv(all_metrics_results, results_dir / \"diagnostics_metrics.csv\")"
   ]
  }
 ],
 "metadata": {
  "kernelspec": {
   "display_name": "ABC-SBI-kernel",
   "language": "python",
   "name": "abc-sbi-kernel"
  },
  "language_info": {
   "codemirror_mode": {
    "name": "ipython",
    "version": 3
   },
   "file_extension": ".py",
   "mimetype": "text/x-python",
   "name": "python",
   "nbconvert_exporter": "python",
   "pygments_lexer": "ipython3",
   "version": "3.10.12"
  }
 },
 "nbformat": 4,
 "nbformat_minor": 5
}
