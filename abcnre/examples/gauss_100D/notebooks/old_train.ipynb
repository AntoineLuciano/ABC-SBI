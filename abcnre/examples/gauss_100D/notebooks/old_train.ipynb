{
 "cells": [
  {
   "cell_type": "code",
   "execution_count": null,
   "id": "37c05957",
   "metadata": {},
   "outputs": [
    {
     "name": "stdout",
     "output_type": "stream",
     "text": [
      "--- Step 0: Create Simulator with Observed Data and Learn Summary Statistics ---\n",
      "\n",
      "Loading model from: gauss_gauss_1d_default\n"
     ]
    },
    {
     "ename": "NameError",
     "evalue": "name '_create_model_from_config' is not defined",
     "output_type": "error",
     "traceback": [
      "\u001b[0;31m---------------------------------------------------------------------------\u001b[0m\n",
      "\u001b[0;31mNameError\u001b[0m                                 Traceback (most recent call last)\n",
      "Cell \u001b[0;32mIn[10], line 16\u001b[0m\n",
      "\u001b[1;32m     13\u001b[0m \u001b[38;5;28;01melse\u001b[39;00m :\n",
      "\u001b[1;32m     14\u001b[0m     \u001b[38;5;28;01mraise\u001b[39;00m \u001b[38;5;167;01mFileNotFoundError\u001b[39;00m(\u001b[38;5;124mf\u001b[39m\u001b[38;5;124m\"\u001b[39m\u001b[38;5;124mConfiguration file \u001b[39m\u001b[38;5;132;01m{\u001b[39;00mconfig_path\u001b[38;5;132;01m}\u001b[39;00m\u001b[38;5;124m does not exist.\u001b[39m\u001b[38;5;124m\"\u001b[39m)\n",
      "\u001b[0;32m---> 16\u001b[0m gauss_model \u001b[38;5;241m=\u001b[39m \u001b[43m_create_model_from_config\u001b[49m(config\u001b[38;5;241m=\u001b[39mconfig_model, source_path\u001b[38;5;241m=\u001b[39mconfig_path)\n",
      "\u001b[1;32m     17\u001b[0m \u001b[38;5;28mprint\u001b[39m(\u001b[38;5;124mf\u001b[39m\u001b[38;5;124m\"\u001b[39m\u001b[38;5;124mModel loaded: \u001b[39m\u001b[38;5;132;01m{\u001b[39;00mgauss_model\u001b[38;5;132;01m}\u001b[39;00m\u001b[38;5;124m\"\u001b[39m)\n",
      "\u001b[1;32m     19\u001b[0m \u001b[38;5;66;03m# Generate observed data FIRST\u001b[39;00m\n",
      "\n",
      "\u001b[0;31mNameError\u001b[0m: name '_create_model_from_config' is not defined"
     ]
    }
   ],
   "source": [
    "print(\"--- Step 0: Create Simulator with Observed Data and Learn Summary Statistics ---\")\n",
    "\n",
    "\n",
    "# Load model from YAML configuration\n",
    "config_name = 'gauss_gauss_1d_default'\n",
    "print(f\"\\nLoading model from: {config_name}\")\n",
    "\n",
    "# Correction du chemin relatif pour exécution depuis abcnre/examples/notebooks\n",
    "config_path = Path(\"../../configs/models\") / f\"{config_name}.yml\"\n",
    "if config_path.exists():\n",
    "    with open(config_path, \"r\") as f:\n",
    "        config_model = yaml.safe_load(f)\n",
    "else :\n",
    "    raise FileNotFoundError(f\"Configuration file {config_path} does not exist.\")\n",
    "\n",
    "gauss_model = _create_model_from_config(config=config_model, source_path=config_path)\n",
    "print(f\"Model loaded: {gauss_model}\")\n",
    "\n",
    "# Generate observed data FIRST\n",
    "key = jax.random.PRNGKey(42)\n",
    "key, subkey = jax.random.split(key)\n",
    "true_theta = 2.5\n",
    "epsilon_quantile = 1.\n",
    "observed_data = gauss_model.simulate(subkey, theta=true_theta)\n",
    "print(f\"Observed data shape: {observed_data.shape}\")\n",
    "\n",
    "# Re-import ABCSimulator with updated code\n",
    "from abcnre.simulation.simulator import ABCSimulator\n",
    "\n",
    "# Create NEW simulator WITH observed data (important for consistent dimensions)\n",
    "simulator = ABCSimulator(\n",
    "    model=gauss_model,\n",
    "    observed_data=observed_data,\n",
    "    quantile_distance=epsilon_quantile\n",
    ")\n",
    "print(f\"Simulator created with epsilon = {simulator.epsilon:.4f}\")\n",
    "\n",
    "# Import config_learner from external YAML file - corrected path\n",
    "config_learner_path = Path(\"../../../src/abcnre/preprocessing/configs/summaryDeepSet.yaml\")\n",
    "with open(config_learner_path, \"r\") as f:\n",
    "    config_learner = yaml.safe_load(f)\n",
    "\n",
    "# Learn summary statistics using the simulator\n",
    "key, key_learn = jax.random.split(key)\n",
    "simulator.learn_summary_stats(key=key_learn, config_learner=config_learner)\n",
    "si\n",
    "print(\"✅ Summary statistics learned with DeepSet for i.i.d. data\")"
   ]
  },
  {
   "cell_type": "code",
   "execution_count": null,
   "id": "71b558f2",
   "metadata": {},
   "outputs": [
    {
     "name": "stdout",
     "output_type": "stream",
     "text": [
      "--- Step 0.5: Verification of the learned summary statistics ---\n",
      "Correlations between summary statistics and means: 0.9992531905272054\n",
      "✅ Summary statistics are working correctly with shape: (10000, 1)\n"
     ]
    }
   ],
   "source": [
    "print('--- Step 0.5: Verification of the learned summary statistics ---')\n",
    "\n",
    "key, key_sample = jax.random.split(key)\n",
    "n_samples = 10000\n",
    "\n",
    "thetas, xs = simulator.model.sample_theta_x_multiple(key_sample, n_samples=n_samples)\n",
    "statistics = simulator.summary_stats_fn(xs)\n",
    "\n",
    "means = np.mean(xs, axis=1)\n",
    "correlation = np.corrcoef(statistics.flatten(), means.flatten())[0, 1]\n",
    "print(f\"Correlations between summary statistics and means: {correlation}\")\n",
    "print(f\"✅ Summary statistics are working correctly with shape: {statistics.shape}\")"
   ]
  },
  {
   "cell_type": "code",
   "execution_count": null,
   "id": "864d0784",
   "metadata": {},
   "outputs": [
    {
     "name": "stdout",
     "output_type": "stream",
     "text": [
      "--- Step 1: Display Simulator Configuration ---\n",
      "Using existing simulator with epsilon = inf\n",
      "Observed data shape: (10,)\n",
      "Summary statistics enabled: True\n",
      "\n",
      "Model arguments: {'model_type': 'GaussGaussModel', 'model_class': 'GaussGaussModel', 'model_args': {'mu0': 0.0, 'sigma0': 2.0, 'sigma': 0.5, 'n_obs': 10}, 'metadata': {'parameter_space_dim': 1, 'analytical_posterior': True, 'module': 'abcnre.simulation.models.gauss_gauss'}}\n"
     ]
    }
   ],
   "source": [
    "# --- Step 1: Display Simulator Configuration ---\n",
    "print(\"--- Step 1: Display Simulator Configuration ---\")\n",
    "\n",
    "# The simulator was already created in Step 0 with proper dimensions\n",
    "print(f\"Using existing simulator with epsilon = {simulator.epsilon:.4f}\")\n",
    "print(f\"Observed data shape: {simulator.observed_data.shape}\")\n",
    "print(f\"Summary statistics enabled: {simulator.config.get('summary_stats_enabled', False)}\")\n",
    "\n",
    "# Display model properties from metadata\n",
    "model_args = gauss_model.get_model_args()\n",
    "print(\"\\nModel arguments:\", model_args)"
   ]
  },
  {
   "cell_type": "code",
   "execution_count": null,
   "id": "a480a23d",
   "metadata": {},
   "outputs": [
    {
     "name": "stdout",
     "output_type": "stream",
     "text": [
      "\n",
      "--- Step 1.5: Save Model Configuration to YAML ---\n",
      "Model configuration saved to: ../results/model_config.yml\n",
      "✅ Model successfully reloaded: GaussGaussModel(mu0=0.0, sigma0=2.0, sigma=0.5)\n",
      "Parameters match: True\n"
     ]
    }
   ],
   "source": [
    "# --- Step 1.5: Save Model Configuration to YAML ---\n",
    "print(\"\\--- Step 1.5: Save Model Configuration to YAML ---\")\n",
    "\n",
    "# Save the model configuration for reproducibility\n",
    "model_yaml_path = output_dir / \"model_config.yml\"\n",
    "save_model_to_yaml(gauss_model, model_yaml_path)\n",
    "print(f\"Model configuration saved to: {model_yaml_path}\")\n",
    "\n",
    "# Verify we can reload it\n",
    "reloaded_model = create_model_from_yaml(model_yaml_path)\n",
    "print(f\"✅ Model successfully reloaded: {reloaded_model}\")\n",
    "print(f\"Parameters match: {reloaded_model.mu0 == gauss_model.mu0 and reloaded_model.sigma0 == gauss_model.sigma0 and reloaded_model.sigma == gauss_model.sigma}\")"
   ]
  },
  {
   "cell_type": "code",
   "execution_count": null,
   "id": "c1997175",
   "metadata": {},
   "outputs": [
    {
     "name": "stdout",
     "output_type": "stream",
     "text": [
      "\n",
      "--- Step 2: Save Simulator Configuration ---\n",
      "✅ Simulator saved with hash: d1312ced323a\n",
      "   - Configuration: ../results/gauss_1D_simulator.yml\n",
      "   - Observed Data: ../results/observed_data_eps_inf_d1312ced323a.npy\n"
     ]
    }
   ],
   "source": [
    "# --- Step 2: Save Simulator Configuration ---\n",
    "print(\"--- Step 2: Save Simulator Configuration ---\")\n",
    "output_dir.mkdir(exist_ok=True, parents=True)\n",
    "simulator.save(output_dir / \"gauss_1D_simulator.yml\")"
   ]
  },
  {
   "cell_type": "code",
   "execution_count": null,
   "id": "142ded03",
   "metadata": {},
   "outputs": [
    {
     "name": "stdout",
     "output_type": "stream",
     "text": [
      "\n",
      "--- Step 2.5: Demonstrate YAML Model Configuration ---\n",
      "Current model configuration:\n",
      "Model configuration:\n",
      "  model_type: GaussGaussModel\n",
      "  model_class: GaussGaussModel\n",
      "  model_args: {'mu0': 0.0, 'sigma0': 2.0, 'sigma': 0.5, 'n_obs': 10}\n",
      "  metadata: {'parameter_space_dim': 1, 'analytical_posterior': True, 'module': 'abcnre.simulation.models.gauss_gauss'}\n"
     ]
    }
   ],
   "source": [
    "# --- Step 2.5: Demonstrate YAML Model Configuration ---\n",
    "print(\"\\n--- Step 2.5: Demonstrate YAML Model Configuration ---\")\n",
    "\n",
    "# Show the complete model configuration\n",
    "print(\"Current model configuration:\")\n",
    "model_config = gauss_model.get_model_args()\n",
    "\n",
    "print(\"Model configuration:\")\n",
    "for key_arg, value in model_config.items():\n",
    "    print(f\"  {key_arg}: {value}\")"
   ]
  },
  {
   "cell_type": "code",
   "execution_count": null,
   "id": "3ea8418b",
   "metadata": {},
   "outputs": [
    {
     "name": "stdout",
     "output_type": "stream",
     "text": [
      "\n",
      "--- Step 3: Create Network Configuration ---\n",
      "Training configuration saved to: ../results/config_mlp_reduce_on_plateau.yml\n",
      "Using configuration: hybrid_deepset_reduce_on_plateau\n",
      "Network type: HybridDeepSetNetwork\n",
      "LR Schedule: reduce_on_plateau\n"
     ]
    }
   ],
   "source": [
    "# --- Step 3: Create Network and Training Configuration ---\n",
    "\n",
    "print(\"\\n--- Step 3: Create Network Configuration ---\")\n",
    "nre_config = get_nre_config('hybrid_deepset_reduce_on_plateau')  # Utiliser une configuration existante\n",
    "nre_config.training.num_epochs = 50\n",
    "nre_config.training.n_samples_per_epoch = 10240\n",
    "nre_config.training.num_thetas_to_store = 10000\n",
    "\n",
    "nre_config.save(network_config_path)\n",
    "print(f\"Training configuration saved to: {network_config_path}\")\n",
    "print(f\"Using configuration: {nre_config.experiment_name}\")\n",
    "print(f\"Network type: {nre_config.network.network_type}\")\n",
    "print(f\"LR Schedule: {nre_config.training.lr_scheduler.schedule_name}\")"
   ]
  },
  {
   "cell_type": "code",
   "execution_count": null,
   "id": "0b7c93f4",
   "metadata": {},
   "outputs": [
    {
     "name": "stdout",
     "output_type": "stream",
     "text": [
      "\n",
      "--- Step 4: Training the Classifier ---\n",
      "⚠️  Warning: Could not load summary statistics: cannot unpack from multi-byte object\n",
      "✅ Simulator loaded from: ../results/gauss_1D_simulator.yml\n",
      "⚠️  Warning: Could not load summary statistics: cannot unpack from multi-byte object\n",
      "✅ Simulator loaded from: ../results/gauss_1D_simulator.yml\n",
      "🔧 Configured HybridDeepSetNetwork with data indices: [0, 1, 2, 3, 4, 5, 6, 7, 8, 9]\n",
      "🔧 Configured HybridDeepSetNetwork with data indices: [0, 1, 2, 3, 4, 5, 6, 7, 8, 9]\n",
      "Initialized network with 37,297 parameters\n",
      "✅ Auto-detected feature dimension: 12\n",
      "Initialized network with 37,297 parameters\n",
      "✅ Auto-detected feature dimension: 12\n",
      "Epoch 1/50 | Train Loss: 0.3442, Val Loss: 0.3281, Train Acc 87.11%, Val Acc: 88.72%, Learning rate = 0.001000, Samples: 5120, Sims: 5120\n",
      "Epoch 1/50 | Train Loss: 0.3442, Val Loss: 0.3281, Train Acc 87.11%, Val Acc: 88.72%, Learning rate = 0.001000, Samples: 5120, Sims: 5120\n",
      "Epoch 2/50 | Train Loss: 0.2299, Val Loss: 0.2376, Train Acc 92.19%, Val Acc: 91.21%, Learning rate = 0.001000, Samples: 10240, Sims: 10240\n",
      "Epoch 3/50 | Train Loss: 0.2081, Val Loss: 0.2023, Train Acc 92.58%, Val Acc: 92.82%, Learning rate = 0.001000, Samples: 15360, Sims: 15360\n",
      "Epoch 4/50 | Train Loss: 0.2075, Val Loss: 0.1922, Train Acc 91.02%, Val Acc: 93.36%, Learning rate = 0.001000, Samples: 20480, Sims: 20480\n",
      "Epoch 5/50 | Train Loss: 0.1561, Val Loss: 0.1858, Train Acc 94.92%, Val Acc: 93.70%, Learning rate = 0.001000, Samples: 25600, Sims: 25600\n",
      "Epoch 2/50 | Train Loss: 0.2299, Val Loss: 0.2376, Train Acc 92.19%, Val Acc: 91.21%, Learning rate = 0.001000, Samples: 10240, Sims: 10240\n",
      "Epoch 3/50 | Train Loss: 0.2081, Val Loss: 0.2023, Train Acc 92.58%, Val Acc: 92.82%, Learning rate = 0.001000, Samples: 15360, Sims: 15360\n",
      "Epoch 4/50 | Train Loss: 0.2075, Val Loss: 0.1922, Train Acc 91.02%, Val Acc: 93.36%, Learning rate = 0.001000, Samples: 20480, Sims: 20480\n",
      "Epoch 5/50 | Train Loss: 0.1561, Val Loss: 0.1858, Train Acc 94.92%, Val Acc: 93.70%, Learning rate = 0.001000, Samples: 25600, Sims: 25600\n",
      "Epoch 6/50 | Train Loss: 0.1564, Val Loss: 0.1752, Train Acc 94.53%, Val Acc: 93.75%, Learning rate = 0.001000, Samples: 30720, Sims: 30720\n",
      "Epoch 7/50 | Train Loss: 0.1934, Val Loss: 0.1687, Train Acc 92.97%, Val Acc: 93.99%, Learning rate = 0.001000, Samples: 35840, Sims: 35840\n",
      "Epoch 8/50 | Train Loss: 0.1842, Val Loss: 0.1855, Train Acc 94.92%, Val Acc: 93.36%, Learning rate = 0.001000, Samples: 40960, Sims: 40960\n",
      "Epoch 9/50 | Train Loss: 0.1510, Val Loss: 0.1754, Train Acc 94.53%, Val Acc: 93.95%, Learning rate = 0.001000, Samples: 46080, Sims: 46080\n",
      "Epoch 6/50 | Train Loss: 0.1564, Val Loss: 0.1752, Train Acc 94.53%, Val Acc: 93.75%, Learning rate = 0.001000, Samples: 30720, Sims: 30720\n",
      "Epoch 7/50 | Train Loss: 0.1934, Val Loss: 0.1687, Train Acc 92.97%, Val Acc: 93.99%, Learning rate = 0.001000, Samples: 35840, Sims: 35840\n",
      "Epoch 8/50 | Train Loss: 0.1842, Val Loss: 0.1855, Train Acc 94.92%, Val Acc: 93.36%, Learning rate = 0.001000, Samples: 40960, Sims: 40960\n",
      "Epoch 9/50 | Train Loss: 0.1510, Val Loss: 0.1754, Train Acc 94.53%, Val Acc: 93.95%, Learning rate = 0.001000, Samples: 46080, Sims: 46080\n",
      "Epoch 10/50 | Train Loss: 0.1332, Val Loss: 0.1871, Train Acc 96.09%, Val Acc: 93.60%, Learning rate = 0.001000, Samples: 51200, Sims: 51200\n",
      "Epoch 11/50 | Train Loss: 0.1347, Val Loss: 0.1834, Train Acc 95.70%, Val Acc: 93.70%, Learning rate = 0.001000, Samples: 56320, Sims: 56320\n",
      "Epoch 12/50 | Train Loss: 0.1846, Val Loss: 0.1886, Train Acc 93.36%, Val Acc: 93.95%, Learning rate = 0.001000, Samples: 61440, Sims: 61440\n",
      "Epoch 13/50 | Train Loss: 0.1954, Val Loss: 0.1908, Train Acc 92.58%, Val Acc: 93.26%, Learning rate = 0.001000, Samples: 66560, Sims: 66560\n",
      "Epoch 10/50 | Train Loss: 0.1332, Val Loss: 0.1871, Train Acc 96.09%, Val Acc: 93.60%, Learning rate = 0.001000, Samples: 51200, Sims: 51200\n",
      "Epoch 11/50 | Train Loss: 0.1347, Val Loss: 0.1834, Train Acc 95.70%, Val Acc: 93.70%, Learning rate = 0.001000, Samples: 56320, Sims: 56320\n",
      "Epoch 12/50 | Train Loss: 0.1846, Val Loss: 0.1886, Train Acc 93.36%, Val Acc: 93.95%, Learning rate = 0.001000, Samples: 61440, Sims: 61440\n",
      "Epoch 13/50 | Train Loss: 0.1954, Val Loss: 0.1908, Train Acc 92.58%, Val Acc: 93.26%, Learning rate = 0.001000, Samples: 66560, Sims: 66560\n",
      "🔻 Learning rate reduced: 0.001000 → 0.000500 (factor: 0.5)\n",
      "Epoch 14/50 | Train Loss: 0.1785, Val Loss: 0.2016, Train Acc 93.75%, Val Acc: 93.02%, Learning rate = 0.000500, Samples: 71680, Sims: 71680\n",
      "🔻 Learning rate reduced: 0.001000 → 0.000500 (factor: 0.5)\n",
      "Epoch 14/50 | Train Loss: 0.1785, Val Loss: 0.2016, Train Acc 93.75%, Val Acc: 93.02%, Learning rate = 0.000500, Samples: 71680, Sims: 71680\n",
      "Epoch 15/50 | Train Loss: 0.1906, Val Loss: 0.1762, Train Acc 93.36%, Val Acc: 93.99%, Learning rate = 0.000500, Samples: 76800, Sims: 76800\n",
      "Epoch 16/50 | Train Loss: 0.1658, Val Loss: 0.1664, Train Acc 94.14%, Val Acc: 94.68%, Learning rate = 0.000500, Samples: 81920, Sims: 81920\n",
      "Epoch 17/50 | Train Loss: 0.1596, Val Loss: 0.1819, Train Acc 94.92%, Val Acc: 93.51%, Learning rate = 0.000500, Samples: 87040, Sims: 87040\n",
      "Epoch 18/50 | Train Loss: 0.1616, Val Loss: 0.1790, Train Acc 94.92%, Val Acc: 93.51%, Learning rate = 0.000500, Samples: 92160, Sims: 92160\n",
      "Epoch 15/50 | Train Loss: 0.1906, Val Loss: 0.1762, Train Acc 93.36%, Val Acc: 93.99%, Learning rate = 0.000500, Samples: 76800, Sims: 76800\n",
      "Epoch 16/50 | Train Loss: 0.1658, Val Loss: 0.1664, Train Acc 94.14%, Val Acc: 94.68%, Learning rate = 0.000500, Samples: 81920, Sims: 81920\n",
      "Epoch 17/50 | Train Loss: 0.1596, Val Loss: 0.1819, Train Acc 94.92%, Val Acc: 93.51%, Learning rate = 0.000500, Samples: 87040, Sims: 87040\n",
      "Epoch 18/50 | Train Loss: 0.1616, Val Loss: 0.1790, Train Acc 94.92%, Val Acc: 93.51%, Learning rate = 0.000500, Samples: 92160, Sims: 92160\n",
      "Epoch 19/50 | Train Loss: 0.2059, Val Loss: 0.1840, Train Acc 92.97%, Val Acc: 93.51%, Learning rate = 0.000500, Samples: 97280, Sims: 97280\n",
      "Epoch 20/50 | Train Loss: 0.2090, Val Loss: 0.1833, Train Acc 93.36%, Val Acc: 93.31%, Learning rate = 0.000500, Samples: 102400, Sims: 102400\n",
      "Epoch 21/50 | Train Loss: 0.1597, Val Loss: 0.1802, Train Acc 92.97%, Val Acc: 93.51%, Learning rate = 0.000500, Samples: 107520, Sims: 107520\n",
      "Epoch 22/50 | Train Loss: 0.1778, Val Loss: 0.1680, Train Acc 93.75%, Val Acc: 94.53%, Learning rate = 0.000500, Samples: 112640, Sims: 112640\n",
      "Epoch 19/50 | Train Loss: 0.2059, Val Loss: 0.1840, Train Acc 92.97%, Val Acc: 93.51%, Learning rate = 0.000500, Samples: 97280, Sims: 97280\n",
      "Epoch 20/50 | Train Loss: 0.2090, Val Loss: 0.1833, Train Acc 93.36%, Val Acc: 93.31%, Learning rate = 0.000500, Samples: 102400, Sims: 102400\n",
      "Epoch 21/50 | Train Loss: 0.1597, Val Loss: 0.1802, Train Acc 92.97%, Val Acc: 93.51%, Learning rate = 0.000500, Samples: 107520, Sims: 107520\n",
      "Epoch 22/50 | Train Loss: 0.1778, Val Loss: 0.1680, Train Acc 93.75%, Val Acc: 94.53%, Learning rate = 0.000500, Samples: 112640, Sims: 112640\n",
      "🔻 Learning rate reduced: 0.000500 → 0.000250 (factor: 0.5)\n",
      "Epoch 23/50 | Train Loss: 0.2131, Val Loss: 0.1886, Train Acc 92.58%, Val Acc: 93.12%, Learning rate = 0.000250, Samples: 117760, Sims: 117760\n",
      "🔻 Learning rate reduced: 0.000500 → 0.000250 (factor: 0.5)\n",
      "Epoch 23/50 | Train Loss: 0.2131, Val Loss: 0.1886, Train Acc 92.58%, Val Acc: 93.12%, Learning rate = 0.000250, Samples: 117760, Sims: 117760\n",
      "Epoch 24/50 | Train Loss: 0.1316, Val Loss: 0.1685, Train Acc 95.70%, Val Acc: 94.14%, Learning rate = 0.000250, Samples: 122880, Sims: 122880\n",
      "Epoch 25/50 | Train Loss: 0.1965, Val Loss: 0.1781, Train Acc 92.58%, Val Acc: 93.90%, Learning rate = 0.000250, Samples: 128000, Sims: 128000\n",
      "\n",
      "Early stopping triggered at epoch 26/50\n",
      "   Reason: No validation improvement for 10 epochs\n",
      "   Best validation loss: 0.166392\n",
      "   Current validation loss: 0.166758\n",
      "   Training completed after 26 epochs\n",
      "Epoch 24/50 | Train Loss: 0.1316, Val Loss: 0.1685, Train Acc 95.70%, Val Acc: 94.14%, Learning rate = 0.000250, Samples: 122880, Sims: 122880\n",
      "Epoch 25/50 | Train Loss: 0.1965, Val Loss: 0.1781, Train Acc 92.58%, Val Acc: 93.90%, Learning rate = 0.000250, Samples: 128000, Sims: 128000\n",
      "\n",
      "Early stopping triggered at epoch 26/50\n",
      "   Reason: No validation improvement for 10 epochs\n",
      "   Best validation loss: 0.166392\n",
      "   Current validation loss: 0.166758\n",
      "   Training completed after 26 epochs\n"
     ]
    }
   ],
   "source": [
    "# --- Step 4: Training the Classifier ---\n",
    "print(\"\\n--- Step 4: Training the Classifier ---\")\n",
    "\n",
    "loaded_simulator = ABCSimulator.load(simulator_path)\n",
    "network = create_network_from_config(nre_config.network.to_dict())\n",
    "estimator = NeuralRatioEstimator(\n",
    "    network=network,\n",
    "    training_config=nre_config.training,\n",
    "    random_seed=nre_config.random_seed\n",
    ")\n",
    "\n",
    "key, train_key = jax.random.split(key)\n",
    "training_history = estimator.train(\n",
    "                                    key=train_key,\n",
    "                                    simulator=loaded_simulator,\n",
    "                                    output_dir=output_dir,\n",
    "                                    num_epochs=nre_config.training.num_epochs,\n",
    "                                    n_samples_per_epoch=nre_config.training.n_samples_per_epoch,\n",
    "                                    batch_size=nre_config.training.batch_size\n",
    "                                )"
   ]
  },
  {
   "cell_type": "code",
   "execution_count": null,
   "id": "921ae3d2",
   "metadata": {},
   "outputs": [
    {
     "name": "stdout",
     "output_type": "stream",
     "text": [
      "\n",
      "--- Step 5: Saving All Classifier Artifacts ---\n",
      "✅ Simulator saved with hash: d1312ced323a\n",
      "   - Configuration: ../results/gauss_1D_simulator_eps_inf_b7d408f5b633.yml\n",
      "   - Observed Data: ../results/observed_data_eps_inf_d1312ced323a.npy\n",
      "✅ Simulator saved to: ../results/gauss_1D_simulator_eps_inf_b7d408f5b633.yml\n",
      "✅ Classifier saved to: ../results/gauss_1D_classifier_eps_inf_8066ecdd5fac.yml\n",
      "   - Hash: 8066ecdd5fac (includes network + training + simulator + epsilon)\n",
      "   - Associated simulator config: gauss_1D_simulator_eps_inf_b7d408f5b633.yml\n"
     ]
    }
   ],
   "source": [
    "# --- Step 5: Saving All Classifier Artifacts ---\n",
    "print(\"\\n--- Step 5: Saving All Classifier Artifacts ---\")\n",
    "\n",
    "final_config_path = save_classifier(\n",
    "    estimator=estimator,\n",
    "    simulator=loaded_simulator,\n",
    "    output_dir=output_dir,\n",
    "    filename_base=\"gauss_1D\"\n",
    ")"
   ]
  }
 ],
 "metadata": {
  "language_info": {
   "name": "python"
  }
 },
 "nbformat": 4,
 "nbformat_minor": 5
}
