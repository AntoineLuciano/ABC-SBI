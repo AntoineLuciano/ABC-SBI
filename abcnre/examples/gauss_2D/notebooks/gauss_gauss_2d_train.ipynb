{
 "cells": [
  {
   "cell_type": "code",
   "execution_count": 1,
   "id": "a19fc93e",
   "metadata": {},
   "outputs": [
    {
     "name": "stderr",
     "output_type": "stream",
     "text": [
      "INFO:jax._src.xla_bridge:Unable to initialize backend 'rocm': module 'jaxlib.xla_extension' has no attribute 'GpuAllocatorConfig'\n",
      "INFO:jax._src.xla_bridge:Unable to initialize backend 'tpu': INTERNAL: Failed to open libtpu.so: dlopen(libtpu.so, 0x0001): tried: 'libtpu.so' (no such file), '/System/Volumes/Preboot/Cryptexes/OSlibtpu.so' (no such file), '/Users/antoineluciano/.pyenv/versions/3.10.13/lib/libtpu.so' (no such file), '/System/Volumes/Preboot/Cryptexes/OS/Users/antoineluciano/.pyenv/versions/3.10.13/lib/libtpu.so' (no such file), '/opt/homebrew/lib/libtpu.so' (no such file), '/System/Volumes/Preboot/Cryptexes/OS/opt/homebrew/lib/libtpu.so' (no such file), '/Users/antoineluciano/.pyenv/versions/3.10.13/lib/libtpu.so' (no such file), '/System/Volumes/Preboot/Cryptexes/OS/Users/antoineluciano/.pyenv/versions/3.10.13/lib/libtpu.so' (no such file), '/opt/homebrew/lib/libtpu.so' (no such file), '/System/Volumes/Preboot/Cryptexes/OS/opt/homebrew/lib/libtpu.so' (no such file), '/Users/antoineluciano/.pyenv/versions/3.10.13/lib/libtpu.so' (no such file), '/System/Volumes/Preboot/Cryptexes/OS/Users/antoineluciano/.pyenv/versions/3.10.13/lib/libtpu.so' (no such file), '/opt/homebrew/lib/libtpu.so' (no such file), '/System/Volumes/Preboot/Cryptexes/OS/opt/homebrew/lib/libtpu.so' (no such file), '/usr/lib/libtpu.so' (no such file, not in dyld cache), 'libtpu.so' (no such file), '/usr/local/lib/libtpu.so' (no such file), '/usr/lib/libtpu.so' (no such file, not in dyld cache)\n"
     ]
    },
    {
     "name": "stdout",
     "output_type": "stream",
     "text": [
      "--- Step 1: Load model and create simulator ---\n",
      "Model loaded: GaussGaussMultiDimModel(dim=2, n_obs=10, marginal_of_interest=0)\n",
      "📝 Created temporary observed data for prior sampling mode\n"
     ]
    }
   ],
   "source": [
    "from pathlib import Path\n",
    "from abcnre.simulation import ABCSimulator\n",
    "from abcnre.simulation.models import create_model_from_dict, get_example_model_configs\n",
    "import yaml\n",
    "%load_ext autoreload\n",
    "%autoreload 2\n",
    "\n",
    "current_dir = Path().resolve() \n",
    "parent_dir = current_dir.parent    \n",
    "results_dir = parent_dir / \"results\" \n",
    "\n",
    "print(\"--- Step 1: Load model and create simulator ---\")\n",
    "model_name = \"gauss_gauss_2d_default\"\n",
    "model_config = get_example_model_configs(model_name)\n",
    "\n",
    "\n",
    "model = create_model_from_dict(model_config)\n",
    "print(f\"Model loaded: {model}\")\n",
    "\n",
    "\n",
    "simulator = ABCSimulator(model=model)"
   ]
  },
  {
   "cell_type": "code",
   "execution_count": null,
   "id": "414d8d46",
   "metadata": {},
   "outputs": [
    {
     "name": "stderr",
     "output_type": "stream",
     "text": [
      "WARNING:abcnre.training.config:Failed to load custom lr_scheduler 'constant_default': 'str' object has no attribute 'items'\n",
      "INFO:abcnre.training.config:Using lr_scheduler from training config\n",
      "INFO:abcnre.training.config:Using stopping rules: balanced\n",
      "INFO:abcnre.training.config:Created NN config: classifier_deepset_default_default (task: classifier)\n",
      "INFO:abcnre.training.config:Using stopping rules: balanced\n",
      "INFO:abcnre.training.config:Created NN config: summary_learner_DeepSet_default_default (task: summary_learner)\n",
      "INFO:abcnre.training.components.metrics:Configuration Summary:\n",
      "INFO:abcnre.training.components.metrics:   Task: summary_learner\n",
      "INFO:abcnre.training.components.metrics:   Network: DeepSet\n",
      "INFO:abcnre.training.components.metrics:   Optimizer: adam\n",
      "INFO:abcnre.training.components.metrics:   Learning rate: 0.0003\n",
      "INFO:abcnre.training.components.metrics:   LR scheduler: cosine\n",
      "INFO:abcnre.training.components.metrics:   Batch size: 256\n",
      "INFO:abcnre.training.components.metrics:   Samples/epoch: 10240\n",
      "INFO:abcnre.training.components.metrics:   Max epochs: 100\n",
      "INFO:abcnre.training.components.metrics:   Stopping rules: Enabled\n",
      "INFO:abcnre.training.components.setup:Setting up summary_learner training\n",
      "INFO:abcnre.training.components.setup:Epochs: 100, Batch size: 256, Batches/epoch: 40\n"
     ]
    },
    {
     "name": "stdout",
     "output_type": "stream",
     "text": [
      "--- Step 1.5 : Learn Summary Stats (Optional) ---\n"
     ]
    },
    {
     "name": "stderr",
     "output_type": "stream",
     "text": [
      "INFO:abcnre.training.registry:Registered networks: MLP, DeepSet, ConditionedDeepSet\n",
      "INFO:abcnre.training.registry:Set output_dim=1 for DeepSet network\n",
      "INFO:abcnre.training.registry:Created DeepSet network (from 'DeepSet') for summary_learner\n",
      "INFO:abcnre.training.registry:Network args: {'activation': 'relu', 'use_layer_norm': True, 'dropout_rate': 0.0, 'pooling_type': 'mean', 'phi_hidden_dims': [32, 16], 'rho_hidden_dims': [32, 16], 'output_dim': 1}\n",
      "INFO:abcnre.training.components.setup:Created network: DeepSet\n",
      "INFO:abcnre.training.components.setup:Network initialized with 1,905 parameters\n",
      "INFO:abcnre.training.components.setup:Using same generator for validation data\n",
      "INFO:abcnre.training.components.setup:Setup complete. Initial simulations: 1034\n",
      "INFO:abcnre.training.components.metrics:============================================================\n",
      "INFO:abcnre.training.components.metrics:Starting summary_learner training\n",
      "INFO:abcnre.training.components.metrics:Epochs: 100, Batch size: 256, Batches/epoch: 40\n",
      "INFO:abcnre.training.components.metrics:============================================================\n",
      "INFO:abcnre.training.train:Active stopping criteria: ['max_epochs', 'early_stopping', 'lr_stopping', 'sample_stopping']\n",
      "INFO:abcnre.training.components.metrics:Epoch   1/100 | Loss: train = 6.609910 val = 4.841905 | LR: 3.00e-04 | Samples: 11,274 | Time: 1.4s\n",
      "INFO:abcnre.training.train:ETA: 1.9 minutes\n",
      "INFO:abcnre.training.components.metrics:Epoch  11/100 | Loss: train = 1.421562 val = 1.325704 | LR: 2.91e-04 | Samples: 113,674 | Time: 3.1s\n",
      "INFO:abcnre.training.components.metrics:Epoch  21/100 | Loss: train = 0.711880 val = 0.582643 | LR: 2.69e-04 | Samples: 216,074 | Time: 4.6s\n",
      "INFO:abcnre.training.components.metrics:Epoch  31/100 | Loss: train = 0.366728 val = 0.325180 | LR: 2.34e-04 | Samples: 318,474 | Time: 5.9s\n",
      "INFO:abcnre.training.components.metrics:Epoch  41/100 | Loss: train = 0.273195 val = 0.223819 | LR: 1.92e-04 | Samples: 420,874 | Time: 7.3s\n",
      "INFO:abcnre.training.components.metrics:Epoch  51/100 | Loss: train = 0.212894 val = 0.181720 | LR: 1.45e-04 | Samples: 523,274 | Time: 8.8s\n",
      "INFO:abcnre.training.components.metrics:Epoch  61/100 | Loss: train = 0.194963 val = 0.159557 | LR: 9.92e-05 | Samples: 625,674 | Time: 10.2s\n",
      "INFO:abcnre.training.components.metrics:Epoch  71/100 | Loss: train = 0.181370 val = 0.149735 | LR: 5.81e-05 | Samples: 728,074 | Time: 11.6s\n",
      "INFO:abcnre.training.components.metrics:Epoch  81/100 | Loss: train = 0.170973 val = 0.143688 | LR: 2.59e-05 | Samples: 830,474 | Time: 13.0s\n",
      "INFO:abcnre.training.components.metrics:Epoch  91/100 | Loss: train = 0.173353 val = 0.141427 | LR: 5.96e-06 | Samples: 932,874 | Time: 14.8s\n",
      "INFO:abcnre.training.components.metrics:Early stopping at epoch 99: LR stopping at epoch 99: Current LR 7.40e-08 <= min_lr 1.00e-07\n",
      "INFO:abcnre.training.components.metrics:============================================================\n",
      "INFO:abcnre.training.components.metrics:Training completed!\n",
      "INFO:abcnre.training.components.metrics:Total time: 15.9s (0.3m)\n",
      "INFO:abcnre.training.components.metrics:Epochs completed: 99\n",
      "INFO:abcnre.training.components.metrics:Final train loss: 0.158077\n",
      "INFO:abcnre.training.components.metrics:Final val loss: 0.141140\n",
      "INFO:abcnre.training.components.metrics:Total simulations: 1,014,794\n",
      "INFO:abcnre.training.components.metrics:Best val loss: 0.141054 (epoch 94)\n",
      "INFO:abcnre.training.components.metrics:============================================================\n",
      "INFO:abcnre.training.train:Final stopping rules status: {'enabled': True, 'max_epochs': 500, 'active_criteria': ['max_epochs', 'early_stopping', 'lr_stopping', 'sample_stopping'], 'config': {'max_epochs': 500, 'early_stopping': {'enabled': True, 'monitor': 'validation_loss', 'patience': 15, 'min_delta': 0.0001, 'restore_best_weights': True, 'mode': 'min'}, 'lr_stopping': {'enabled': True, 'min_lr': 1e-07}, 'convergence_stopping': {'enabled': False, 'tolerance': 1e-06, 'patience': 5}, 'plateau_stopping': {'enabled': False, 'patience': 20, 'threshold': 1e-05}, 'time_stopping': {'enabled': False, 'max_time_hours': None}, 'sample_stopping': {'enabled': True, 'max_samples': inf}, 'simulation_stopping': {'enabled': False, 'max_simulations': None}}}\n",
      "INFO:abcnre.training.components.metrics:Training Metrics Summary:\n",
      "INFO:abcnre.training.components.metrics:   train_loss: min=0.155521, max=6.609910, mean=0.580977\n",
      "INFO:abcnre.training.components.metrics:   val_loss: min=0.141054, max=4.841905, mean=0.499418\n"
     ]
    },
    {
     "name": "stdout",
     "output_type": "stream",
     "text": [
      "✅ Updating model's summary statistics function...\n",
      "📝 Created temporary observed data for prior sampling mode\n",
      "✅ Summary statistics learned and updated successfully!\n",
      "   - Original data dimension: (10, 2)\n",
      "   - Learned summary function integrated into model\n",
      "Shapes : phi_samples: (10000, 1) x_samples: (10000, 10, 2)\n",
      "Shapes: summary_stats: (10000, 1) phi_samples: (10000, 1)\n",
      "Correlation between summary statistics and model parameters: [[0.99152344]]\n"
     ]
    },
    {
     "data": {
      "text/plain": [
       "Array([[0.99152344]], dtype=float32)"
      ]
     },
     "execution_count": 2,
     "metadata": {},
     "output_type": "execute_result"
    }
   ],
   "source": [
    "print(\"--- Step 1.5 : Learn Summary Stats (Optional) ---\")\n",
    "\n",
    "import jax\n",
    "from abcnre.training import get_nn_config\n",
    "key = jax.random.PRNGKey(123)\n",
    "key, subkey_learn = jax.random.split(key)\n",
    "\n",
    "\n",
    "regressor_config = get_nn_config(network_name=\"deepset\",\n",
    "                          network_size = \"default\",\n",
    "                          training_size = \"default\",\n",
    "                          task_type = \"classifier\",\n",
    "                          lr_scheduler_name = \"constant\",\n",
    "                          lr_scheduler_variant = \"default\",\n",
    "                          stopping_rules_variant = \"balanced\",\n",
    "                          experiment_name = None)\n",
    "simulator.train_summary_network(subkey_learn)\n",
    "\n",
    "key, subkey_check = jax.random.split(key)\n",
    "simulator.check_summary_stats_correlation(\n",
    "    subkey_check,\n",
    "    n_samples=10000)"
   ]
  },
  {
   "cell_type": "code",
   "execution_count": 3,
   "id": "f6759ea1",
   "metadata": {},
   "outputs": [
    {
     "name": "stdout",
     "output_type": "stream",
     "text": [
      "--- Step 2.1: Sample x_obs and initialize the ABCSimulator ---\n",
      "🔄 Updated sampler with new observed data.\n",
      "Observation x_obs: [[3.8779953 5.4392505]\n",
      " [4.2484436 2.6905732]\n",
      " [6.245473  5.323924 ]\n",
      " [4.0488725 2.7398715]\n",
      " [4.434888  5.2062173]\n",
      " [3.1106958 3.183335 ]\n",
      " [6.702392  3.8085222]\n",
      " [6.885131  4.337118 ]\n",
      " [5.61605   2.8866549]\n",
      " [4.71031   5.3226976]]\n"
     ]
    }
   ],
   "source": [
    "print(\"--- Step 2.1: Sample x_obs and initialize the ABCSimulator ---\")\n",
    "\n",
    "model = simulator.model\n",
    "\n",
    "key, key_prior = jax.random.split(key)\n",
    "true_theta = model.get_prior_sample(key_prior)\n",
    "\n",
    "true_phi = 5.\n",
    "true_theta = true_theta.at[model.marginal_of_interest].set(true_phi)\n",
    "\n",
    "key, subkey_sample = jax.random.split(key)\n",
    "x_obs = model.simulate_data(subkey_sample, true_theta)\n",
    "\n",
    "simulator.update_observed_data(x_obs)\n",
    "print(f\"Observation x_obs: {x_obs}\")\n",
    "\n",
    "quantile_distance = 1.\n",
    "key, subkey_epsilon = jax.random.split(key)\n",
    "simulator.set_epsilon_from_quantile(key = subkey_epsilon, quantile_distance=quantile_distance, n_samples=10000)"
   ]
  },
  {
   "cell_type": "code",
   "execution_count": 4,
   "id": "9833451b",
   "metadata": {},
   "outputs": [
    {
     "name": "stderr",
     "output_type": "stream",
     "text": [
      "INFO:abcnre.simulation.models.io:Model saved to: /Users/antoineluciano/Documents/Recherche/ABC-SBI-1/abcnre/examples/gauss_2D/results/simulator/simulator_model.yml\n",
      "INFO:abcnre.simulation.io:Saved model configuration to: /Users/antoineluciano/Documents/Recherche/ABC-SBI-1/abcnre/examples/gauss_2D/results/simulator/simulator_model.yml\n",
      "INFO:abcnre.simulation.io:Saved observed data to: /Users/antoineluciano/Documents/Recherche/ABC-SBI-1/abcnre/examples/gauss_2D/results/simulator/simulator_observed_data.npy\n",
      "INFO:abcnre.training.config:Configuration saved to /Users/antoineluciano/Documents/Recherche/ABC-SBI-1/abcnre/examples/gauss_2D/results/simulator/simulator_summary_network_config.yml\n",
      "INFO:abcnre.simulation.io:Saved summary network weights to: /Users/antoineluciano/Documents/Recherche/ABC-SBI-1/abcnre/examples/gauss_2D/results/simulator/simulator_summary_network_weights.npz\n",
      "INFO:abcnre.simulation.io:ABCSimulator configuration saved to: /Users/antoineluciano/Documents/Recherche/ABC-SBI-1/abcnre/examples/gauss_2D/results/simulator/simulator.yaml\n"
     ]
    },
    {
     "name": "stdout",
     "output_type": "stream",
     "text": [
      "--- Step 2.2: Save model to YAML (Optional) ---\n"
     ]
    }
   ],
   "source": [
    "print(\"--- Step 2.2: Save model to YAML (Optional) ---\")\n",
    "\n",
    "from abcnre.simulation import save_simulator_to_yaml\n",
    "\n",
    "\n",
    "save_simulator_to_yaml(\n",
    "    simulator,\n",
    "    results_dir / \"simulator\" / \"simulator.yaml\",\n",
    "    overwrite=True\n",
    ")"
   ]
  },
  {
   "cell_type": "code",
   "execution_count": 5,
   "id": "1afd2b60",
   "metadata": {},
   "outputs": [
    {
     "name": "stdout",
     "output_type": "stream",
     "text": [
      "--- Step 2.3 : Load model from YAML and check (Optional) ---"
     ]
    },
    {
     "name": "stderr",
     "output_type": "stream",
     "text": [
      "INFO:abcnre.simulation.io:Loaded model: GaussGaussMultiDimModel\n",
      "INFO:abcnre.simulation.io:Loaded observed data from: /Users/antoineluciano/Documents/Recherche/ABC-SBI-1/abcnre/examples/gauss_2D/results/simulator/simulator_observed_data.npy\n",
      "INFO:abcnre.training.config:Loaded configuration from /Users/antoineluciano/Documents/Recherche/ABC-SBI-1/abcnre/examples/gauss_2D/results/simulator/simulator_summary_network_config.yml\n",
      "INFO:abcnre.simulation.io:Loaded summary network config from: /Users/antoineluciano/Documents/Recherche/ABC-SBI-1/abcnre/examples/gauss_2D/results/simulator/simulator_summary_network_config.yml\n",
      "INFO:abcnre.simulation.io:Loaded summary network weights from: /Users/antoineluciano/Documents/Recherche/ABC-SBI-1/abcnre/examples/gauss_2D/results/simulator/simulator_summary_network_weights.npz\n",
      "INFO:abcnre.training.registry:Registered networks: MLP, DeepSet, ConditionedDeepSet\n",
      "INFO:abcnre.training.registry:Set output_dim=1 for DeepSet network\n",
      "INFO:abcnre.training.registry:Created DeepSet network (from 'DeepSet') for summary_learner\n",
      "INFO:abcnre.training.registry:Network args: {'activation': 'relu', 'use_layer_norm': True, 'dropout_rate': 0.0, 'pooling_type': 'mean', 'phi_hidden_dims': [32, 16], 'rho_hidden_dims': [32, 16], 'output_dim': 1}\n"
     ]
    },
    {
     "name": "stdout",
     "output_type": "stream",
     "text": [
      "\n",
      "Computing epsilon for 100.0% quantile...\n",
      "Setting epsilon to infinity (maximum distance).\n"
     ]
    },
    {
     "name": "stderr",
     "output_type": "stream",
     "text": [
      "INFO:abcnre.simulation.io:Summary network loaded and integrated into simulator\n"
     ]
    },
    {
     "data": {
      "text/plain": [
       "Text(0.5, 0, 'Phi samples')"
      ]
     },
     "execution_count": 5,
     "metadata": {},
     "output_type": "execute_result"
    },
    {
     "data": {
      "image/png": "[encoded data removed]",
      "text/plain": [
       "<Figure size 640x480 with 1 Axes>"
      ]
     },
     "metadata": {},
     "output_type": "display_data"
    }
   ],
   "source": [
    "print(\"--- Step 2.3 : Load model from YAML and check (Optional) ---\")\n",
    "\n",
    "from abcnre.simulation import load_simulator_from_yaml\n",
    "simulator_loaded = load_simulator_from_yaml(\n",
    "    results_dir / \"simulator\" / \"simulator.yaml\",\n",
    ")\n",
    "\n",
    "key, key_samples, key_samples_load = jax.random.split(key, 3)\n",
    "samples = simulator_loaded.generate_samples(key_samples, n_samples=100000)\n",
    "samples_load = simulator_loaded.generate_samples(key_samples_load, n_samples=100000)\n",
    "\n",
    "import seaborn as sns\n",
    "import matplotlib.pyplot as plt\n",
    "sns.kdeplot(samples.phi.flatten(), label=\"Samples from simulator\"\n",
    "            )\n",
    "sns.kdeplot(samples_load.phi.flatten(), label=\"Samples from loaded simulator\")\n",
    "plt.legend()\n",
    "plt.title(\"Phi marginal of the two simulators\")\n",
    "plt.xlabel(\"Phi samples\")"
   ]
  },
  {
   "cell_type": "code",
   "execution_count": 6,
   "id": "dd8c3643",
   "metadata": {},
   "outputs": [
    {
     "name": "stderr",
     "output_type": "stream",
     "text": [
      "INFO:abcnre.training.config:Using custom lr_scheduler: reduce_on_plateau_default\n",
      "INFO:abcnre.training.config:Using stopping rules: balanced\n",
      "INFO:abcnre.training.config:Created NN config: classifier_mlp_default_default (task: classifier)\n"
     ]
    },
    {
     "name": "stdout",
     "output_type": "stream",
     "text": [
      "--- Step 3.1: Create NNConfig for training ---\n"
     ]
    }
   ],
   "source": [
    "from abcnre.training import NNConfig, NetworkConfig, TrainingConfig, get_nn_config\n",
    "print(\"--- Step 3.1: Create NNConfig for training ---\")\n",
    "nn_config = get_nn_config(network_name=\"mlp\",\n",
    "                          network_size = \"default\",\n",
    "                          training_size = \"default\",\n",
    "                          task_type = \"classifier\",\n",
    "                          lr_scheduler_name = \"reduce_on_plateau\",\n",
    "                          lr_scheduler_variant = \"default\",\n",
    "                          stopping_rules_variant = \"balanced\",\n",
    "                          experiment_name = None)\n",
    "\n",
    "\n",
    "nn_config.training.num_epochs = 500\n",
    "nn_config.training.batch_size = 1024\n",
    "nn_config.training.n_samples_per_epoch = 10240\n",
    "nn_config.training.learning_rate = 1e-2\n",
    "nn_config.training.optimizer= \"adamw\"\n",
    "nn_config.training.weight_decay = 1e-3"
   ]
  },
  {
   "cell_type": "code",
   "execution_count": 7,
   "id": "c406b98d",
   "metadata": {},
   "outputs": [
    {
     "name": "stdout",
     "output_type": "stream",
     "text": [
      "--- Step 3.2: Create NeuralRatioEstimator ---\n"
     ]
    }
   ],
   "source": [
    "print(\"--- Step 3.2: Create NeuralRatioEstimator ---\")\n",
    "\n",
    "from abcnre.inference import NeuralRatioEstimator    \n",
    "\n",
    "estimator = NeuralRatioEstimator(\n",
    "    nn_config=nn_config,\n",
    "    simulator=simulator)"
   ]
  },
  {
   "cell_type": "code",
   "execution_count": 8,
   "id": "b8018464",
   "metadata": {},
   "outputs": [
    {
     "name": "stderr",
     "output_type": "stream",
     "text": [
      "INFO:abcnre.inference.estimator:Using MLP without summary statistics\n",
      "INFO:abcnre.inference.estimator:Storing 10000 phi during training\n",
      "INFO:abcnre.training.components.metrics:Configuration Summary:\n",
      "INFO:abcnre.training.components.metrics:   Task: classifier\n",
      "INFO:abcnre.training.components.metrics:   Network: MLP\n",
      "INFO:abcnre.training.components.metrics:   Optimizer: adamw\n",
      "INFO:abcnre.training.components.metrics:   Learning rate: 0.01\n",
      "INFO:abcnre.training.components.metrics:   LR scheduler: reduce_on_plateau\n",
      "INFO:abcnre.training.components.metrics:   Batch size: 1024\n",
      "INFO:abcnre.training.components.metrics:   Samples/epoch: 10240\n",
      "INFO:abcnre.training.components.metrics:   Max epochs: 500\n",
      "INFO:abcnre.training.components.metrics:   Stopping rules: Enabled\n",
      "INFO:abcnre.training.components.metrics:   Phi storage: 10000 values\n",
      "INFO:abcnre.training.components.setup:Setting up classifier training\n",
      "INFO:abcnre.training.components.setup:Epochs: 500, Batch size: 1024, Batches/epoch: 10\n"
     ]
    },
    {
     "name": "stdout",
     "output_type": "stream",
     "text": [
      "--- Step 3.3: Train the NeuralRatioEstimator ---\n"
     ]
    },
    {
     "name": "stderr",
     "output_type": "stream",
     "text": [
      "INFO:abcnre.training.registry:Registered networks: MLP, DeepSet, ConditionedDeepSet\n",
      "INFO:abcnre.training.registry:Set output_dim=1 for MLP network\n",
      "INFO:abcnre.training.registry:Created MLP network (from 'MLP') for classifier\n",
      "INFO:abcnre.training.registry:Network args: {'activation': 'relu', 'use_layer_norm': False, 'dropout_rate': 0.0, 'hidden_dims': [64, 64, 64], 'output_dim': 1}\n",
      "INFO:abcnre.training.components.setup:Created network: MLP\n",
      "INFO:abcnre.training.components.setup:Network initialized with 9,793 parameters\n",
      "INFO:abcnre.training.components.setup:Using same generator for validation data\n",
      "INFO:abcnre.training.components.setup:Setup complete. Initial simulations: 517\n",
      "INFO:abcnre.training.components.schedulers:Initialized reduce-on-plateau scheduler\n",
      "INFO:abcnre.training.components.loop:Initialized phi storage for 10000 values\n",
      "INFO:abcnre.training.components.metrics:============================================================\n",
      "INFO:abcnre.training.components.metrics:Starting classifier training\n",
      "INFO:abcnre.training.components.metrics:Epochs: 500, Batch size: 1024, Batches/epoch: 10\n",
      "INFO:abcnre.training.components.metrics:============================================================\n",
      "INFO:abcnre.training.train:Active stopping criteria: ['max_epochs', 'early_stopping', 'lr_stopping']\n",
      "INFO:abcnre.training.components.metrics:Epoch   1/500 | Loss: train = 0.651408 val = 0.533031 | Acc: train = 75.10% val = 73.63% | LR: 1.00e-02 | Samples: 11,274 | Sims: 5,637 | Time: 0.5s\n",
      "INFO:abcnre.training.train:ETA: 2.2 minutes\n",
      "INFO:abcnre.training.components.metrics:Epoch  11/500 | Loss: train = 0.228092 val = 0.218371 | Acc: train = 91.31% val = 91.99% | LR: 1.00e-02 | Samples: 113,674 | Sims: 56,837 | Time: 1.0s\n",
      "INFO:abcnre.training.components.metrics:Epoch  21/500 | Loss: train = 0.229955 val = 0.208118 | Acc: train = 92.97% val = 92.58% | LR: 1.00e-02 | Samples: 216,074 | Sims: 108,037 | Time: 1.5s\n",
      "INFO:abcnre.training.components.schedulers:Learning rate reduced: 1.00e-02 -> 5.00e-03\n",
      "INFO:abcnre.training.components.metrics:Learning rate reduced: 1.00e-02 -> 5.00e-03 (0.50x)\n",
      "INFO:abcnre.training.components.metrics:Epoch  31/500 | Loss: train = 0.213841 val = 0.199645 | Acc: train = 90.92% val = 92.77% | LR: 5.00e-03 | Samples: 318,474 | Sims: 159,237 | Time: 2.1s\n",
      "INFO:abcnre.training.components.schedulers:Learning rate reduced: 5.00e-03 -> 2.50e-03\n",
      "INFO:abcnre.training.components.metrics:Learning rate reduced: 5.00e-03 -> 2.50e-03 (0.50x)\n",
      "INFO:abcnre.training.components.metrics:Epoch  41/500 | Loss: train = 0.215192 val = 0.193065 | Acc: train = 91.50% val = 92.09% | LR: 2.50e-03 | Samples: 420,874 | Sims: 210,437 | Time: 2.8s\n",
      "INFO:abcnre.training.components.metrics:Epoch  51/500 | Loss: train = 0.205613 val = 0.191537 | Acc: train = 92.29% val = 92.77% | LR: 2.50e-03 | Samples: 523,274 | Sims: 261,637 | Time: 3.3s\n",
      "INFO:abcnre.training.components.schedulers:Learning rate reduced: 2.50e-03 -> 1.25e-03\n",
      "INFO:abcnre.training.components.metrics:Learning rate reduced: 2.50e-03 -> 1.25e-03 (0.50x)\n",
      "INFO:abcnre.training.components.metrics:Early stopping at epoch 60: Early stopping at epoch 60: No improvement in validation loss for 15 epochs (best: 0.187197, current: 0.194641)\n",
      "INFO:abcnre.training.components.metrics:============================================================\n",
      "INFO:abcnre.training.components.metrics:Training completed!\n",
      "INFO:abcnre.training.components.metrics:Total time: 3.9s (0.1m)\n",
      "INFO:abcnre.training.components.metrics:Epochs completed: 60\n",
      "INFO:abcnre.training.components.metrics:Final train loss: 0.207344\n",
      "INFO:abcnre.training.components.metrics:Final val loss: 0.194641\n",
      "INFO:abcnre.training.components.metrics:Final val accuracy: 92.4%\n",
      "INFO:abcnre.training.components.metrics:Total simulations: 307,717\n",
      "INFO:abcnre.training.components.metrics:Best val loss: 0.187197 (epoch 44)\n",
      "INFO:abcnre.training.components.metrics:============================================================\n",
      "INFO:abcnre.training.components.loop:Phi storage completed: 10000 values stored (target: 10000)\n",
      "INFO:abcnre.training.train:Final stopping rules status: {'enabled': True, 'max_epochs': 500, 'active_criteria': ['max_epochs', 'early_stopping', 'lr_stopping'], 'config': {'max_epochs': 500, 'early_stopping': {'enabled': True, 'monitor': 'validation_loss', 'patience': 15, 'min_delta': 0.0001, 'restore_best_weights': True, 'mode': 'min'}, 'lr_stopping': {'enabled': True, 'min_lr': 1e-07}, 'convergence_stopping': {'enabled': False, 'tolerance': 1e-06, 'patience': 5}, 'plateau_stopping': {'enabled': False, 'patience': 20, 'threshold': 1e-05}, 'time_stopping': {'enabled': False, 'max_time_hours': None}, 'sample_stopping': {'enabled': False, 'max_samples': None}, 'simulation_stopping': {'enabled': False, 'max_simulations': None}}}\n",
      "INFO:abcnre.training.components.metrics:Training Metrics Summary:\n",
      "INFO:abcnre.training.components.metrics:   train_loss: min=0.199074, max=0.651408, mean=0.230623\n",
      "INFO:abcnre.training.components.metrics:   val_loss: min=0.187197, max=0.533031, mean=0.210750\n",
      "INFO:abcnre.training.components.metrics:   train_accuracy: min=0.751, max=0.942, mean=0.915\n",
      "INFO:abcnre.training.components.metrics:   val_accuracy: min=0.736, max=0.932, mean=0.920\n",
      "INFO:abcnre.training.train:Stored phi values: 10000\n"
     ]
    },
    {
     "name": "stdout",
     "output_type": "stream",
     "text": [
      "✅ Neural Ratio Estimator training completed successfully!\n",
      "   - Final train loss: 0.2073436826467514\n",
      "   - Total simulations: 307717\n"
     ]
    }
   ],
   "source": [
    "print(\"--- Step 3.3: Train the NeuralRatioEstimator ---\")\n",
    "\n",
    "key, key_train = jax.random.split(key)\n",
    "res = estimator.train(key_train, n_phi_to_store = 10000)"
   ]
  },
  {
   "cell_type": "code",
   "execution_count": 9,
   "id": "7020b30b",
   "metadata": {},
   "outputs": [
    {
     "name": "stderr",
     "output_type": "stream",
     "text": [
      "INFO:abcnre.training.config:Configuration saved to /Users/antoineluciano/Documents/Recherche/ABC-SBI-1/abcnre/examples/gauss_2D/results/estimator/estimator_classif_config.yaml\n",
      "INFO:abcnre.inference.io:Saved classifier config to: /Users/antoineluciano/Documents/Recherche/ABC-SBI-1/abcnre/examples/gauss_2D/results/estimator/estimator_classif_config.yaml\n",
      "INFO:abcnre.simulation.models.io:Model saved to: /Users/antoineluciano/Documents/Recherche/ABC-SBI-1/abcnre/examples/gauss_2D/results/estimator/estimator_simulator_model.yml\n",
      "INFO:abcnre.simulation.io:Saved model configuration to: /Users/antoineluciano/Documents/Recherche/ABC-SBI-1/abcnre/examples/gauss_2D/results/estimator/estimator_simulator_model.yml\n",
      "INFO:abcnre.simulation.io:Saved observed data to: /Users/antoineluciano/Documents/Recherche/ABC-SBI-1/abcnre/examples/gauss_2D/results/estimator/estimator_simulator_observed_data.npy\n",
      "INFO:abcnre.training.config:Configuration saved to /Users/antoineluciano/Documents/Recherche/ABC-SBI-1/abcnre/examples/gauss_2D/results/estimator/estimator_simulator_summary_network_config.yml\n",
      "INFO:abcnre.simulation.io:Saved summary network weights to: /Users/antoineluciano/Documents/Recherche/ABC-SBI-1/abcnre/examples/gauss_2D/results/estimator/estimator_simulator_summary_network_weights.npz\n",
      "INFO:abcnre.simulation.io:ABCSimulator configuration saved to: /Users/antoineluciano/Documents/Recherche/ABC-SBI-1/abcnre/examples/gauss_2D/results/estimator/estimator_simulator.yaml\n",
      "INFO:abcnre.inference.io:Saved simulator config to: /Users/antoineluciano/Documents/Recherche/ABC-SBI-1/abcnre/examples/gauss_2D/results/estimator/estimator_simulator.yaml\n",
      "INFO:abcnre.inference.io:Saved classifier params to: /Users/antoineluciano/Documents/Recherche/ABC-SBI-1/abcnre/examples/gauss_2D/results/estimator/estimator_classif_params.npz\n",
      "INFO:abcnre.inference.io:Saved stored phis to: /Users/antoineluciano/Documents/Recherche/ABC-SBI-1/abcnre/examples/gauss_2D/results/estimator/estimator_stored_phis.npy\n",
      "INFO:abcnre.inference.io:Saved estimator to: /Users/antoineluciano/Documents/Recherche/ABC-SBI-1/abcnre/examples/gauss_2D/results/estimator/estimator.yaml\n"
     ]
    },
    {
     "name": "stdout",
     "output_type": "stream",
     "text": [
      "--- Step 3.4: Save the NeuralRatioEstimator to YAML (Optional) ---\n",
      "True stored_phis attribute not found in estimator\n"
     ]
    }
   ],
   "source": [
    "print(\"--- Step 3.4: Save the NeuralRatioEstimator to YAML (Optional) ---\")\n",
    "\n",
    "from abcnre.inference.io import save_estimator_to_yaml\n",
    "save_estimator_to_yaml(\n",
    "    estimator,\n",
    "    results_dir / \"estimator\" / \"estimator.yaml\",\n",
    "    overwrite=True\n",
    ")\n"
   ]
  },
  {
   "cell_type": "code",
   "execution_count": 10,
   "id": "0deab27d",
   "metadata": {},
   "outputs": [
    {
     "name": "stderr",
     "output_type": "stream",
     "text": [
      "INFO:abcnre.training.config:Loaded configuration from /Users/antoineluciano/Documents/Recherche/ABC-SBI-1/abcnre/examples/gauss_2D/results/estimator/estimator_classif_config.yaml\n",
      "INFO:abcnre.simulation.io:Loaded model: GaussGaussMultiDimModel\n",
      "INFO:abcnre.simulation.io:Loaded observed data from: /Users/antoineluciano/Documents/Recherche/ABC-SBI-1/abcnre/examples/gauss_2D/results/estimator/estimator_simulator_observed_data.npy\n",
      "INFO:abcnre.training.config:Loaded configuration from /Users/antoineluciano/Documents/Recherche/ABC-SBI-1/abcnre/examples/gauss_2D/results/estimator/estimator_simulator_summary_network_config.yml\n",
      "INFO:abcnre.simulation.io:Loaded summary network config from: /Users/antoineluciano/Documents/Recherche/ABC-SBI-1/abcnre/examples/gauss_2D/results/estimator/estimator_simulator_summary_network_config.yml\n",
      "INFO:abcnre.simulation.io:Loaded summary network weights from: /Users/antoineluciano/Documents/Recherche/ABC-SBI-1/abcnre/examples/gauss_2D/results/estimator/estimator_simulator_summary_network_weights.npz\n",
      "INFO:abcnre.training.registry:Registered networks: MLP, DeepSet, ConditionedDeepSet\n",
      "INFO:abcnre.training.registry:Set output_dim=1 for DeepSet network\n",
      "INFO:abcnre.training.registry:Created DeepSet network (from 'DeepSet') for summary_learner\n",
      "INFO:abcnre.training.registry:Network args: {'activation': 'relu', 'use_layer_norm': True, 'dropout_rate': 0.0, 'pooling_type': 'mean', 'phi_hidden_dims': [32, 16], 'rho_hidden_dims': [32, 16], 'output_dim': 1}\n",
      "INFO:abcnre.simulation.io:Summary network loaded and integrated into simulator\n",
      "INFO:abcnre.inference.io:Loaded trained params from: /Users/antoineluciano/Documents/Recherche/ABC-SBI-1/abcnre/examples/gauss_2D/results/estimator/estimator_classif_params.npz\n",
      "INFO:abcnre.training.registry:Registered networks: MLP, DeepSet, ConditionedDeepSet\n",
      "INFO:abcnre.training.registry:Set output_dim=1 for MLP network\n",
      "INFO:abcnre.training.registry:Created MLP network (from 'MLP') for classifier\n",
      "INFO:abcnre.training.registry:Network args: {'activation': 'relu', 'use_layer_norm': False, 'dropout_rate': 0.0, 'hidden_dims': [64, 64, 64], 'output_dim': 1}\n",
      "INFO:abcnre.inference.io:Loaded trained params from: /Users/antoineluciano/Documents/Recherche/ABC-SBI-1/abcnre/examples/gauss_2D/results/estimator/estimator_classif_params.npz\n",
      "INFO:abcnre.inference.io:Loaded log ratio function from: /Users/antoineluciano/Documents/Recherche/ABC-SBI-1/abcnre/examples/gauss_2D/results/estimator/estimator_classif_params.npz\n",
      "INFO:abcnre.inference.io:Loaded trained config from: /Users/antoineluciano/Documents/Recherche/ABC-SBI-1/abcnre/examples/gauss_2D/results/estimator/estimator_classif_params.npz\n",
      "INFO:abcnre.inference.io:Loaded stored phis from: /Users/antoineluciano/Documents/Recherche/ABC-SBI-1/abcnre/examples/gauss_2D/results/estimator/estimator_stored_phis.npy\n"
     ]
    },
    {
     "name": "stdout",
     "output_type": "stream",
     "text": [
      "--- Step 3.5: Load the NeuralRatioEstimator from YAML and check (Optional) ---\n",
      "Computing epsilon for 100.0% quantile...\n",
      "Setting epsilon to infinity (maximum distance).\n"
     ]
    },
    {
     "data": {
      "text/plain": [
       "Text(0.5, 1.0, 'Phi marginal of the two estimators')"
      ]
     },
     "execution_count": 10,
     "metadata": {},
     "output_type": "execute_result"
    },
    {
     "data": {
      "image/png": "[encoded data removed]",
      "text/plain": [
       "<Figure size 640x480 with 1 Axes>"
      ]
     },
     "metadata": {},
     "output_type": "display_data"
    }
   ],
   "source": [
    "print(\"--- Step 3.5: Load the NeuralRatioEstimator from YAML and check (Optional) ---\")\n",
    "\n",
    "from abcnre.inference import load_estimator_from_yaml\n",
    "\n",
    "estimator_loaded = load_estimator_from_yaml(\n",
    "    results_dir / \"estimator\" / \"estimator.yaml\",\n",
    ")\n",
    "\n",
    "key, key_samples_estimator, key_samples_estimator_load = jax.random.split(key, 3)\n",
    "samples_estimator = estimator.simulator.generate_samples(key_samples_estimator, n_samples=100000)\n",
    "samples_estimator_load = estimator_loaded.simulator.generate_samples(key_samples_estimator_load, n_samples=100000)\n",
    "import seaborn as sns\n",
    "import matplotlib.pyplot as plt\n",
    "sns.kdeplot(samples_estimator.phi.flatten(), label=\"Samples from estimator\")\n",
    "sns.kdeplot(samples_estimator_load.phi.flatten(), label=\"Samples from loaded estimator\")\n",
    "plt.legend()\n",
    "plt.title(\"Phi marginal of the two estimators\") "
   ]
  },
  {
   "cell_type": "code",
   "execution_count": 1,
   "id": "2c89a0b2",
   "metadata": {},
   "outputs": [
    {
     "ename": "NameError",
     "evalue": "name 'estimator' is not defined",
     "output_type": "error",
     "traceback": [
      "\u001b[0;31m---------------------------------------------------------------------------\u001b[0m",
      "\u001b[0;31mNameError\u001b[0m                                 Traceback (most recent call last)",
      "Cell \u001b[0;32mIn[1], line 5\u001b[0m\n\u001b[1;32m      2\u001b[0m \u001b[38;5;28;01mfrom\u001b[39;00m \u001b[38;5;21;01mabcnre\u001b[39;00m\u001b[38;5;21;01m.\u001b[39;00m\u001b[38;5;21;01mdiagnostics\u001b[39;00m\u001b[38;5;21;01m.\u001b[39;00m\u001b[38;5;21;01mviz\u001b[39;00m \u001b[38;5;28;01mimport\u001b[39;00m plot_posterior_comparison\n\u001b[1;32m      3\u001b[0m \u001b[38;5;28;01mimport\u001b[39;00m \u001b[38;5;21;01mnumpy\u001b[39;00m \u001b[38;5;28;01mas\u001b[39;00m \u001b[38;5;21;01mnp\u001b[39;00m\n\u001b[0;32m----> 5\u001b[0m abc_phi_samples \u001b[38;5;241m=\u001b[39m \u001b[43mestimator\u001b[49m\u001b[38;5;241m.\u001b[39mstored_phis\n\u001b[1;32m      6\u001b[0m min_phi, max_phi \u001b[38;5;241m=\u001b[39m np\u001b[38;5;241m.\u001b[39mmin(abc_phi_samples), np\u001b[38;5;241m.\u001b[39mmax(abc_phi_samples)\n\u001b[1;32m      8\u001b[0m n_grid \u001b[38;5;241m=\u001b[39m \u001b[38;5;241m10000\u001b[39m  \u001b[38;5;66;03m# Number of grid points for the posterior distribution\u001b[39;00m\n",
      "\u001b[0;31mNameError\u001b[0m: name 'estimator' is not defined"
     ]
    }
   ],
   "source": [
    "from abcnre.diagnostics.posterior import get_unnormalized_nre_pdf, get_normalized_pdf, get_unnormalized_corrected_nre_pdf\n",
    "from abcnre.diagnostics.viz import plot_posterior_comparison\n",
    "import numpy as np\n",
    "\n",
    "abc_phi_samples = estimator.stored_phis\n",
    "min_phi, max_phi = np.min(abc_phi_samples), np.max(abc_phi_samples)\n",
    "\n",
    "n_grid = 10000  # Number of grid points for the posterior distribution\n",
    "abc_phi_grid = np.linspace(min_phi, max_phi, n_grid)\n",
    "\n",
    "# Get posterior distributions\n",
    "unnormalized_pdf_func = get_unnormalized_nre_pdf(estimator)\n",
    "phi_grid, nre_pdf = get_normalized_pdf(unnormalized_pdf_func, \n",
    "                                       initial_bounds=(min_phi, max_phi), \n",
    "                                        n_grid_points=n_grid)\n",
    "\n",
    "# Get prior for plotting\n",
    "prior_pdf_values = simulator.model.prior_phi_pdf(abc_phi_grid)\n",
    "\n",
    "true_grid, true_pdf = get_normalized_pdf(simulator.model.get_posterior_phi_distribution(simulator.observed_data).pdf, initial_bounds=(min_phi, max_phi))\n",
    "\n",
    "unnormalized_corrected_pdf_func = get_unnormalized_corrected_nre_pdf(estimator)\n",
    "\n",
    "phi_corrected_grid, unnormalized_corrected_pdf = get_normalized_pdf(\n",
    "                                    unnormalized_pdf_func=unnormalized_corrected_pdf_func,\n",
    "                                    initial_bounds=(min_phi, max_phi),\n",
    "                                    n_grid_points=n_grid\n",
    ")\n",
    "\n",
    "phi_corrected_grid, unnormalized_corrected_pdf = get_normalized_pdf(\n",
    "    unnormalized_pdf_func=unnormalized_corrected_pdf_func,\n",
    "    initial_bounds=(min_phi, max_phi),\n",
    "    n_grid_points=n_grid\n",
    ")\n",
    "\n",
    "# Generate the comparison plot - flatten ABC samples to 1D\n",
    "plot_posterior_comparison(\n",
    "    distributions={\n",
    "        'NRE Posterior': (phi_grid, nre_pdf), \n",
    "        'ABC Posterior': abc_phi_samples.flatten(),  # Flatten to 1D array\n",
    "        'True Posterior': (true_grid, true_pdf), \n",
    "        'Corrected NRE Posterior': (phi_corrected_grid, unnormalized_corrected_pdf)\n",
    "    },\n",
    "    prior_pdf=(abc_phi_grid, prior_pdf_values),\n",
    "    xlim=(3,7)\n",
    "    # save_path=output_dir / \"posterior_comparison.png\"\n",
    ")\n",
    "\n",
    "print(\"\\n✅ Diagnostics complete.\")"
   ]
  }
 ],
 "metadata": {
  "kernelspec": {
   "display_name": "jax_env",
   "language": "python",
   "name": "python3"
  },
  "language_info": {
   "codemirror_mode": {
    "name": "ipython",
    "version": 3
   },
   "file_extension": ".py",
   "mimetype": "text/x-python",
   "name": "python",
   "nbconvert_exporter": "python",
   "pygments_lexer": "ipython3",
   "version": "3.10.13"
  }
 },
 "nbformat": 4,
 "nbformat_minor": 5
}
