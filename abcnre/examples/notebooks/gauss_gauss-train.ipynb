{
 "cells": [
  {
   "cell_type": "code",
   "execution_count": 1,
   "id": "53819a4e-43c0-4553-92b8-3bad6a1b4b97",
   "metadata": {},
   "outputs": [],
   "source": [
    "# =============================================================================\n",
    "# Main script to run a full end-to-end example for the abcnre package.\n",
    "# =============================================================================\n",
    "\n",
    "import jax\n",
    "import numpy as np\n",
    "import matplotlib.pyplot as plt\n",
    "from pathlib import Path\n",
    "\n",
    "# --- Imports from abcnre package ---\n",
    "from abcnre.simulation import ABCSimulator\n",
    "from abcnre.simulation.models import GaussGaussModel\n",
    "from abcnre.inference.persistence import save_classifier\n",
    "from abcnre.inference.config import ExperimentConfig, get_experiment_config\n",
    "from abcnre.inference.estimator import NeuralRatioEstimator\n",
    "from abcnre.inference.networks.base import create_network_from_config\n"
   ]
  },
  {
   "cell_type": "code",
   "execution_count": 2,
   "id": "734368c7-5113-42bd-a7f1-256d32d81fb5",
   "metadata": {},
   "outputs": [],
   "source": [
    "output_dir = Path(\"./gauss_example\")\n",
    "simulator_path = output_dir / \"gauss_1D_simulator.yml\"\n",
    "network_config_path = output_dir / \"config_mlp_reduce_on_plateau.yml\"\n"
   ]
  },
  {
   "cell_type": "code",
   "execution_count": 3,
   "id": "8aca3596-a0d3-4a9a-9813-2178897c2b71",
   "metadata": {},
   "outputs": [
    {
     "name": "stderr",
     "output_type": "stream",
     "text": [
      "WARNING:2025-07-15 14:11:04,015:jax._src.xla_bridge:966: An NVIDIA GPU may be present on this machine, but a CUDA-enabled jaxlib is not installed. Falling back to cpu.\n"
     ]
    },
    {
     "name": "stdout",
     "output_type": "stream",
     "text": [
      "--- Step 1: Create and Configure Simulator ---\n",
      "Computing epsilon for 5.0% quantile...\n",
      "Computed epsilon = 0.270363\n",
      "Simulator created with epsilon = 0.2704\n"
     ]
    }
   ],
   "source": [
    "true_theta = 2.5\n",
    "epsilon_quantile = 0.05\n",
    "n_obs = 100\n",
    "\n",
    "# --- Step 1: Create and Configure Simulator ---\n",
    "print(\"--- Step 1: Create and Configure Simulator ---\")\n",
    "key = jax.random.PRNGKey(42)\n",
    "key, subkey = jax.random.split(key)\n",
    "\n",
    "\n",
    "gauss_model = GaussGaussModel(mu0=0.0, sigma0=2.0, sigma=0.5)\n",
    "observed_data = true_theta + gauss_model.sigma * jax.random.normal(subkey, shape=(n_obs,))\n",
    "\n",
    "simulator = ABCSimulator(\n",
    "    model=gauss_model,\n",
    "    observed_data=observed_data,\n",
    "    quantile_distance=epsilon_quantile\n",
    ")\n",
    "print(f\"Simulator created with epsilon = {simulator.epsilon:.4f}\")"
   ]
  },
  {
   "cell_type": "code",
   "execution_count": 4,
   "id": "ba6fb035",
   "metadata": {},
   "outputs": [
    {
     "name": "stdout",
     "output_type": "stream",
     "text": [
      "\n",
      "--- Step 2: Save Simulator Configuration ---\n",
      "✅ Simulator saved with hash: 6b74249163b0\n",
      "   - Configuration: gauss_example/gauss_1D_simulator.yml\n",
      "   - Observed Data: gauss_example/observed_data_6b74249163b0.npy\n",
      "Simulator config saved to: gauss_example/gauss_1D_simulator.yml\n"
     ]
    }
   ],
   "source": [
    "# --- Step 2: Save Simulator Configuration ---\n",
    "print(\"\\n--- Step 2: Save Simulator Configuration ---\")\n",
    "output_dir.mkdir(exist_ok=True, parents=True)\n",
    "simulator.save(simulator_path)\n",
    "print(f\"Simulator config saved to: {simulator_path}\")"
   ]
  },
  {
   "cell_type": "code",
   "execution_count": 5,
   "id": "f37fb5bc",
   "metadata": {},
   "outputs": [
    {
     "name": "stdout",
     "output_type": "stream",
     "text": [
      "\n",
      "--- Step 3: Create Network Configuration ---\n",
      "Training configuration saved to: gauss_example/config_mlp_reduce_on_plateau.yml\n"
     ]
    }
   ],
   "source": [
    "# --- Step 3: Create Network and Training Configuration ---\n",
    "\n",
    "print(\"\\n--- Step 3: Create Network Configuration ---\")\n",
    "exp_config = get_experiment_config('default_mlp_plateau')\n",
    "exp_config.training.num_epochs = 50\n",
    "exp_config.training.n_samples_per_epoch = 10240\n",
    "exp_config.training.num_thetas_to_store = 10000\n",
    "\n",
    "exp_config.save(network_config_path)\n",
    "print(f\"Training configuration saved to: {network_config_path}\")"
   ]
  },
  {
   "cell_type": "code",
   "execution_count": 6,
   "id": "5d844311",
   "metadata": {},
   "outputs": [
    {
     "name": "stdout",
     "output_type": "stream",
     "text": [
      "\n",
      "--- Step 4: Training the Classifier ---\n",
      "✅ Simulator loaded from: gauss_example/gauss_1D_simulator.yml\n",
      "Initialized network with 10,753 parameters\n",
      "\n",
      "--- DEBUG INFO ---\n",
      "Does epoch_data contain phi_samples? True\n",
      "Shape of phi_samples: (5120, 1)\n",
      "--- END DEBUG INFO ---\n",
      "\n",
      "Epoch 1/50 | Train Loss: 0.6856, Val Loss: 0.6949, Train Acc 55.08%, Val Acc: 48.58%, Learning rate = 0.001000\n",
      "Epoch 2/50 | Train Loss: 0.6838, Val Loss: 0.6840, Train Acc 71.88%, Val Acc: 55.86%, Learning rate = 0.001000\n",
      "Epoch 3/50 | Train Loss: 0.6697, Val Loss: 0.6697, Train Acc 70.70%, Val Acc: 78.03%, Learning rate = 0.001000\n",
      "Epoch 4/50 | Train Loss: 0.6436, Val Loss: 0.6373, Train Acc 72.27%, Val Acc: 81.10%, Learning rate = 0.001000\n",
      "Epoch 5/50 | Train Loss: 0.5900, Val Loss: 0.6083, Train Acc 80.08%, Val Acc: 66.46%, Learning rate = 0.001000\n",
      "Epoch 6/50 | Train Loss: 0.5468, Val Loss: 0.5436, Train Acc 76.56%, Val Acc: 79.35%, Learning rate = 0.001000\n",
      "Epoch 7/50 | Train Loss: 0.5576, Val Loss: 0.5013, Train Acc 70.70%, Val Acc: 80.18%, Learning rate = 0.001000\n",
      "Epoch 8/50 | Train Loss: 0.4886, Val Loss: 0.4734, Train Acc 76.95%, Val Acc: 79.49%, Learning rate = 0.001000\n",
      "Epoch 9/50 | Train Loss: 0.4258, Val Loss: 0.4245, Train Acc 81.64%, Val Acc: 82.23%, Learning rate = 0.001000\n",
      "Epoch 10/50 | Train Loss: 0.4434, Val Loss: 0.4244, Train Acc 80.47%, Val Acc: 81.59%, Learning rate = 0.001000\n",
      "Epoch 11/50 | Train Loss: 0.4382, Val Loss: 0.4450, Train Acc 78.91%, Val Acc: 78.12%, Learning rate = 0.001000\n",
      "Epoch 12/50 | Train Loss: 0.4241, Val Loss: 0.4338, Train Acc 80.86%, Val Acc: 80.71%, Learning rate = 0.001000\n",
      "Epoch 13/50 | Train Loss: 0.4064, Val Loss: 0.4163, Train Acc 80.86%, Val Acc: 80.91%, Learning rate = 0.001000\n",
      "Epoch 14/50 | Train Loss: 0.4238, Val Loss: 0.4437, Train Acc 82.42%, Val Acc: 79.44%, Learning rate = 0.001000\n",
      "Epoch 15/50 | Train Loss: 0.4184, Val Loss: 0.4218, Train Acc 83.59%, Val Acc: 80.81%, Learning rate = 0.001000\n",
      "Epoch 16/50 | Train Loss: 0.3980, Val Loss: 0.4019, Train Acc 82.81%, Val Acc: 81.20%, Learning rate = 0.001000\n",
      "Epoch 17/50 | Train Loss: 0.4111, Val Loss: 0.4314, Train Acc 82.81%, Val Acc: 79.74%, Learning rate = 0.001000\n",
      "Epoch 18/50 | Train Loss: 0.3498, Val Loss: 0.4184, Train Acc 85.16%, Val Acc: 80.27%, Learning rate = 0.001000\n",
      "Epoch 19/50 | Train Loss: 0.3748, Val Loss: 0.4406, Train Acc 83.59%, Val Acc: 79.05%, Learning rate = 0.001000\n",
      "Epoch 20/50 | Train Loss: 0.3722, Val Loss: 0.4252, Train Acc 83.59%, Val Acc: 81.69%, Learning rate = 0.001000\n",
      "Epoch 21/50 | Train Loss: 0.4254, Val Loss: 0.4111, Train Acc 78.91%, Val Acc: 81.01%, Learning rate = 0.001000\n",
      "Epoch 22/50 | Train Loss: 0.4519, Val Loss: 0.4140, Train Acc 76.95%, Val Acc: 80.76%, Learning rate = 0.001000\n",
      "Epoch 23/50 | Train Loss: 0.4128, Val Loss: 0.4130, Train Acc 79.69%, Val Acc: 80.47%, Learning rate = 0.001000\n",
      "Epoch 24/50 | Train Loss: 0.3880, Val Loss: 0.4140, Train Acc 83.20%, Val Acc: 79.98%, Learning rate = 0.001000\n",
      "Epoch 25/50 | Train Loss: 0.3986, Val Loss: 0.4072, Train Acc 83.59%, Val Acc: 81.93%, Learning rate = 0.001000\n",
      "\n",
      "Early stopping at epoch 26\n"
     ]
    }
   ],
   "source": [
    "# --- Step 4: Training the Classifier ---\n",
    "print(\"\\n--- Step 4: Training the Classifier ---\")\n",
    "\n",
    "loaded_simulator = ABCSimulator.load(simulator_path)\n",
    "network = create_network_from_config(exp_config.network.to_dict())\n",
    "estimator = NeuralRatioEstimator(\n",
    "    network=network,\n",
    "    training_config=exp_config.training,\n",
    "    random_seed=exp_config.random_seed\n",
    ")\n",
    "\n",
    "key, train_key = jax.random.split(key)\n",
    "estimator.train(\n",
    "    simulator=loaded_simulator,\n",
    "    output_dir=output_dir,\n",
    "    num_epochs=exp_config.training.num_epochs,\n",
    "    n_samples_per_epoch=exp_config.training.n_samples_per_epoch,\n",
    "    batch_size=exp_config.training.batch_size\n",
    ")"
   ]
  },
  {
   "cell_type": "code",
   "execution_count": 7,
   "id": "6bc11808",
   "metadata": {},
   "outputs": [
    {
     "name": "stdout",
     "output_type": "stream",
     "text": [
      "\n",
      "--- Step 5: Saving All Classifier Artifacts ---\n",
      "✅ Classifier saved. Master config: gauss_example/gauss_1D_classifier.yml\n"
     ]
    }
   ],
   "source": [
    "# --- Step 5: Saving All Classifier Artifacts ---\n",
    "print(\"\\n--- Step 5: Saving All Classifier Artifacts ---\")\n",
    "\n",
    "final_config_path = save_classifier(\n",
    "    estimator=estimator,\n",
    "    simulator=loaded_simulator, # <<< On passe le simulateur pour sauvegarder les dimensions\n",
    "    output_dir=output_dir,\n",
    "    filename_base=\"gauss_1D\"\n",
    ")"
   ]
  }
 ],
 "metadata": {
  "kernelspec": {
   "display_name": "ABC-SBI-kernel",
   "language": "python",
   "name": "abc-sbi-kernel"
  },
  "language_info": {
   "codemirror_mode": {
    "name": "ipython",
    "version": 3
   },
   "file_extension": ".py",
   "mimetype": "text/x-python",
   "name": "python",
   "nbconvert_exporter": "python",
   "pygments_lexer": "ipython3",
   "version": "3.10.12"
  }
 },
 "nbformat": 4,
 "nbformat_minor": 5
}
