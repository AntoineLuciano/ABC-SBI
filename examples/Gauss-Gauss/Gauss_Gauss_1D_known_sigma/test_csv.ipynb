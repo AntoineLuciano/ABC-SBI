{
 "cells": [
  {
   "cell_type": "code",
   "execution_count": 1,
   "metadata": {},
   "outputs": [],
   "source": [
    "import pandas as pd\n",
    "import numpy as np\n",
    "import matplotlib.pyplot as plt\n"
   ]
  },
  {
   "cell_type": "code",
   "execution_count": 9,
   "metadata": {},
   "outputs": [],
   "source": [
    "PATH = './cluster_pattern_gauss/0_results.csv'\n",
    "df = pd.read_csv(PATH)\n"
   ]
  },
  {
   "cell_type": "code",
   "execution_count": 10,
   "metadata": {},
   "outputs": [
    {
     "data": {
      "text/html": [
       "<div>\n",
       "<style scoped>\n",
       "    .dataframe tbody tr th:only-of-type {\n",
       "        vertical-align: middle;\n",
       "    }\n",
       "\n",
       "    .dataframe tbody tr th {\n",
       "        vertical-align: top;\n",
       "    }\n",
       "\n",
       "    .dataframe thead th {\n",
       "        text-align: right;\n",
       "    }\n",
       "</style>\n",
       "<table border=\"1\" class=\"dataframe\">\n",
       "  <thead>\n",
       "    <tr style=\"text-align: right;\">\n",
       "      <th></th>\n",
       "      <th>ALPHA</th>\n",
       "      <th>TRUE_THETA</th>\n",
       "      <th>TEST_ACCURACY</th>\n",
       "      <th>TRAIN_ACCURACY</th>\n",
       "      <th>TEST_LOSSES</th>\n",
       "      <th>TRAIN_LOSSES</th>\n",
       "      <th>TIME_SIMULATIONS</th>\n",
       "      <th>TIME_TRAINING</th>\n",
       "      <th>TIME_EVAL</th>\n",
       "      <th>RANKSUMS_STAT_ABC</th>\n",
       "      <th>RANKSUMS_PVALUE_ABC</th>\n",
       "      <th>C2ST_ABC</th>\n",
       "      <th>RANKSUMS_STAT_NRE</th>\n",
       "      <th>RANKSUMS_PVALUE_NRE</th>\n",
       "      <th>C2ST_NRE</th>\n",
       "      <th>RANKSUMS_STAT_CORRECTED_NRE</th>\n",
       "      <th>RANKSUMS_PVALUE_CORRECTED_NRE</th>\n",
       "      <th>C2ST_CORRECTED_NRE</th>\n",
       "    </tr>\n",
       "  </thead>\n",
       "  <tbody>\n",
       "    <tr>\n",
       "      <th>0</th>\n",
       "      <td>1.00</td>\n",
       "      <td>[23.734226]</td>\n",
       "      <td>[nan, nan]</td>\n",
       "      <td>[0.5286458, 0.50911456]</td>\n",
       "      <td>[nan, nan]</td>\n",
       "      <td>[0.96377975, 3.9986522]</td>\n",
       "      <td>0.883468</td>\n",
       "      <td>1.741468e+09</td>\n",
       "      <td>2.49922</td>\n",
       "      <td>[11.95305844]</td>\n",
       "      <td>[6.25790768e-33]</td>\n",
       "      <td>[0.99000001]</td>\n",
       "      <td>[8.09494738]</td>\n",
       "      <td>[5.728911e-16]</td>\n",
       "      <td>[0.98000002]</td>\n",
       "      <td>[11.95305844]</td>\n",
       "      <td>[6.25790768e-33]</td>\n",
       "      <td>[0.99000001]</td>\n",
       "    </tr>\n",
       "    <tr>\n",
       "      <th>1</th>\n",
       "      <td>0.99</td>\n",
       "      <td>[23.734226]</td>\n",
       "      <td>[nan, nan]</td>\n",
       "      <td>[0.48046875, 0.48697916]</td>\n",
       "      <td>[nan, nan]</td>\n",
       "      <td>[2.3100052, 3.1112394]</td>\n",
       "      <td>0.480175</td>\n",
       "      <td>1.741468e+09</td>\n",
       "      <td>2.09001</td>\n",
       "      <td>[12.21694444]</td>\n",
       "      <td>[2.52393942e-34]</td>\n",
       "      <td>[1.]</td>\n",
       "      <td>[8.79619999]</td>\n",
       "      <td>[1.41527257e-18]</td>\n",
       "      <td>[0.995]</td>\n",
       "      <td>[12.21694444]</td>\n",
       "      <td>[2.52393942e-34]</td>\n",
       "      <td>[1.]</td>\n",
       "    </tr>\n",
       "  </tbody>\n",
       "</table>\n",
       "</div>"
      ],
      "text/plain": [
       "   ALPHA   TRUE_THETA TEST_ACCURACY            TRAIN_ACCURACY TEST_LOSSES  \\\n",
       "0   1.00  [23.734226]    [nan, nan]   [0.5286458, 0.50911456]  [nan, nan]   \n",
       "1   0.99  [23.734226]    [nan, nan]  [0.48046875, 0.48697916]  [nan, nan]   \n",
       "\n",
       "              TRAIN_LOSSES  TIME_SIMULATIONS  TIME_TRAINING  TIME_EVAL  \\\n",
       "0  [0.96377975, 3.9986522]          0.883468   1.741468e+09    2.49922   \n",
       "1   [2.3100052, 3.1112394]          0.480175   1.741468e+09    2.09001   \n",
       "\n",
       "  RANKSUMS_STAT_ABC RANKSUMS_PVALUE_ABC      C2ST_ABC RANKSUMS_STAT_NRE  \\\n",
       "0     [11.95305844]    [6.25790768e-33]  [0.99000001]      [8.09494738]   \n",
       "1     [12.21694444]    [2.52393942e-34]          [1.]      [8.79619999]   \n",
       "\n",
       "  RANKSUMS_PVALUE_NRE      C2ST_NRE RANKSUMS_STAT_CORRECTED_NRE  \\\n",
       "0      [5.728911e-16]  [0.98000002]               [11.95305844]   \n",
       "1    [1.41527257e-18]       [0.995]               [12.21694444]   \n",
       "\n",
       "  RANKSUMS_PVALUE_CORRECTED_NRE C2ST_CORRECTED_NRE  \n",
       "0              [6.25790768e-33]       [0.99000001]  \n",
       "1              [2.52393942e-34]               [1.]  "
      ]
     },
     "execution_count": 10,
     "metadata": {},
     "output_type": "execute_result"
    }
   ],
   "source": [
    "df"
   ]
  },
  {
   "cell_type": "code",
   "execution_count": 14,
   "metadata": {},
   "outputs": [
    {
     "data": {
      "text/plain": [
       "array([0.5286458 , 0.50911456])"
      ]
     },
     "execution_count": 14,
     "metadata": {},
     "output_type": "execute_result"
    }
   ],
   "source": [
    "np.array(df[\"TRAIN_ACCURACY\"][0][1:-1].split(\", \")).astype(float)"
   ]
  },
  {
   "cell_type": "code",
   "execution_count": null,
   "metadata": {},
   "outputs": [],
   "source": []
  }
 ],
 "metadata": {
  "kernelspec": {
   "display_name": "jax_env",
   "language": "python",
   "name": "python3"
  },
  "language_info": {
   "codemirror_mode": {
    "name": "ipython",
    "version": 3
   },
   "file_extension": ".py",
   "mimetype": "text/x-python",
   "name": "python",
   "nbconvert_exporter": "python",
   "pygments_lexer": "ipython3",
   "version": "3.10.13"
  }
 },
 "nbformat": 4,
 "nbformat_minor": 2
}
