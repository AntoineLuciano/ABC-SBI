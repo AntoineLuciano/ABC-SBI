{
 "cells": [
  {
   "cell_type": "code",
   "execution_count": 1,
   "metadata": {},
   "outputs": [],
   "source": [
    "import pandas as pd\n",
    "import numpy as np\n",
    "import matplotlib.pyplot as plt\n"
   ]
  },
  {
   "cell_type": "code",
   "execution_count": 2,
   "metadata": {},
   "outputs": [],
   "source": [
    "PATH = './clean_results/sigma0_5/csv/0_theta_11.9.csv'\n",
    "df = pd.read_csv(PATH)\n"
   ]
  },
  {
   "cell_type": "code",
   "execution_count": 3,
   "metadata": {},
   "outputs": [],
   "source": [
    "nre_corrected = df[\"C2ST_CORRECTED_NRE\"]\n",
    "abc = df[\"C2ST_ABC\"]\n",
    "nre = df[\"C2ST_NRE\"]\n",
    "alphas = df[\"ALPHA\"]"
   ]
  },
  {
   "cell_type": "code",
   "execution_count": 4,
   "metadata": {},
   "outputs": [
    {
     "name": "stdout",
     "output_type": "stream",
     "text": [
      "Old path: /mnt/nfs/nrdata02-users-data/luciano/script/ABC-SBI/examples/Gauss-Gauss/Gauss_Gauss_1D_known_sigma\n",
      "New path: /mnt/nfs/nrdata02-users-data/luciano/script/ABC-SBI\n"
     ]
    },
    {
     "ename": "TypeError",
     "evalue": "string indices must be integers",
     "output_type": "error",
     "traceback": [
      "\u001b[0;31m---------------------------------------------------------------------------\u001b[0m",
      "\u001b[0;31mTypeError\u001b[0m                                 Traceback (most recent call last)",
      "Cell \u001b[0;32mIn[4], line 13\u001b[0m\n\u001b[1;32m     10\u001b[0m sys\u001b[38;5;241m.\u001b[39mpath\u001b[38;5;241m.\u001b[39mappend(path)\n\u001b[1;32m     11\u001b[0m \u001b[38;5;28;01mfrom\u001b[39;00m \u001b[38;5;21;01mfunctions\u001b[39;00m\u001b[38;5;21;01m.\u001b[39;00m\u001b[38;5;21;01mplots\u001b[39;00m \u001b[38;5;28;01mimport\u001b[39;00m plot_metric_for_a_dataset\n\u001b[0;32m---> 13\u001b[0m \u001b[43mplot_metric_for_a_dataset\u001b[49m\u001b[43m(\u001b[49m\u001b[38;5;124;43m\"\u001b[39;49m\u001b[38;5;124;43mC2ST\u001b[39;49m\u001b[38;5;124;43m\"\u001b[39;49m\u001b[43m,\u001b[49m\u001b[43m \u001b[49m\u001b[43malphas\u001b[49m\u001b[43m,\u001b[49m\u001b[43m \u001b[49m\u001b[43mabc\u001b[49m\u001b[43m,\u001b[49m\u001b[43m \u001b[49m\u001b[43mnre\u001b[49m\u001b[43m,\u001b[49m\u001b[43m \u001b[49m\u001b[43mnre_corrected\u001b[49m\u001b[43m,\u001b[49m\u001b[43m \u001b[49m\u001b[38;5;241;43m1\u001b[39;49m\u001b[43m,\u001b[49m\u001b[43m \u001b[49m\u001b[38;5;124;43m\"\u001b[39;49m\u001b[38;5;124;43m\"\u001b[39;49m\u001b[43m,\u001b[49m\u001b[43m \u001b[49m\u001b[38;5;28;43;01mTrue\u001b[39;49;00m\u001b[43m)\u001b[49m\n",
      "File \u001b[0;32m/mnt/nfs/nrdata02-users-data/luciano/script/ABC-SBI/functions/plots.py:40\u001b[0m, in \u001b[0;36mplot_metric_for_a_dataset\u001b[0;34m(metric_name, ALPHAS, METRICS_ABC, METRICS_NRE, METRICS_CORRECTED_NRE, N_SAMPLES, PATH_NAME, show, title)\u001b[0m\n\u001b[1;32m     39\u001b[0m \u001b[38;5;28;01mdef\u001b[39;00m \u001b[38;5;21mplot_metric_for_a_dataset\u001b[39m(metric_name, ALPHAS, METRICS_ABC, METRICS_NRE, METRICS_CORRECTED_NRE,N_SAMPLES, PATH_NAME \u001b[38;5;241m=\u001b[39m \u001b[38;5;124m\"\u001b[39m\u001b[38;5;124m\"\u001b[39m, show \u001b[38;5;241m=\u001b[39m \u001b[38;5;28;01mTrue\u001b[39;00m, title \u001b[38;5;241m=\u001b[39m \u001b[38;5;124m\"\u001b[39m\u001b[38;5;124m\"\u001b[39m):\n\u001b[0;32m---> 40\u001b[0m     abc \u001b[38;5;241m=\u001b[39m np\u001b[38;5;241m.\u001b[39marray([[METRICS_ABC[a][metric_name][j] \u001b[38;5;28;01mfor\u001b[39;00m j \u001b[38;5;129;01min\u001b[39;00m \u001b[38;5;28mrange\u001b[39m(N_SAMPLES)] \u001b[38;5;28;01mfor\u001b[39;00m a \u001b[38;5;129;01min\u001b[39;00m ALPHAS])\u001b[38;5;241m.\u001b[39mreshape(\u001b[38;5;28mlen\u001b[39m(ALPHAS), \u001b[38;5;241m-\u001b[39m\u001b[38;5;241m1\u001b[39m)\n\u001b[1;32m     41\u001b[0m     nre \u001b[38;5;241m=\u001b[39m np\u001b[38;5;241m.\u001b[39marray([[METRICS_NRE[a][metric_name][j] \u001b[38;5;28;01mfor\u001b[39;00m j \u001b[38;5;129;01min\u001b[39;00m \u001b[38;5;28mrange\u001b[39m(N_SAMPLES)] \u001b[38;5;28;01mfor\u001b[39;00m a \u001b[38;5;129;01min\u001b[39;00m ALPHAS])\u001b[38;5;241m.\u001b[39mreshape(\u001b[38;5;28mlen\u001b[39m(ALPHAS), \u001b[38;5;241m-\u001b[39m\u001b[38;5;241m1\u001b[39m)\n\u001b[1;32m     42\u001b[0m     corrected_nre \u001b[38;5;241m=\u001b[39m np\u001b[38;5;241m.\u001b[39marray([[METRICS_CORRECTED_NRE[a][metric_name][j] \u001b[38;5;28;01mfor\u001b[39;00m j \u001b[38;5;129;01min\u001b[39;00m \u001b[38;5;28mrange\u001b[39m(N_SAMPLES)] \u001b[38;5;28;01mfor\u001b[39;00m a \u001b[38;5;129;01min\u001b[39;00m ALPHAS])\u001b[38;5;241m.\u001b[39mreshape(\u001b[38;5;28mlen\u001b[39m(ALPHAS), \u001b[38;5;241m-\u001b[39m\u001b[38;5;241m1\u001b[39m)\n",
      "File \u001b[0;32m/mnt/nfs/nrdata02-users-data/luciano/script/ABC-SBI/functions/plots.py:40\u001b[0m, in \u001b[0;36m<listcomp>\u001b[0;34m(.0)\u001b[0m\n\u001b[1;32m     39\u001b[0m \u001b[38;5;28;01mdef\u001b[39;00m \u001b[38;5;21mplot_metric_for_a_dataset\u001b[39m(metric_name, ALPHAS, METRICS_ABC, METRICS_NRE, METRICS_CORRECTED_NRE,N_SAMPLES, PATH_NAME \u001b[38;5;241m=\u001b[39m \u001b[38;5;124m\"\u001b[39m\u001b[38;5;124m\"\u001b[39m, show \u001b[38;5;241m=\u001b[39m \u001b[38;5;28;01mTrue\u001b[39;00m, title \u001b[38;5;241m=\u001b[39m \u001b[38;5;124m\"\u001b[39m\u001b[38;5;124m\"\u001b[39m):\n\u001b[0;32m---> 40\u001b[0m     abc \u001b[38;5;241m=\u001b[39m np\u001b[38;5;241m.\u001b[39marray([[METRICS_ABC[a][metric_name][j] \u001b[38;5;28;01mfor\u001b[39;00m j \u001b[38;5;129;01min\u001b[39;00m \u001b[38;5;28mrange\u001b[39m(N_SAMPLES)] \u001b[38;5;28;01mfor\u001b[39;00m a \u001b[38;5;129;01min\u001b[39;00m ALPHAS])\u001b[38;5;241m.\u001b[39mreshape(\u001b[38;5;28mlen\u001b[39m(ALPHAS), \u001b[38;5;241m-\u001b[39m\u001b[38;5;241m1\u001b[39m)\n\u001b[1;32m     41\u001b[0m     nre \u001b[38;5;241m=\u001b[39m np\u001b[38;5;241m.\u001b[39marray([[METRICS_NRE[a][metric_name][j] \u001b[38;5;28;01mfor\u001b[39;00m j \u001b[38;5;129;01min\u001b[39;00m \u001b[38;5;28mrange\u001b[39m(N_SAMPLES)] \u001b[38;5;28;01mfor\u001b[39;00m a \u001b[38;5;129;01min\u001b[39;00m ALPHAS])\u001b[38;5;241m.\u001b[39mreshape(\u001b[38;5;28mlen\u001b[39m(ALPHAS), \u001b[38;5;241m-\u001b[39m\u001b[38;5;241m1\u001b[39m)\n\u001b[1;32m     42\u001b[0m     corrected_nre \u001b[38;5;241m=\u001b[39m np\u001b[38;5;241m.\u001b[39marray([[METRICS_CORRECTED_NRE[a][metric_name][j] \u001b[38;5;28;01mfor\u001b[39;00m j \u001b[38;5;129;01min\u001b[39;00m \u001b[38;5;28mrange\u001b[39m(N_SAMPLES)] \u001b[38;5;28;01mfor\u001b[39;00m a \u001b[38;5;129;01min\u001b[39;00m ALPHAS])\u001b[38;5;241m.\u001b[39mreshape(\u001b[38;5;28mlen\u001b[39m(ALPHAS), \u001b[38;5;241m-\u001b[39m\u001b[38;5;241m1\u001b[39m)\n",
      "File \u001b[0;32m/mnt/nfs/nrdata02-users-data/luciano/script/ABC-SBI/functions/plots.py:40\u001b[0m, in \u001b[0;36m<listcomp>\u001b[0;34m(.0)\u001b[0m\n\u001b[1;32m     39\u001b[0m \u001b[38;5;28;01mdef\u001b[39;00m \u001b[38;5;21mplot_metric_for_a_dataset\u001b[39m(metric_name, ALPHAS, METRICS_ABC, METRICS_NRE, METRICS_CORRECTED_NRE,N_SAMPLES, PATH_NAME \u001b[38;5;241m=\u001b[39m \u001b[38;5;124m\"\u001b[39m\u001b[38;5;124m\"\u001b[39m, show \u001b[38;5;241m=\u001b[39m \u001b[38;5;28;01mTrue\u001b[39;00m, title \u001b[38;5;241m=\u001b[39m \u001b[38;5;124m\"\u001b[39m\u001b[38;5;124m\"\u001b[39m):\n\u001b[0;32m---> 40\u001b[0m     abc \u001b[38;5;241m=\u001b[39m np\u001b[38;5;241m.\u001b[39marray([[\u001b[43mMETRICS_ABC\u001b[49m\u001b[43m[\u001b[49m\u001b[43ma\u001b[49m\u001b[43m]\u001b[49m\u001b[43m[\u001b[49m\u001b[43mmetric_name\u001b[49m\u001b[43m]\u001b[49m[j] \u001b[38;5;28;01mfor\u001b[39;00m j \u001b[38;5;129;01min\u001b[39;00m \u001b[38;5;28mrange\u001b[39m(N_SAMPLES)] \u001b[38;5;28;01mfor\u001b[39;00m a \u001b[38;5;129;01min\u001b[39;00m ALPHAS])\u001b[38;5;241m.\u001b[39mreshape(\u001b[38;5;28mlen\u001b[39m(ALPHAS), \u001b[38;5;241m-\u001b[39m\u001b[38;5;241m1\u001b[39m)\n\u001b[1;32m     41\u001b[0m     nre \u001b[38;5;241m=\u001b[39m np\u001b[38;5;241m.\u001b[39marray([[METRICS_NRE[a][metric_name][j] \u001b[38;5;28;01mfor\u001b[39;00m j \u001b[38;5;129;01min\u001b[39;00m \u001b[38;5;28mrange\u001b[39m(N_SAMPLES)] \u001b[38;5;28;01mfor\u001b[39;00m a \u001b[38;5;129;01min\u001b[39;00m ALPHAS])\u001b[38;5;241m.\u001b[39mreshape(\u001b[38;5;28mlen\u001b[39m(ALPHAS), \u001b[38;5;241m-\u001b[39m\u001b[38;5;241m1\u001b[39m)\n\u001b[1;32m     42\u001b[0m     corrected_nre \u001b[38;5;241m=\u001b[39m np\u001b[38;5;241m.\u001b[39marray([[METRICS_CORRECTED_NRE[a][metric_name][j] \u001b[38;5;28;01mfor\u001b[39;00m j \u001b[38;5;129;01min\u001b[39;00m \u001b[38;5;28mrange\u001b[39m(N_SAMPLES)] \u001b[38;5;28;01mfor\u001b[39;00m a \u001b[38;5;129;01min\u001b[39;00m ALPHAS])\u001b[38;5;241m.\u001b[39mreshape(\u001b[38;5;28mlen\u001b[39m(ALPHAS), \u001b[38;5;241m-\u001b[39m\u001b[38;5;241m1\u001b[39m)\n",
      "\u001b[0;31mTypeError\u001b[0m: string indices must be integers"
     ]
    }
   ],
   "source": [
    "import os\n",
    "import sys\n",
    "path = os.getcwd()\n",
    "print(\"Old path:\", path)\n",
    "path = path.split(\"/\")\n",
    "path = path[: path.index(\"ABC-SBI\") + 1]\n",
    "path = \"/\".join(path)\n",
    "print(\"New path:\", path)\n",
    "os.chdir(path)\n",
    "sys.path.append(path)\n",
    "from functions.plots import plot_metric_for_a_dataset\n",
    "\n",
    "plot_metric_for_a_dataset(\"C2ST\", alphas, abc, nre, nre_corrected, 1, \"\", True)"
   ]
  },
  {
   "cell_type": "code",
   "execution_count": null,
   "metadata": {},
   "outputs": [
    {
     "data": {
      "text/plain": [
       "array([0.5286458 , 0.50911456])"
      ]
     },
     "execution_count": 14,
     "metadata": {},
     "output_type": "execute_result"
    }
   ],
   "source": [
    "np.array(df[\"TRAIN_ACCURACY\"][0][1:-1].split(\", \")).astype(float)"
   ]
  },
  {
   "cell_type": "code",
   "execution_count": null,
   "metadata": {},
   "outputs": [],
   "source": []
  }
 ],
 "metadata": {
  "kernelspec": {
   "display_name": "SBC",
   "language": "python",
   "name": "python3"
  },
  "language_info": {
   "codemirror_mode": {
    "name": "ipython",
    "version": 3
   },
   "file_extension": ".py",
   "mimetype": "text/x-python",
   "name": "python",
   "nbconvert_exporter": "python",
   "pygments_lexer": "ipython3",
   "version": "3.10.13"
  }
 },
 "nbformat": 4,
 "nbformat_minor": 2
}
