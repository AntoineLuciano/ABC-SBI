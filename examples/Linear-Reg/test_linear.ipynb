{
 "cells": [
  {
   "cell_type": "markdown",
   "metadata": {},
   "source": [
    "# New Cluster\n"
   ]
  },
  {
   "cell_type": "markdown",
   "metadata": {},
   "source": [
    "# Simulation pyMC\n"
   ]
  },
  {
   "cell_type": "code",
   "execution_count": 22,
   "metadata": {},
   "outputs": [
    {
     "name": "stderr",
     "output_type": "stream",
     "text": [
      "Auto-assigning NUTS sampler...\n",
      "Initializing NUTS using jitter+adapt_diag...\n",
      "Multiprocess sampling (4 chains in 4 jobs)\n",
      "NUTS: [betas]\n",
      "/Users/antoineluciano/.pyenv/versions/3.10.13/lib/python3.10/multiprocessing/popen_fork.py:66: RuntimeWarning: os.fork() was called. os.fork() is incompatible with multithreaded code, and JAX is multithreaded, so this will likely lead to a deadlock.\n",
      "  self.pid = os.fork()\n"
     ]
    },
    {
     "data": {
      "application/vnd.jupyter.widget-view+json": {
       "model_id": "f632230e692f4d88a7acf46c9e31f616",
       "version_major": 2,
       "version_minor": 0
      },
      "text/plain": [
       "Output()"
      ]
     },
     "metadata": {},
     "output_type": "display_data"
    },
    {
     "name": "stderr",
     "output_type": "stream",
     "text": [
      "/Users/antoineluciano/.pyenv/versions/3.10.13/lib/python3.10/multiprocessing/popen_fork.py:66: RuntimeWarning: os.fork() was called. os.fork() is incompatible with multithreaded code, and JAX is multithreaded, so this will likely lead to a deadlock.\n",
      "  self.pid = os.fork()\n"
     ]
    },
    {
     "data": {
      "text/html": [
       "<pre style=\"white-space:pre;overflow-x:auto;line-height:normal;font-family:Menlo,'DejaVu Sans Mono',consolas,'Courier New',monospace\"></pre>\n"
      ],
      "text/plain": []
     },
     "metadata": {},
     "output_type": "display_data"
    },
    {
     "name": "stderr",
     "output_type": "stream",
     "text": [
      "Sampling 4 chains for 1_000 tune and 1_000 draw iterations (4_000 + 4_000 draws total) took 2 seconds.\n",
      "Auto-assigning NUTS sampler...\n",
      "Initializing NUTS using jitter+adapt_diag...\n",
      "Multiprocess sampling (4 chains in 4 jobs)\n",
      "NUTS: [betas]\n",
      "/Users/antoineluciano/.pyenv/versions/3.10.13/lib/python3.10/multiprocessing/popen_fork.py:66: RuntimeWarning: os.fork() was called. os.fork() is incompatible with multithreaded code, and JAX is multithreaded, so this will likely lead to a deadlock.\n",
      "  self.pid = os.fork()\n"
     ]
    },
    {
     "data": {
      "application/vnd.jupyter.widget-view+json": {
       "model_id": "627d0b358b1f4a98855f69f087a7065a",
       "version_major": 2,
       "version_minor": 0
      },
      "text/plain": [
       "Output()"
      ]
     },
     "metadata": {},
     "output_type": "display_data"
    },
    {
     "name": "stderr",
     "output_type": "stream",
     "text": [
      "/Users/antoineluciano/.pyenv/versions/3.10.13/lib/python3.10/multiprocessing/popen_fork.py:66: RuntimeWarning: os.fork() was called. os.fork() is incompatible with multithreaded code, and JAX is multithreaded, so this will likely lead to a deadlock.\n",
      "  self.pid = os.fork()\n"
     ]
    },
    {
     "data": {
      "text/html": [
       "<pre style=\"white-space:pre;overflow-x:auto;line-height:normal;font-family:Menlo,'DejaVu Sans Mono',consolas,'Courier New',monospace\"></pre>\n"
      ],
      "text/plain": []
     },
     "metadata": {},
     "output_type": "display_data"
    },
    {
     "name": "stderr",
     "output_type": "stream",
     "text": [
      "Sampling 4 chains for 1_000 tune and 1_000 draw iterations (4_000 + 4_000 draws total) took 2 seconds.\n",
      "Auto-assigning NUTS sampler...\n",
      "Initializing NUTS using jitter+adapt_diag...\n",
      "Multiprocess sampling (4 chains in 4 jobs)\n",
      "NUTS: [betas]\n",
      "/Users/antoineluciano/.pyenv/versions/3.10.13/lib/python3.10/multiprocessing/popen_fork.py:66: RuntimeWarning: os.fork() was called. os.fork() is incompatible with multithreaded code, and JAX is multithreaded, so this will likely lead to a deadlock.\n",
      "  self.pid = os.fork()\n"
     ]
    },
    {
     "data": {
      "application/vnd.jupyter.widget-view+json": {
       "model_id": "6183e96504e34613849de6d563766c7b",
       "version_major": 2,
       "version_minor": 0
      },
      "text/plain": [
       "Output()"
      ]
     },
     "metadata": {},
     "output_type": "display_data"
    },
    {
     "name": "stderr",
     "output_type": "stream",
     "text": [
      "/Users/antoineluciano/.pyenv/versions/3.10.13/lib/python3.10/multiprocessing/popen_fork.py:66: RuntimeWarning: os.fork() was called. os.fork() is incompatible with multithreaded code, and JAX is multithreaded, so this will likely lead to a deadlock.\n",
      "  self.pid = os.fork()\n"
     ]
    },
    {
     "data": {
      "text/html": [
       "<pre style=\"white-space:pre;overflow-x:auto;line-height:normal;font-family:Menlo,'DejaVu Sans Mono',consolas,'Courier New',monospace\"></pre>\n"
      ],
      "text/plain": []
     },
     "metadata": {},
     "output_type": "display_data"
    },
    {
     "name": "stderr",
     "output_type": "stream",
     "text": [
      "Sampling 4 chains for 1_000 tune and 1_000 draw iterations (4_000 + 4_000 draws total) took 2 seconds.\n",
      "Auto-assigning NUTS sampler...\n",
      "Initializing NUTS using jitter+adapt_diag...\n",
      "Multiprocess sampling (4 chains in 4 jobs)\n",
      "NUTS: [betas]\n",
      "/Users/antoineluciano/.pyenv/versions/3.10.13/lib/python3.10/multiprocessing/popen_fork.py:66: RuntimeWarning: os.fork() was called. os.fork() is incompatible with multithreaded code, and JAX is multithreaded, so this will likely lead to a deadlock.\n",
      "  self.pid = os.fork()\n"
     ]
    },
    {
     "data": {
      "application/vnd.jupyter.widget-view+json": {
       "model_id": "76b2369741f14523852132bdcafceca5",
       "version_major": 2,
       "version_minor": 0
      },
      "text/plain": [
       "Output()"
      ]
     },
     "metadata": {},
     "output_type": "display_data"
    },
    {
     "name": "stderr",
     "output_type": "stream",
     "text": [
      "/Users/antoineluciano/.pyenv/versions/3.10.13/lib/python3.10/multiprocessing/popen_fork.py:66: RuntimeWarning: os.fork() was called. os.fork() is incompatible with multithreaded code, and JAX is multithreaded, so this will likely lead to a deadlock.\n",
      "  self.pid = os.fork()\n"
     ]
    },
    {
     "data": {
      "text/html": [
       "<pre style=\"white-space:pre;overflow-x:auto;line-height:normal;font-family:Menlo,'DejaVu Sans Mono',consolas,'Courier New',monospace\"></pre>\n"
      ],
      "text/plain": []
     },
     "metadata": {},
     "output_type": "display_data"
    },
    {
     "name": "stderr",
     "output_type": "stream",
     "text": [
      "Sampling 4 chains for 1_000 tune and 1_000 draw iterations (4_000 + 4_000 draws total) took 3 seconds.\n",
      "Auto-assigning NUTS sampler...\n",
      "Initializing NUTS using jitter+adapt_diag...\n",
      "Multiprocess sampling (4 chains in 4 jobs)\n",
      "NUTS: [betas]\n",
      "/Users/antoineluciano/.pyenv/versions/3.10.13/lib/python3.10/multiprocessing/popen_fork.py:66: RuntimeWarning: os.fork() was called. os.fork() is incompatible with multithreaded code, and JAX is multithreaded, so this will likely lead to a deadlock.\n",
      "  self.pid = os.fork()\n"
     ]
    },
    {
     "data": {
      "application/vnd.jupyter.widget-view+json": {
       "model_id": "b2a8cc1d9cab41afa34772f01fa3cacc",
       "version_major": 2,
       "version_minor": 0
      },
      "text/plain": [
       "Output()"
      ]
     },
     "metadata": {},
     "output_type": "display_data"
    },
    {
     "name": "stderr",
     "output_type": "stream",
     "text": [
      "/Users/antoineluciano/.pyenv/versions/3.10.13/lib/python3.10/multiprocessing/popen_fork.py:66: RuntimeWarning: os.fork() was called. os.fork() is incompatible with multithreaded code, and JAX is multithreaded, so this will likely lead to a deadlock.\n",
      "  self.pid = os.fork()\n"
     ]
    },
    {
     "data": {
      "text/html": [
       "<pre style=\"white-space:pre;overflow-x:auto;line-height:normal;font-family:Menlo,'DejaVu Sans Mono',consolas,'Courier New',monospace\"></pre>\n"
      ],
      "text/plain": []
     },
     "metadata": {},
     "output_type": "display_data"
    },
    {
     "name": "stderr",
     "output_type": "stream",
     "text": [
      "Sampling 4 chains for 1_000 tune and 1_000 draw iterations (4_000 + 4_000 draws total) took 4 seconds.\n"
     ]
    }
   ],
   "source": [
    "import pymc as pm\n",
    "\n",
    "key = random.PRNGKey(0)\n",
    "\n",
    "N_DATA = 500\n",
    "\n",
    "MU0, SIGMA0 = 0., 10.\n",
    "PRIOR_ARGS = [MU0, SIGMA0]\n",
    "\n",
    "SIGMA = 1.\n",
    "\n",
    "\n",
    "\n",
    "\n",
    "\n",
    "PATH_RESULTS = os.getcwd() + f\"/examples/Linear-Reg/old_results_{N_DATA}/\"\n",
    "if not os.path.exists(PATH_RESULTS):\n",
    "    os.makedirs(PATH_RESULTS)\n",
    "    \n",
    "\n",
    "\n",
    "ACCEPT_RATES = [1., .95, .9, .75]\n",
    "\n",
    "N_VARS = [2,3,5,10,25,50]\n",
    "for N_VAR in N_VARS:\n",
    "    key = random.PRNGKey(0)\n",
    "    key, key_beta = random.split(key)\n",
    "    TRUE_BETAS  = (random.normal(key_beta, (N_VAR,))*SIGMA0 + MU0)\n",
    "    TRUE_BETAS = TRUE_BETAS[jnp.argsort(jnp.abs(TRUE_BETAS))[::-1]]\n",
    "       \n",
    "    key, key_design = random.split(key)\n",
    "    X_DESIGN = x_design_simulator(key_design, N_DATA, N_VAR)\n",
    "    \n",
    "    MODEL_ARGS = [SIGMA, X_DESIGN]\n",
    "    key, key_data = random.split(key)\n",
    "    TRUE_DATA = random.normal(key_data, (N_DATA,))*SIGMA + jnp.dot(X_DESIGN, TRUE_BETAS)\n",
    "    \n",
    "    PATH_N_VAR = PATH_RESULTS+ \"K_{}/\".format(N_VAR)\n",
    "    if not os.path.exists(PATH_N_VAR):\n",
    "        os.makedirs(PATH_N_VAR)\n",
    "        \n",
    "        \n",
    "    trace_path = PATH_N_VAR + \"data.pkl\"\n",
    "    \n",
    "    if not os.path.exists(trace_path):\n",
    "        with pm.Model() as model:\n",
    "            # Convert X_DESIGN to a tensor variable\n",
    "            X_DESIGN_shared = np.array(X_DESIGN)\n",
    "            # Priors for unknown model parameters\n",
    "            betas = pm.Normal('betas', mu=MU0, sigma=SIGMA0, shape=N_VAR)\n",
    "            # Likelihood (sampling distribution) of observations\n",
    "            y_obs = pm.Normal('y_obs', mu=pytensor.tensor.dot(X_DESIGN_shared, betas), sigma=SIGMA, observed=TRUE_DATA)\n",
    "            # Sample from the posterior\n",
    "            trace = pm.sample(1000, tune=1000)\n",
    "        beta_post = np.array(trace.posterior.betas).reshape(-1, N_VAR)\n",
    "\n",
    "        dico = {\"X_DESIGN\":X_DESIGN, \"TRUE_DATA\":TRUE_DATA, \"TRUE_BETAS\":TRUE_BETAS, \"true_post\":beta_post}\n",
    "        with open(trace_path, \"wb\") as f:\n",
    "            pickle.dump(dico, f)\n",
    "    else:\n",
    "        with open(trace_path, \"rb\") as f:\n",
    "            dico = pickle.load(f)\n",
    "\n"
   ]
  },
  {
   "cell_type": "code",
   "execution_count": 20,
   "metadata": {},
   "outputs": [
    {
     "name": "stdout",
     "output_type": "stream",
     "text": [
      "Old path: /Users/antoineluciano/Documents/Recherche/ABC-SBI\n",
      "New path: /Users/antoineluciano/Documents/Recherche/ABC-SBI\n",
      "\n",
      "\n",
      "--------------------\n",
      "K = 2, TRUE_BETA = max, ACCEPT_RATE = 1.0\n",
      "--------------------\n",
      "\n",
      "\n",
      "Selection of epsilon star...\n",
      "Distances: min =  1.9113224 max =  2001.7218 mean =  245.42914 std =  242.25162\n",
      "Time to select epsilon star: 1.35s\n",
      "\n",
      "Simulations of the testing dataset...\n",
      "Time to simulate the testing dataset: 1.66s\n",
      "\n",
      "Simulations of the training dataset...\n",
      "Time to simulate the training dataset: 7.35s\n",
      "\n",
      "Training the neural network...\n",
      "Initial accuracy: 49.39%, Initial test accuracy: 49.47%\n",
      "Training for 3 epochs...\n",
      "Epoch 1/3, mean train accuracy: 78.42%, mean test accuracy: 96.15%, lr scale: 1.0 in 10.38 sec\n",
      "Epoch 2/3, mean train accuracy: 92.48%, mean test accuracy: 95.82%, lr scale: 1.0 in 10.37 sec\n",
      "Epoch 3/3, mean train accuracy: 91.86%, mean test accuracy: 97.10%, lr scale: 1.0 in 10.42 sec\n",
      "Time to train the neural network: 44.90s\n",
      "\n",
      "Simulation Based Calibration...\n"
     ]
    },
    {
     "name": "stderr",
     "output_type": "stream",
     "text": [
      " 81%|████████  | 1291/1600 [01:45<00:25, 12.19it/s]\n"
     ]
    },
    {
     "ename": "KeyboardInterrupt",
     "evalue": "",
     "output_type": "error",
     "traceback": [
      "\u001b[0;31m---------------------------------------------------------------------------\u001b[0m",
      "\u001b[0;31mKeyboardInterrupt\u001b[0m                         Traceback (most recent call last)",
      "Cell \u001b[0;32mIn[20], line 168\u001b[0m\n\u001b[1;32m    165\u001b[0m \u001b[38;5;28mprint\u001b[39m(\u001b[38;5;124m\"\u001b[39m\u001b[38;5;124mSimulation Based Calibration...\u001b[39m\u001b[38;5;124m\"\u001b[39m)\n\u001b[1;32m    166\u001b[0m time_sbc \u001b[38;5;241m=\u001b[39m time\u001b[38;5;241m.\u001b[39mtime()\n\u001b[0;32m--> 168\u001b[0m ranks, thetas_tilde, thetas, key \u001b[38;5;241m=\u001b[39m \u001b[43mSBC_epsilon\u001b[49m\u001b[43m(\u001b[49m\u001b[43mkey\u001b[49m\u001b[43m \u001b[49m\u001b[38;5;241;43m=\u001b[39;49m\u001b[43m \u001b[49m\u001b[43mkey\u001b[49m\u001b[43m,\u001b[49m\u001b[43m \u001b[49m\u001b[43mN_SBC\u001b[49m\u001b[43m \u001b[49m\u001b[38;5;241;43m=\u001b[39;49m\u001b[43m \u001b[49m\u001b[43mN_SBC\u001b[49m\u001b[43m,\u001b[49m\u001b[43m \u001b[49m\u001b[43mL\u001b[49m\u001b[43m \u001b[49m\u001b[38;5;241;43m=\u001b[39;49m\u001b[43m \u001b[49m\u001b[43mL\u001b[49m\u001b[43m,\u001b[49m\u001b[43m \u001b[49m\u001b[43mparams\u001b[49m\u001b[43m \u001b[49m\u001b[38;5;241;43m=\u001b[39;49m\u001b[43m \u001b[49m\u001b[43mparams\u001b[49m\u001b[43m,\u001b[49m\u001b[43m \u001b[49m\u001b[43mepsilon\u001b[49m\u001b[43m \u001b[49m\u001b[38;5;241;43m=\u001b[39;49m\u001b[43m \u001b[49m\u001b[43mEPSILON_STAR\u001b[49m\u001b[43m,\u001b[49m\u001b[43m \u001b[49m\u001b[43mtrue_data\u001b[49m\u001b[43m \u001b[49m\u001b[38;5;241;43m=\u001b[39;49m\u001b[43m \u001b[49m\u001b[43mTRUE_DATA\u001b[49m\u001b[43m,\u001b[49m\u001b[43m \u001b[49m\u001b[43mprior_simulator\u001b[49m\u001b[43m \u001b[49m\u001b[38;5;241;43m=\u001b[39;49m\u001b[43m \u001b[49m\u001b[43mprior_simulator\u001b[49m\u001b[43m,\u001b[49m\u001b[43m \u001b[49m\u001b[43mprior_logpdf\u001b[49m\u001b[43m \u001b[49m\u001b[38;5;241;43m=\u001b[39;49m\u001b[43m \u001b[49m\u001b[43mPRIOR_LOGPDF\u001b[49m\u001b[43m,\u001b[49m\u001b[43m \u001b[49m\u001b[43mdata_simulator\u001b[49m\u001b[43m \u001b[49m\u001b[38;5;241;43m=\u001b[39;49m\u001b[43m \u001b[49m\u001b[43mdata_simulator\u001b[49m\u001b[43m,\u001b[49m\u001b[43m \u001b[49m\u001b[43mdiscrepancy\u001b[49m\u001b[43m \u001b[49m\u001b[38;5;241;43m=\u001b[39;49m\u001b[43m \u001b[49m\u001b[43mdiscrepancy\u001b[49m\u001b[43m,\u001b[49m\u001b[43m \u001b[49m\u001b[43mn_grid_explo\u001b[49m\u001b[43m \u001b[49m\u001b[38;5;241;43m=\u001b[39;49m\u001b[43m \u001b[49m\u001b[43mN_GRID_EXPLO\u001b[49m\u001b[43m,\u001b[49m\u001b[43m \u001b[49m\u001b[43mn_grid_final\u001b[49m\u001b[43m \u001b[49m\u001b[38;5;241;43m=\u001b[39;49m\u001b[43m \u001b[49m\u001b[43mN_GRID_FINAL\u001b[49m\u001b[43m,\u001b[49m\u001b[43m \u001b[49m\u001b[43mminn\u001b[49m\u001b[43m \u001b[49m\u001b[38;5;241;43m=\u001b[39;49m\u001b[43m \u001b[49m\u001b[43mMINN\u001b[49m\u001b[43m,\u001b[49m\u001b[43m \u001b[49m\u001b[43mmaxx\u001b[49m\u001b[43m \u001b[49m\u001b[38;5;241;43m=\u001b[39;49m\u001b[43m \u001b[49m\u001b[43mMAXX\u001b[49m\u001b[43m)\u001b[49m\n\u001b[1;32m    170\u001b[0m \u001b[38;5;28mprint\u001b[39m(\u001b[38;5;124m'\u001b[39m\u001b[38;5;124mTime to perform SBC: \u001b[39m\u001b[38;5;132;01m{:.2f}\u001b[39;00m\u001b[38;5;124ms\u001b[39m\u001b[38;5;130;01m\\n\u001b[39;00m\u001b[38;5;124m'\u001b[39m\u001b[38;5;241m.\u001b[39mformat(time\u001b[38;5;241m.\u001b[39mtime()\u001b[38;5;241m-\u001b[39mtime_sbc))\n\u001b[1;32m    173\u001b[0m pickle_dico \u001b[38;5;241m=\u001b[39m {\u001b[38;5;124m\"\u001b[39m\u001b[38;5;124mACCEPT_RATE\u001b[39m\u001b[38;5;124m\"\u001b[39m:ACCEPT_RATE, \u001b[38;5;124m\"\u001b[39m\u001b[38;5;124mranks\u001b[39m\u001b[38;5;124m\"\u001b[39m: ranks, \u001b[38;5;124m\"\u001b[39m\u001b[38;5;124mthetas_tilde\u001b[39m\u001b[38;5;124m\"\u001b[39m: thetas_tilde, \u001b[38;5;124m\"\u001b[39m\u001b[38;5;124mthetas\u001b[39m\u001b[38;5;124m\"\u001b[39m: thetas, \u001b[38;5;124m\"\u001b[39m\u001b[38;5;124mepsilon\u001b[39m\u001b[38;5;124m\"\u001b[39m:EPSILON_STAR, \u001b[38;5;124m\"\u001b[39m\u001b[38;5;124mKEY\u001b[39m\u001b[38;5;124m\"\u001b[39m:key, \u001b[38;5;124m\"\u001b[39m\u001b[38;5;124mN_SBC\u001b[39m\u001b[38;5;124m\"\u001b[39m:N_SBC, \u001b[38;5;124m\"\u001b[39m\u001b[38;5;124mL\u001b[39m\u001b[38;5;124m\"\u001b[39m:L, \u001b[38;5;124m\"\u001b[39m\u001b[38;5;124mN_GRID_EXPLO\u001b[39m\u001b[38;5;124m\"\u001b[39m: N_GRID_EXPLO, \u001b[38;5;124m'\u001b[39m\u001b[38;5;124mN_GRID_FINAL\u001b[39m\u001b[38;5;124m'\u001b[39m: N_GRID_FINAL,\u001b[38;5;124m\"\u001b[39m\u001b[38;5;124mTRUE_DATA\u001b[39m\u001b[38;5;124m\"\u001b[39m: TRUE_DATA, \u001b[38;5;124m\"\u001b[39m\u001b[38;5;124mTRUE_THETA\u001b[39m\u001b[38;5;124m\"\u001b[39m: TRUE_BETA, \u001b[38;5;124m\"\u001b[39m\u001b[38;5;124mTRUE_BETAS\u001b[39m\u001b[38;5;124m\"\u001b[39m: TRUE_BETAS, \u001b[38;5;124m\"\u001b[39m\u001b[38;5;124mparams\u001b[39m\u001b[38;5;124m\"\u001b[39m: params, \u001b[38;5;124m\"\u001b[39m\u001b[38;5;124mtrain_accuracy\u001b[39m\u001b[38;5;124m\"\u001b[39m:train_accuracy, \u001b[38;5;124m\"\u001b[39m\u001b[38;5;124mtest_accuracy\u001b[39m\u001b[38;5;124m\"\u001b[39m:test_accuracy, \u001b[38;5;124m\"\u001b[39m\u001b[38;5;124mMODEL_ARGS\u001b[39m\u001b[38;5;124m\"\u001b[39m:MODEL_ARGS, \u001b[38;5;124m\"\u001b[39m\u001b[38;5;124mPRIOR_ARGS\u001b[39m\u001b[38;5;124m\"\u001b[39m:PRIOR_ARGS, \u001b[38;5;124m\"\u001b[39m\u001b[38;5;124mN_POINTS_TRAIN\u001b[39m\u001b[38;5;124m\"\u001b[39m:N_POINTS_TRAIN, \u001b[38;5;124m\"\u001b[39m\u001b[38;5;124mN_POINTS_TEST\u001b[39m\u001b[38;5;124m\"\u001b[39m:N_POINTS_TEST, \u001b[38;5;124m\"\u001b[39m\u001b[38;5;124mN_DATA\u001b[39m\u001b[38;5;124m\"\u001b[39m:N_DATA, \u001b[38;5;124m\"\u001b[39m\u001b[38;5;124mN_EPOCHS\u001b[39m\u001b[38;5;124m\"\u001b[39m:N_EPOCHS, \u001b[38;5;124m\"\u001b[39m\u001b[38;5;124mLEARNING_RATE\u001b[39m\u001b[38;5;124m\"\u001b[39m:LEARNING_RATE, \u001b[38;5;124m\"\u001b[39m\u001b[38;5;124mPATIENCE\u001b[39m\u001b[38;5;124m\"\u001b[39m:PATIENCE, \u001b[38;5;124m\"\u001b[39m\u001b[38;5;124mCOOLDOWN\u001b[39m\u001b[38;5;124m\"\u001b[39m:COOLDOWN, \u001b[38;5;124m\"\u001b[39m\u001b[38;5;124mFACTOR\u001b[39m\u001b[38;5;124m\"\u001b[39m:FACTOR, \u001b[38;5;124m\"\u001b[39m\u001b[38;5;124mRTOL\u001b[39m\u001b[38;5;124m\"\u001b[39m:RTOL, \u001b[38;5;124m\"\u001b[39m\u001b[38;5;124mACCUMULATION_SIZE\u001b[39m\u001b[38;5;124m\"\u001b[39m:ACCUMULATION_SIZE, \u001b[38;5;124m\"\u001b[39m\u001b[38;5;124mLEARNING_RATE_MIN\u001b[39m\u001b[38;5;124m\"\u001b[39m:LEARNING_RATE_MIN, \u001b[38;5;124m\"\u001b[39m\u001b[38;5;124mBATCH_SIZE\u001b[39m\u001b[38;5;124m\"\u001b[39m:BATCH_SIZE, \u001b[38;5;124m\"\u001b[39m\u001b[38;5;124mNUM_BATCH\u001b[39m\u001b[38;5;124m\"\u001b[39m:NUM_BATCH, \u001b[38;5;124m\"\u001b[39m\u001b[38;5;124mNUM_CLASSES\u001b[39m\u001b[38;5;124m\"\u001b[39m:NUM_CLASSES, \u001b[38;5;124m\"\u001b[39m\u001b[38;5;124mHIDDEN_SIZE\u001b[39m\u001b[38;5;124m\"\u001b[39m:HIDDEN_SIZE, \u001b[38;5;124m\"\u001b[39m\u001b[38;5;124mNUM_LAYERS\u001b[39m\u001b[38;5;124m\"\u001b[39m:NUM_LAYERS, \u001b[38;5;124m\"\u001b[39m\u001b[38;5;124mWDECAY\u001b[39m\u001b[38;5;124m\"\u001b[39m:WDECAY}\n",
      "File \u001b[0;32m~/Documents/Recherche/ABC-SBI/functions/SBC.py:120\u001b[0m, in \u001b[0;36mSBC_epsilon\u001b[0;34m(key, N_SBC, L, params, epsilon, true_data, prior_simulator, prior_logpdf, data_simulator, discrepancy, n_grid_explo, n_grid_final, minn, maxx, X)\u001b[0m\n\u001b[1;32m    118\u001b[0m thetas \u001b[38;5;241m=\u001b[39m jnp\u001b[38;5;241m.\u001b[39mzeros((N_SBC, L))\n\u001b[1;32m    119\u001b[0m \u001b[38;5;28;01mfor\u001b[39;00m i \u001b[38;5;129;01min\u001b[39;00m tqdm(\u001b[38;5;28mrange\u001b[39m(N_SBC), mininterval\u001b[38;5;241m=\u001b[39m N_SBC\u001b[38;5;241m/\u001b[39m\u001b[38;5;241m/\u001b[39m\u001b[38;5;241m20\u001b[39m):\n\u001b[0;32m--> 120\u001b[0m     grid, pdf_value \u001b[38;5;241m=\u001b[39m \u001b[43mfind_grid_explorative\u001b[49m\u001b[43m(\u001b[49m\u001b[38;5;28;43;01mlambda\u001b[39;49;00m\u001b[43m \u001b[49m\u001b[43mx\u001b[49m\u001b[43m:\u001b[49m\u001b[43m \u001b[49m\u001b[43mpost_pdf_z\u001b[49m\u001b[43m(\u001b[49m\u001b[43mparams\u001b[49m\u001b[43m,\u001b[49m\u001b[43m \u001b[49m\u001b[43mx\u001b[49m\u001b[43m,\u001b[49m\u001b[43m \u001b[49m\u001b[43mdatas\u001b[49m\u001b[43m[\u001b[49m\u001b[43mi\u001b[49m\u001b[43m]\u001b[49m\u001b[43m,\u001b[49m\u001b[43m \u001b[49m\u001b[43mprior_logpdf\u001b[49m\u001b[43m)\u001b[49m\u001b[43m,\u001b[49m\u001b[43m \u001b[49m\u001b[43mn_grid_explo\u001b[49m\u001b[43m,\u001b[49m\u001b[43m \u001b[49m\u001b[43mn_grid_final\u001b[49m\u001b[43m,\u001b[49m\u001b[43m \u001b[49m\u001b[43mminn\u001b[49m\u001b[43m,\u001b[49m\u001b[43m \u001b[49m\u001b[43mmaxx\u001b[49m\u001b[43m)\u001b[49m\n\u001b[1;32m    121\u001b[0m     grids \u001b[38;5;241m=\u001b[39m grids\u001b[38;5;241m.\u001b[39mat[i]\u001b[38;5;241m.\u001b[39mset(grid)\n\u001b[1;32m    122\u001b[0m     pdf_values \u001b[38;5;241m=\u001b[39m pdf_values\u001b[38;5;241m.\u001b[39mat[i]\u001b[38;5;241m.\u001b[39mset(pdf_value)\n",
      "File \u001b[0;32m~/Documents/Recherche/ABC-SBI/functions/SBC.py:103\u001b[0m, in \u001b[0;36mfind_grid_explorative\u001b[0;34m(func, n_eval_explo, n_eval_final, min_grid, max_grid, threshold_factor, max_expansion, expansion_factor)\u001b[0m\n\u001b[1;32m    100\u001b[0m     min_grid_opt, max_grid_opt \u001b[38;5;241m=\u001b[39m min_grid, max_grid\n\u001b[1;32m    102\u001b[0m grid_opt \u001b[38;5;241m=\u001b[39m jnp\u001b[38;5;241m.\u001b[39mlinspace(min_grid_opt, max_grid_opt, n_eval_final)\n\u001b[0;32m--> 103\u001b[0m pdf_values \u001b[38;5;241m=\u001b[39m \u001b[43mfunc\u001b[49m\u001b[43m(\u001b[49m\u001b[43mgrid_opt\u001b[49m\u001b[43m)\u001b[49m\n\u001b[1;32m    105\u001b[0m \u001b[38;5;28;01mreturn\u001b[39;00m grid_opt, pdf_values\n",
      "File \u001b[0;32m~/Documents/Recherche/ABC-SBI/functions/SBC.py:120\u001b[0m, in \u001b[0;36mSBC_epsilon.<locals>.<lambda>\u001b[0;34m(x)\u001b[0m\n\u001b[1;32m    118\u001b[0m thetas \u001b[38;5;241m=\u001b[39m jnp\u001b[38;5;241m.\u001b[39mzeros((N_SBC, L))\n\u001b[1;32m    119\u001b[0m \u001b[38;5;28;01mfor\u001b[39;00m i \u001b[38;5;129;01min\u001b[39;00m tqdm(\u001b[38;5;28mrange\u001b[39m(N_SBC), mininterval\u001b[38;5;241m=\u001b[39m N_SBC\u001b[38;5;241m/\u001b[39m\u001b[38;5;241m/\u001b[39m\u001b[38;5;241m20\u001b[39m):\n\u001b[0;32m--> 120\u001b[0m     grid, pdf_value \u001b[38;5;241m=\u001b[39m find_grid_explorative(\u001b[38;5;28;01mlambda\u001b[39;00m x: \u001b[43mpost_pdf_z\u001b[49m\u001b[43m(\u001b[49m\u001b[43mparams\u001b[49m\u001b[43m,\u001b[49m\u001b[43m \u001b[49m\u001b[43mx\u001b[49m\u001b[43m,\u001b[49m\u001b[43m \u001b[49m\u001b[43mdatas\u001b[49m\u001b[43m[\u001b[49m\u001b[43mi\u001b[49m\u001b[43m]\u001b[49m\u001b[43m,\u001b[49m\u001b[43m \u001b[49m\u001b[43mprior_logpdf\u001b[49m\u001b[43m)\u001b[49m, n_grid_explo, n_grid_final, minn, maxx)\n\u001b[1;32m    121\u001b[0m     grids \u001b[38;5;241m=\u001b[39m grids\u001b[38;5;241m.\u001b[39mat[i]\u001b[38;5;241m.\u001b[39mset(grid)\n\u001b[1;32m    122\u001b[0m     pdf_values \u001b[38;5;241m=\u001b[39m pdf_values\u001b[38;5;241m.\u001b[39mat[i]\u001b[38;5;241m.\u001b[39mset(pdf_value)\n",
      "File \u001b[0;32m~/Documents/Recherche/ABC-SBI/functions/SBC.py:56\u001b[0m, in \u001b[0;36mpost_pdf_z\u001b[0;34m(params, mus, z, prior_logpdf)\u001b[0m\n\u001b[1;32m     54\u001b[0m \u001b[38;5;28;01mdef\u001b[39;00m \u001b[38;5;21mpost_pdf_z\u001b[39m(params, mus, z, prior_logpdf):\n\u001b[0;32m---> 56\u001b[0m     \u001b[38;5;28;01mreturn\u001b[39;00m jnp\u001b[38;5;241m.\u001b[39mexp(prior_logpdf(mus)\u001b[38;5;241m+\u001b[39m\u001b[43mlogratio_batch_z\u001b[49m\u001b[43m(\u001b[49m\u001b[43mparams\u001b[49m\u001b[43m,\u001b[49m\u001b[43m \u001b[49m\u001b[43mmus\u001b[49m\u001b[43m,\u001b[49m\u001b[43m \u001b[49m\u001b[43mz\u001b[49m\u001b[43m)\u001b[49m)\n",
      "    \u001b[0;31m[... skipping hidden 1 frame]\u001b[0m\n",
      "File \u001b[0;32m~/.pyenv/versions/3.10.13/envs/jax_env/lib/python3.10/site-packages/jax/_src/api.py:1225\u001b[0m, in \u001b[0;36mvmap.<locals>.vmap_f\u001b[0;34m(*args, **kwargs)\u001b[0m\n\u001b[1;32m   1222\u001b[0m axis_size_ \u001b[38;5;241m=\u001b[39m (axis_size \u001b[38;5;28;01mif\u001b[39;00m axis_size \u001b[38;5;129;01mis\u001b[39;00m \u001b[38;5;129;01mnot\u001b[39;00m \u001b[38;5;28;01mNone\u001b[39;00m \u001b[38;5;28;01melse\u001b[39;00m\n\u001b[1;32m   1223\u001b[0m               _mapped_axis_size(fun, in_tree, args_flat, in_axes_flat, \u001b[38;5;124m\"\u001b[39m\u001b[38;5;124mvmap\u001b[39m\u001b[38;5;124m\"\u001b[39m))\n\u001b[1;32m   1224\u001b[0m \u001b[38;5;28;01mtry\u001b[39;00m:\n\u001b[0;32m-> 1225\u001b[0m   out_flat \u001b[38;5;241m=\u001b[39m \u001b[43mbatching\u001b[49m\u001b[38;5;241;43m.\u001b[39;49m\u001b[43mbatch\u001b[49m\u001b[43m(\u001b[49m\n\u001b[1;32m   1226\u001b[0m \u001b[43m      \u001b[49m\u001b[43mflat_fun\u001b[49m\u001b[43m,\u001b[49m\u001b[43m \u001b[49m\u001b[43maxis_name\u001b[49m\u001b[43m,\u001b[49m\u001b[43m \u001b[49m\u001b[43maxis_size_\u001b[49m\u001b[43m,\u001b[49m\u001b[43m \u001b[49m\u001b[43min_axes_flat\u001b[49m\u001b[43m,\u001b[49m\n\u001b[1;32m   1227\u001b[0m \u001b[43m      \u001b[49m\u001b[38;5;28;43;01mlambda\u001b[39;49;00m\u001b[43m:\u001b[49m\u001b[43m \u001b[49m\u001b[43mflatten_axes\u001b[49m\u001b[43m(\u001b[49m\u001b[38;5;124;43m\"\u001b[39;49m\u001b[38;5;124;43mvmap out_axes\u001b[39;49m\u001b[38;5;124;43m\"\u001b[39;49m\u001b[43m,\u001b[49m\u001b[43m \u001b[49m\u001b[43mout_tree\u001b[49m\u001b[43m(\u001b[49m\u001b[43m)\u001b[49m\u001b[43m,\u001b[49m\u001b[43m \u001b[49m\u001b[43mout_axes\u001b[49m\u001b[43m)\u001b[49m\u001b[43m,\u001b[49m\n\u001b[1;32m   1228\u001b[0m \u001b[43m      \u001b[49m\u001b[43mspmd_axis_name\u001b[49m\u001b[38;5;241;43m=\u001b[39;49m\u001b[43mspmd_axis_name\u001b[49m\n\u001b[1;32m   1229\u001b[0m \u001b[43m  \u001b[49m\u001b[43m)\u001b[49m\u001b[38;5;241;43m.\u001b[39;49m\u001b[43mcall_wrapped\u001b[49m\u001b[43m(\u001b[49m\u001b[38;5;241;43m*\u001b[39;49m\u001b[43margs_flat\u001b[49m\u001b[43m)\u001b[49m\n\u001b[1;32m   1230\u001b[0m \u001b[38;5;28;01mexcept\u001b[39;00m batching\u001b[38;5;241m.\u001b[39mSpecMatchError \u001b[38;5;28;01mas\u001b[39;00m e:\n\u001b[1;32m   1231\u001b[0m   out_axes_flat \u001b[38;5;241m=\u001b[39m flatten_axes(\u001b[38;5;124m\"\u001b[39m\u001b[38;5;124mvmap out_axes\u001b[39m\u001b[38;5;124m\"\u001b[39m, out_tree(), out_axes)\n",
      "File \u001b[0;32m~/.pyenv/versions/3.10.13/envs/jax_env/lib/python3.10/site-packages/jax/_src/linear_util.py:193\u001b[0m, in \u001b[0;36mWrappedFun.call_wrapped\u001b[0;34m(self, *args, **kwargs)\u001b[0m\n\u001b[1;32m    190\u001b[0m gen \u001b[38;5;241m=\u001b[39m gen_static_args \u001b[38;5;241m=\u001b[39m out_store \u001b[38;5;241m=\u001b[39m \u001b[38;5;28;01mNone\u001b[39;00m\n\u001b[1;32m    192\u001b[0m \u001b[38;5;28;01mtry\u001b[39;00m:\n\u001b[0;32m--> 193\u001b[0m   ans \u001b[38;5;241m=\u001b[39m \u001b[38;5;28;43mself\u001b[39;49m\u001b[38;5;241;43m.\u001b[39;49m\u001b[43mf\u001b[49m\u001b[43m(\u001b[49m\u001b[38;5;241;43m*\u001b[39;49m\u001b[43margs\u001b[49m\u001b[43m,\u001b[49m\u001b[43m \u001b[49m\u001b[38;5;241;43m*\u001b[39;49m\u001b[38;5;241;43m*\u001b[39;49m\u001b[38;5;28;43mdict\u001b[39;49m\u001b[43m(\u001b[49m\u001b[38;5;28;43mself\u001b[39;49m\u001b[38;5;241;43m.\u001b[39;49m\u001b[43mparams\u001b[49m\u001b[43m,\u001b[49m\u001b[43m \u001b[49m\u001b[38;5;241;43m*\u001b[39;49m\u001b[38;5;241;43m*\u001b[39;49m\u001b[43mkwargs\u001b[49m\u001b[43m)\u001b[49m\u001b[43m)\u001b[49m\n\u001b[1;32m    194\u001b[0m \u001b[38;5;28;01mexcept\u001b[39;00m:\n\u001b[1;32m    195\u001b[0m   \u001b[38;5;66;03m# Some transformations yield from inside context managers, so we have to\u001b[39;00m\n\u001b[1;32m    196\u001b[0m   \u001b[38;5;66;03m# interrupt them before reraising the exception. Otherwise they will only\u001b[39;00m\n\u001b[1;32m    197\u001b[0m   \u001b[38;5;66;03m# get garbage-collected at some later time, running their cleanup tasks\u001b[39;00m\n\u001b[1;32m    198\u001b[0m   \u001b[38;5;66;03m# only after this exception is handled, which can corrupt the global\u001b[39;00m\n\u001b[1;32m    199\u001b[0m   \u001b[38;5;66;03m# state.\u001b[39;00m\n\u001b[1;32m    200\u001b[0m   \u001b[38;5;28;01mwhile\u001b[39;00m stack:\n",
      "    \u001b[0;31m[... skipping hidden 1 frame]\u001b[0m\n",
      "File \u001b[0;32m~/.pyenv/versions/3.10.13/envs/jax_env/lib/python3.10/site-packages/jax/_src/pjit.py:332\u001b[0m, in \u001b[0;36m_cpp_pjit.<locals>.cache_miss\u001b[0;34m(*args, **kwargs)\u001b[0m\n\u001b[1;32m    330\u001b[0m \u001b[38;5;129m@api_boundary\u001b[39m\n\u001b[1;32m    331\u001b[0m \u001b[38;5;28;01mdef\u001b[39;00m \u001b[38;5;21mcache_miss\u001b[39m(\u001b[38;5;241m*\u001b[39margs, \u001b[38;5;241m*\u001b[39m\u001b[38;5;241m*\u001b[39mkwargs):\n\u001b[0;32m--> 332\u001b[0m   outs, out_flat, out_tree, args_flat, jaxpr, attrs_tracked \u001b[38;5;241m=\u001b[39m \u001b[43m_python_pjit_helper\u001b[49m\u001b[43m(\u001b[49m\n\u001b[1;32m    333\u001b[0m \u001b[43m      \u001b[49m\u001b[43mfun\u001b[49m\u001b[43m,\u001b[49m\u001b[43m \u001b[49m\u001b[43mjit_info\u001b[49m\u001b[43m,\u001b[49m\u001b[43m \u001b[49m\u001b[38;5;241;43m*\u001b[39;49m\u001b[43margs\u001b[49m\u001b[43m,\u001b[49m\u001b[43m \u001b[49m\u001b[38;5;241;43m*\u001b[39;49m\u001b[38;5;241;43m*\u001b[39;49m\u001b[43mkwargs\u001b[49m\u001b[43m)\u001b[49m\n\u001b[1;32m    334\u001b[0m   executable \u001b[38;5;241m=\u001b[39m _read_most_recent_pjit_call_executable(jaxpr)\n\u001b[1;32m    335\u001b[0m   pgle_profiler \u001b[38;5;241m=\u001b[39m _read_pgle_profiler(jaxpr)\n",
      "File \u001b[0;32m~/.pyenv/versions/3.10.13/envs/jax_env/lib/python3.10/site-packages/jax/_src/pjit.py:190\u001b[0m, in \u001b[0;36m_python_pjit_helper\u001b[0;34m(fun, jit_info, *args, **kwargs)\u001b[0m\n\u001b[1;32m    187\u001b[0m   args_flat \u001b[38;5;241m=\u001b[39m [\u001b[38;5;241m*\u001b[39minit_states, \u001b[38;5;241m*\u001b[39margs_flat]\n\u001b[1;32m    189\u001b[0m \u001b[38;5;28;01mtry\u001b[39;00m:\n\u001b[0;32m--> 190\u001b[0m   out_flat \u001b[38;5;241m=\u001b[39m \u001b[43mpjit_p\u001b[49m\u001b[38;5;241;43m.\u001b[39;49m\u001b[43mbind\u001b[49m\u001b[43m(\u001b[49m\u001b[38;5;241;43m*\u001b[39;49m\u001b[43margs_flat\u001b[49m\u001b[43m,\u001b[49m\u001b[43m \u001b[49m\u001b[38;5;241;43m*\u001b[39;49m\u001b[38;5;241;43m*\u001b[39;49m\u001b[43mp\u001b[49m\u001b[38;5;241;43m.\u001b[39;49m\u001b[43mparams\u001b[49m\u001b[43m)\u001b[49m\n\u001b[1;32m    191\u001b[0m \u001b[38;5;28;01mexcept\u001b[39;00m pxla\u001b[38;5;241m.\u001b[39mDeviceAssignmentMismatchError \u001b[38;5;28;01mas\u001b[39;00m e:\n\u001b[1;32m    192\u001b[0m   fails, \u001b[38;5;241m=\u001b[39m e\u001b[38;5;241m.\u001b[39margs\n",
      "File \u001b[0;32m~/.pyenv/versions/3.10.13/envs/jax_env/lib/python3.10/site-packages/jax/_src/core.py:2739\u001b[0m, in \u001b[0;36mAxisPrimitive.bind\u001b[0;34m(self, *args, **params)\u001b[0m\n\u001b[1;32m   2735\u001b[0m axis_main \u001b[38;5;241m=\u001b[39m \u001b[38;5;28mmax\u001b[39m((axis_frame(a)\u001b[38;5;241m.\u001b[39mmain_trace \u001b[38;5;28;01mfor\u001b[39;00m a \u001b[38;5;129;01min\u001b[39;00m used_axis_names(\u001b[38;5;28mself\u001b[39m, params)),\n\u001b[1;32m   2736\u001b[0m                 default\u001b[38;5;241m=\u001b[39m\u001b[38;5;28;01mNone\u001b[39;00m, key\u001b[38;5;241m=\u001b[39m\u001b[38;5;28;01mlambda\u001b[39;00m t: \u001b[38;5;28mgetattr\u001b[39m(t, \u001b[38;5;124m'\u001b[39m\u001b[38;5;124mlevel\u001b[39m\u001b[38;5;124m'\u001b[39m, \u001b[38;5;241m-\u001b[39m\u001b[38;5;241m1\u001b[39m))\n\u001b[1;32m   2737\u001b[0m top_trace \u001b[38;5;241m=\u001b[39m (top_trace \u001b[38;5;28;01mif\u001b[39;00m \u001b[38;5;129;01mnot\u001b[39;00m axis_main \u001b[38;5;129;01mor\u001b[39;00m axis_main\u001b[38;5;241m.\u001b[39mlevel \u001b[38;5;241m<\u001b[39m top_trace\u001b[38;5;241m.\u001b[39mlevel\n\u001b[1;32m   2738\u001b[0m              \u001b[38;5;28;01melse\u001b[39;00m axis_main\u001b[38;5;241m.\u001b[39mwith_cur_sublevel())\n\u001b[0;32m-> 2739\u001b[0m \u001b[38;5;28;01mreturn\u001b[39;00m \u001b[38;5;28;43mself\u001b[39;49m\u001b[38;5;241;43m.\u001b[39;49m\u001b[43mbind_with_trace\u001b[49m\u001b[43m(\u001b[49m\u001b[43mtop_trace\u001b[49m\u001b[43m,\u001b[49m\u001b[43m \u001b[49m\u001b[43margs\u001b[49m\u001b[43m,\u001b[49m\u001b[43m \u001b[49m\u001b[43mparams\u001b[49m\u001b[43m)\u001b[49m\n",
      "File \u001b[0;32m~/.pyenv/versions/3.10.13/envs/jax_env/lib/python3.10/site-packages/jax/_src/core.py:433\u001b[0m, in \u001b[0;36mPrimitive.bind_with_trace\u001b[0;34m(self, trace, args, params)\u001b[0m\n\u001b[1;32m    431\u001b[0m \u001b[38;5;28;01mdef\u001b[39;00m \u001b[38;5;21mbind_with_trace\u001b[39m(\u001b[38;5;28mself\u001b[39m, trace, args, params):\n\u001b[1;32m    432\u001b[0m   \u001b[38;5;28;01mwith\u001b[39;00m pop_level(trace\u001b[38;5;241m.\u001b[39mlevel):\n\u001b[0;32m--> 433\u001b[0m     out \u001b[38;5;241m=\u001b[39m \u001b[43mtrace\u001b[49m\u001b[38;5;241;43m.\u001b[39;49m\u001b[43mprocess_primitive\u001b[49m\u001b[43m(\u001b[49m\u001b[38;5;28;43mself\u001b[39;49m\u001b[43m,\u001b[49m\u001b[43m \u001b[49m\u001b[38;5;28;43mmap\u001b[39;49m\u001b[43m(\u001b[49m\u001b[43mtrace\u001b[49m\u001b[38;5;241;43m.\u001b[39;49m\u001b[43mfull_raise\u001b[49m\u001b[43m,\u001b[49m\u001b[43m \u001b[49m\u001b[43margs\u001b[49m\u001b[43m)\u001b[49m\u001b[43m,\u001b[49m\u001b[43m \u001b[49m\u001b[43mparams\u001b[49m\u001b[43m)\u001b[49m\n\u001b[1;32m    434\u001b[0m   \u001b[38;5;28;01mreturn\u001b[39;00m \u001b[38;5;28mmap\u001b[39m(full_lower, out) \u001b[38;5;28;01mif\u001b[39;00m \u001b[38;5;28mself\u001b[39m\u001b[38;5;241m.\u001b[39mmultiple_results \u001b[38;5;28;01melse\u001b[39;00m full_lower(out)\n",
      "File \u001b[0;32m~/.pyenv/versions/3.10.13/envs/jax_env/lib/python3.10/site-packages/jax/_src/interpreters/batching.py:438\u001b[0m, in \u001b[0;36mBatchTrace.process_primitive\u001b[0;34m(self, primitive, tracers, params)\u001b[0m\n\u001b[1;32m    436\u001b[0m   frame \u001b[38;5;241m=\u001b[39m \u001b[38;5;28mself\u001b[39m\u001b[38;5;241m.\u001b[39mget_frame(vals_in, dims_in)\n\u001b[1;32m    437\u001b[0m   batched_primitive \u001b[38;5;241m=\u001b[39m \u001b[38;5;28mself\u001b[39m\u001b[38;5;241m.\u001b[39mget_primitive_batcher(primitive, frame)\n\u001b[0;32m--> 438\u001b[0m   val_out, dim_out \u001b[38;5;241m=\u001b[39m \u001b[43mbatched_primitive\u001b[49m\u001b[43m(\u001b[49m\u001b[43mvals_in\u001b[49m\u001b[43m,\u001b[49m\u001b[43m \u001b[49m\u001b[43mdims_in\u001b[49m\u001b[43m,\u001b[49m\u001b[43m \u001b[49m\u001b[38;5;241;43m*\u001b[39;49m\u001b[38;5;241;43m*\u001b[39;49m\u001b[43mparams\u001b[49m\u001b[43m)\u001b[49m\n\u001b[1;32m    439\u001b[0m src \u001b[38;5;241m=\u001b[39m source_info_util\u001b[38;5;241m.\u001b[39mcurrent()\n\u001b[1;32m    440\u001b[0m \u001b[38;5;28;01mif\u001b[39;00m primitive\u001b[38;5;241m.\u001b[39mmultiple_results:\n",
      "File \u001b[0;32m~/.pyenv/versions/3.10.13/envs/jax_env/lib/python3.10/site-packages/jax/_src/pjit.py:1973\u001b[0m, in \u001b[0;36m_pjit_batcher\u001b[0;34m(spmd_axis_name, axis_size, axis_name, main_type, vals_in, dims_in, jaxpr, in_shardings, out_shardings, in_layouts, out_layouts, resource_env, donated_invars, name, keep_unused, inline)\u001b[0m\n\u001b[1;32m   1968\u001b[0m \u001b[38;5;28;01mif\u001b[39;00m \u001b[38;5;129;01mnot\u001b[39;00m (\u001b[38;5;28mall\u001b[39m(l \u001b[38;5;129;01mis\u001b[39;00m \u001b[38;5;28;01mNone\u001b[39;00m \u001b[38;5;28;01mfor\u001b[39;00m l \u001b[38;5;129;01min\u001b[39;00m in_layouts) \u001b[38;5;129;01mand\u001b[39;00m\n\u001b[1;32m   1969\u001b[0m         \u001b[38;5;28mall\u001b[39m(l \u001b[38;5;129;01mis\u001b[39;00m \u001b[38;5;28;01mNone\u001b[39;00m \u001b[38;5;28;01mfor\u001b[39;00m l \u001b[38;5;129;01min\u001b[39;00m out_layouts)):\n\u001b[1;32m   1970\u001b[0m   \u001b[38;5;28;01mraise\u001b[39;00m \u001b[38;5;167;01mNotImplementedError\u001b[39;00m(\n\u001b[1;32m   1971\u001b[0m       \u001b[38;5;124m'\u001b[39m\u001b[38;5;124mConcrete layouts are not supported for vmap(jit).\u001b[39m\u001b[38;5;124m'\u001b[39m)\n\u001b[0;32m-> 1973\u001b[0m vals_out \u001b[38;5;241m=\u001b[39m \u001b[43mpjit_p\u001b[49m\u001b[38;5;241;43m.\u001b[39;49m\u001b[43mbind\u001b[49m\u001b[43m(\u001b[49m\n\u001b[1;32m   1974\u001b[0m \u001b[43m  \u001b[49m\u001b[38;5;241;43m*\u001b[39;49m\u001b[43mvals_in\u001b[49m\u001b[43m,\u001b[49m\n\u001b[1;32m   1975\u001b[0m \u001b[43m  \u001b[49m\u001b[43mjaxpr\u001b[49m\u001b[38;5;241;43m=\u001b[39;49m\u001b[43mnew_jaxpr\u001b[49m\u001b[43m,\u001b[49m\n\u001b[1;32m   1976\u001b[0m \u001b[43m  \u001b[49m\u001b[43min_shardings\u001b[49m\u001b[38;5;241;43m=\u001b[39;49m\u001b[43min_shardings\u001b[49m\u001b[43m,\u001b[49m\n\u001b[1;32m   1977\u001b[0m \u001b[43m  \u001b[49m\u001b[43mout_shardings\u001b[49m\u001b[38;5;241;43m=\u001b[39;49m\u001b[43mout_shardings\u001b[49m\u001b[43m,\u001b[49m\n\u001b[1;32m   1978\u001b[0m \u001b[43m  \u001b[49m\u001b[43min_layouts\u001b[49m\u001b[38;5;241;43m=\u001b[39;49m\u001b[43min_layouts\u001b[49m\u001b[43m,\u001b[49m\n\u001b[1;32m   1979\u001b[0m \u001b[43m  \u001b[49m\u001b[43mout_layouts\u001b[49m\u001b[38;5;241;43m=\u001b[39;49m\u001b[43mout_layouts\u001b[49m\u001b[43m,\u001b[49m\n\u001b[1;32m   1980\u001b[0m \u001b[43m  \u001b[49m\u001b[43mresource_env\u001b[49m\u001b[38;5;241;43m=\u001b[39;49m\u001b[43mresource_env\u001b[49m\u001b[43m,\u001b[49m\n\u001b[1;32m   1981\u001b[0m \u001b[43m  \u001b[49m\u001b[43mdonated_invars\u001b[49m\u001b[38;5;241;43m=\u001b[39;49m\u001b[43mdonated_invars\u001b[49m\u001b[43m,\u001b[49m\n\u001b[1;32m   1982\u001b[0m \u001b[43m  \u001b[49m\u001b[43mname\u001b[49m\u001b[38;5;241;43m=\u001b[39;49m\u001b[43mname\u001b[49m\u001b[43m,\u001b[49m\n\u001b[1;32m   1983\u001b[0m \u001b[43m  \u001b[49m\u001b[43mkeep_unused\u001b[49m\u001b[38;5;241;43m=\u001b[39;49m\u001b[43mkeep_unused\u001b[49m\u001b[43m,\u001b[49m\n\u001b[1;32m   1984\u001b[0m \u001b[43m  \u001b[49m\u001b[43minline\u001b[49m\u001b[38;5;241;43m=\u001b[39;49m\u001b[43minline\u001b[49m\u001b[43m)\u001b[49m\n\u001b[1;32m   1986\u001b[0m resolved_axes_out \u001b[38;5;241m=\u001b[39m batching\u001b[38;5;241m.\u001b[39mresolve_ragged_axes_against_inputs_outputs(\n\u001b[1;32m   1987\u001b[0m     vals_in, vals_out, axes_out)\n\u001b[1;32m   1988\u001b[0m \u001b[38;5;28;01mreturn\u001b[39;00m vals_out, resolved_axes_out\n",
      "File \u001b[0;32m~/.pyenv/versions/3.10.13/envs/jax_env/lib/python3.10/site-packages/jax/_src/core.py:2739\u001b[0m, in \u001b[0;36mAxisPrimitive.bind\u001b[0;34m(self, *args, **params)\u001b[0m\n\u001b[1;32m   2735\u001b[0m axis_main \u001b[38;5;241m=\u001b[39m \u001b[38;5;28mmax\u001b[39m((axis_frame(a)\u001b[38;5;241m.\u001b[39mmain_trace \u001b[38;5;28;01mfor\u001b[39;00m a \u001b[38;5;129;01min\u001b[39;00m used_axis_names(\u001b[38;5;28mself\u001b[39m, params)),\n\u001b[1;32m   2736\u001b[0m                 default\u001b[38;5;241m=\u001b[39m\u001b[38;5;28;01mNone\u001b[39;00m, key\u001b[38;5;241m=\u001b[39m\u001b[38;5;28;01mlambda\u001b[39;00m t: \u001b[38;5;28mgetattr\u001b[39m(t, \u001b[38;5;124m'\u001b[39m\u001b[38;5;124mlevel\u001b[39m\u001b[38;5;124m'\u001b[39m, \u001b[38;5;241m-\u001b[39m\u001b[38;5;241m1\u001b[39m))\n\u001b[1;32m   2737\u001b[0m top_trace \u001b[38;5;241m=\u001b[39m (top_trace \u001b[38;5;28;01mif\u001b[39;00m \u001b[38;5;129;01mnot\u001b[39;00m axis_main \u001b[38;5;129;01mor\u001b[39;00m axis_main\u001b[38;5;241m.\u001b[39mlevel \u001b[38;5;241m<\u001b[39m top_trace\u001b[38;5;241m.\u001b[39mlevel\n\u001b[1;32m   2738\u001b[0m              \u001b[38;5;28;01melse\u001b[39;00m axis_main\u001b[38;5;241m.\u001b[39mwith_cur_sublevel())\n\u001b[0;32m-> 2739\u001b[0m \u001b[38;5;28;01mreturn\u001b[39;00m \u001b[38;5;28;43mself\u001b[39;49m\u001b[38;5;241;43m.\u001b[39;49m\u001b[43mbind_with_trace\u001b[49m\u001b[43m(\u001b[49m\u001b[43mtop_trace\u001b[49m\u001b[43m,\u001b[49m\u001b[43m \u001b[49m\u001b[43margs\u001b[49m\u001b[43m,\u001b[49m\u001b[43m \u001b[49m\u001b[43mparams\u001b[49m\u001b[43m)\u001b[49m\n",
      "File \u001b[0;32m~/.pyenv/versions/3.10.13/envs/jax_env/lib/python3.10/site-packages/jax/_src/core.py:433\u001b[0m, in \u001b[0;36mPrimitive.bind_with_trace\u001b[0;34m(self, trace, args, params)\u001b[0m\n\u001b[1;32m    431\u001b[0m \u001b[38;5;28;01mdef\u001b[39;00m \u001b[38;5;21mbind_with_trace\u001b[39m(\u001b[38;5;28mself\u001b[39m, trace, args, params):\n\u001b[1;32m    432\u001b[0m   \u001b[38;5;28;01mwith\u001b[39;00m pop_level(trace\u001b[38;5;241m.\u001b[39mlevel):\n\u001b[0;32m--> 433\u001b[0m     out \u001b[38;5;241m=\u001b[39m \u001b[43mtrace\u001b[49m\u001b[38;5;241;43m.\u001b[39;49m\u001b[43mprocess_primitive\u001b[49m\u001b[43m(\u001b[49m\u001b[38;5;28;43mself\u001b[39;49m\u001b[43m,\u001b[49m\u001b[43m \u001b[49m\u001b[38;5;28;43mmap\u001b[39;49m\u001b[43m(\u001b[49m\u001b[43mtrace\u001b[49m\u001b[38;5;241;43m.\u001b[39;49m\u001b[43mfull_raise\u001b[49m\u001b[43m,\u001b[49m\u001b[43m \u001b[49m\u001b[43margs\u001b[49m\u001b[43m)\u001b[49m\u001b[43m,\u001b[49m\u001b[43m \u001b[49m\u001b[43mparams\u001b[49m\u001b[43m)\u001b[49m\n\u001b[1;32m    434\u001b[0m   \u001b[38;5;28;01mreturn\u001b[39;00m \u001b[38;5;28mmap\u001b[39m(full_lower, out) \u001b[38;5;28;01mif\u001b[39;00m \u001b[38;5;28mself\u001b[39m\u001b[38;5;241m.\u001b[39mmultiple_results \u001b[38;5;28;01melse\u001b[39;00m full_lower(out)\n",
      "File \u001b[0;32m~/.pyenv/versions/3.10.13/envs/jax_env/lib/python3.10/site-packages/jax/_src/core.py:939\u001b[0m, in \u001b[0;36mEvalTrace.process_primitive\u001b[0;34m(self, primitive, tracers, params)\u001b[0m\n\u001b[1;32m    937\u001b[0m   \u001b[38;5;28;01mreturn\u001b[39;00m call_impl_with_key_reuse_checks(primitive, primitive\u001b[38;5;241m.\u001b[39mimpl, \u001b[38;5;241m*\u001b[39mtracers, \u001b[38;5;241m*\u001b[39m\u001b[38;5;241m*\u001b[39mparams)\n\u001b[1;32m    938\u001b[0m \u001b[38;5;28;01melse\u001b[39;00m:\n\u001b[0;32m--> 939\u001b[0m   \u001b[38;5;28;01mreturn\u001b[39;00m \u001b[43mprimitive\u001b[49m\u001b[38;5;241;43m.\u001b[39;49m\u001b[43mimpl\u001b[49m\u001b[43m(\u001b[49m\u001b[38;5;241;43m*\u001b[39;49m\u001b[43mtracers\u001b[49m\u001b[43m,\u001b[49m\u001b[43m \u001b[49m\u001b[38;5;241;43m*\u001b[39;49m\u001b[38;5;241;43m*\u001b[39;49m\u001b[43mparams\u001b[49m\u001b[43m)\u001b[49m\n",
      "File \u001b[0;32m~/.pyenv/versions/3.10.13/envs/jax_env/lib/python3.10/site-packages/jax/_src/pjit.py:1730\u001b[0m, in \u001b[0;36m_pjit_call_impl\u001b[0;34m(jaxpr, in_shardings, out_shardings, in_layouts, out_layouts, resource_env, donated_invars, name, keep_unused, inline, *args)\u001b[0m\n\u001b[1;32m   1727\u001b[0m donated_argnums \u001b[38;5;241m=\u001b[39m [i \u001b[38;5;28;01mfor\u001b[39;00m i, d \u001b[38;5;129;01min\u001b[39;00m \u001b[38;5;28menumerate\u001b[39m(donated_invars) \u001b[38;5;28;01mif\u001b[39;00m d]\n\u001b[1;32m   1728\u001b[0m has_explicit_sharding \u001b[38;5;241m=\u001b[39m _pjit_explicit_sharding(\n\u001b[1;32m   1729\u001b[0m     in_shardings, out_shardings, \u001b[38;5;28;01mNone\u001b[39;00m, \u001b[38;5;28;01mNone\u001b[39;00m)\n\u001b[0;32m-> 1730\u001b[0m \u001b[38;5;28;01mreturn\u001b[39;00m \u001b[43mxc\u001b[49m\u001b[38;5;241;43m.\u001b[39;49m\u001b[43m_xla\u001b[49m\u001b[38;5;241;43m.\u001b[39;49m\u001b[43mpjit\u001b[49m\u001b[43m(\u001b[49m\n\u001b[1;32m   1731\u001b[0m \u001b[43m    \u001b[49m\u001b[43mname\u001b[49m\u001b[43m,\u001b[49m\u001b[43m \u001b[49m\u001b[43mf\u001b[49m\u001b[43m,\u001b[49m\u001b[43m \u001b[49m\u001b[43mcall_impl_cache_miss\u001b[49m\u001b[43m,\u001b[49m\u001b[43m \u001b[49m\u001b[43m[\u001b[49m\u001b[43m]\u001b[49m\u001b[43m,\u001b[49m\u001b[43m \u001b[49m\u001b[43m[\u001b[49m\u001b[43m]\u001b[49m\u001b[43m,\u001b[49m\u001b[43m \u001b[49m\u001b[43mdonated_argnums\u001b[49m\u001b[43m,\u001b[49m\n\u001b[1;32m   1732\u001b[0m \u001b[43m    \u001b[49m\u001b[43mtree_util\u001b[49m\u001b[38;5;241;43m.\u001b[39;49m\u001b[43mdispatch_registry\u001b[49m\u001b[43m,\u001b[49m\n\u001b[1;32m   1733\u001b[0m \u001b[43m    \u001b[49m\u001b[38;5;28;43;01mlambda\u001b[39;49;00m\u001b[43m \u001b[49m\u001b[43mx\u001b[49m\u001b[43m,\u001b[49m\u001b[43m \u001b[49m\u001b[43msharding\u001b[49m\u001b[43m:\u001b[49m\u001b[43m \u001b[49m\u001b[43mpxla\u001b[49m\u001b[38;5;241;43m.\u001b[39;49m\u001b[43mshard_args\u001b[49m\u001b[43m(\u001b[49m\u001b[43m[\u001b[49m\u001b[43msharding\u001b[49m\u001b[43m]\u001b[49m\u001b[43m,\u001b[49m\u001b[43m \u001b[49m\u001b[43m[\u001b[49m\u001b[43mx\u001b[49m\u001b[43m]\u001b[49m\u001b[43m)\u001b[49m\u001b[43m[\u001b[49m\u001b[38;5;241;43m0\u001b[39;49m\u001b[43m]\u001b[49m\u001b[43m,\u001b[49m\n\u001b[1;32m   1734\u001b[0m \u001b[43m    \u001b[49m\u001b[43m_get_cpp_global_cache\u001b[49m\u001b[43m(\u001b[49m\u001b[43mhas_explicit_sharding\u001b[49m\u001b[43m)\u001b[49m\u001b[43m)\u001b[49m\u001b[43m(\u001b[49m\u001b[38;5;241;43m*\u001b[39;49m\u001b[43margs\u001b[49m\u001b[43m)\u001b[49m\n",
      "\u001b[0;31mKeyboardInterrupt\u001b[0m: "
     ]
    }
   ],
   "source": [
    "from jax import random, jit, vmap\n",
    "import os\n",
    "path = os.getcwd()\n",
    "print(\"Old path:\", path)\n",
    "path+='/ABC-SBI'\n",
    "path = (path.split('/'))\n",
    "if path.index(\"ABC-SBI\")==-1:\n",
    "    path.append('ABC-SBI')\n",
    "    \n",
    "path = path[:path.index(\"ABC-SBI\")+1]\n",
    "path = '/'.join(path)\n",
    "print(\"New path:\", path)\n",
    "os.chdir(path)\n",
    "\n",
    "import sys\n",
    "sys.path.append(path)\n",
    "from functions.simulation import get_dataset, get_epsilon_star, get_newdataset\n",
    "from functions.training import train_loop\n",
    "from functions.SBC import SBC_epsilon, plot_SBC, find_grid_explorative, post_pdf_z\n",
    "import jax.numpy as jnp\n",
    "import time\n",
    "import pickle \n",
    "import lzma\n",
    "from jax.scipy.stats import norm\n",
    "import matplotlib.pyplot as plt\n",
    "import numpy as np\n",
    "import seaborn as sns\n",
    "import scipy.stats as stats\n",
    "import pytensor\n",
    "\n",
    "@jit\n",
    "def prior_simulator(key):\n",
    "    return random.normal(key, (1,))*SIGMA0 + MU0\n",
    "\n",
    "\n",
    "def data_simulator_raw(key, beta, x_design, index_beta):\n",
    "    key, subkey = random.split(key)\n",
    "    betas = jnp.insert(random.normal(subkey, (x_design.shape[1]-1,))*SIGMA0 + MU0, index_beta, beta)\n",
    "    return random.normal(key, (x_design.shape[0],))*SIGMA+ jnp.dot(x_design, betas)\n",
    "\n",
    "def beta_simulator_raw(key, beta, x_design, index_beta):\n",
    "    return jnp.insert(random.normal(key, (x_design.shape[1]-1,))*SIGMA0 + MU0, index_beta, beta)\n",
    "\n",
    "@jit\n",
    "def discrepancy(y, y_true):\n",
    "    return jnp.mean((y-y_true)**2)\n",
    "\n",
    "\n",
    "def x_design_simulator(key, n_data, n_var):\n",
    "    return random.normal(key, (n_data, n_var))\n",
    "\n",
    "\n",
    "key = random.PRNGKey(0)\n",
    "\n",
    "N_DATA = 500\n",
    "\n",
    "MU0, SIGMA0 = 0., 10.\n",
    "PRIOR_ARGS = [MU0, SIGMA0]\n",
    "\n",
    "SIGMA = 1.\n",
    "\n",
    "\n",
    "\n",
    "PRIOR_LOGPDF = lambda x: norm.logpdf(x, loc = MU0, scale = SIGMA0)\n",
    "MINN, MAXX = norm.ppf(1e-5, loc = MU0, scale = SIGMA0), norm.ppf(1-1e-5, loc = MU0, scale = SIGMA0)\n",
    "    \n",
    "\n",
    "\n",
    "\n",
    "N_POINTS_TRAIN = 1000000\n",
    "N_POINTS_TEST = 100000\n",
    "N_POINTS_EPS = 10000\n",
    "sim_args = None\n",
    "\n",
    "\n",
    "N_EPOCHS = 3\n",
    "LEARNING_RATE = 0.001\n",
    "PATIENCE = 7\n",
    "COOLDOWN = 0\n",
    "FACTOR = .5\n",
    "RTOL = 1e-4  \n",
    "ACCUMULATION_SIZE = 200\n",
    "LEARNING_RATE_MIN = 1e-6\n",
    "\n",
    "BATCH_SIZE = 256\n",
    "NUM_BATCH = 1024\n",
    "NUM_CLASSES = 2\n",
    "HIDDEN_SIZE = 256\n",
    "NUM_LAYERS = 7\n",
    "WDECAY = .001\n",
    "N_GRID_FINAL = 10000\n",
    "N_GRID_EXPLO = 1000\n",
    "L = 15\n",
    "B = 16\n",
    "N_SBC = (L+1)*100\n",
    "\n",
    "PATH_RESULTS = os.getcwd() + f\"/examples/Linear-Reg/new_results_{N_DATA}/\"\n",
    "if not os.path.exists(PATH_RESULTS):\n",
    "    os.makedirs(PATH_RESULTS)\n",
    "    \n",
    "\n",
    "ACCEPT_RATES = [1., .999, .99, .95, .925, .9, .85, .8, .75]\n",
    "\n",
    "N_VARS = [2,3,5,10,25,50]\n",
    "for N_VAR in N_VARS:\n",
    "    key = random.PRNGKey(0)\n",
    "    PATH_N_VAR = PATH_RESULTS+ \"K_{}/\".format(N_VAR)\n",
    "    with open(PATH_N_VAR + \"data.pkl\", \"rb\") as f:\n",
    "        dico = pickle.load(f)\n",
    "    TRUE_BETAS = dico[\"TRUE_BETAS\"]\n",
    "    X_DESIGN = dico[\"X_DESIGN\"]\n",
    "    TRUE_DATA = dico[\"TRUE_DATA\"]\n",
    "    beta_post = dico[\"true_post\"]\n",
    "    MODEL_ARGS = [SIGMA, X_DESIGN]\n",
    "    if N_VAR > 2:\n",
    "        INDEX_BETAS = [0, N_VAR-1, N_VAR//2]\n",
    "    else: \n",
    "        INDEX_BETAS = [0, N_VAR-1]\n",
    "    for INDEX_BETA in INDEX_BETAS:\n",
    "        data_simulator = jit(lambda key, beta: data_simulator_raw(key, beta, X_DESIGN, INDEX_BETA)) \n",
    "        TRUE_BETA = TRUE_BETAS[INDEX_BETA]\n",
    "        if INDEX_BETA == 0:\n",
    "            beta_mode = \"max\"\n",
    "            PATH_BETA = PATH_N_VAR + \"beta_max/\"\n",
    "        elif INDEX_BETA == N_VAR-1:\n",
    "            beta_mode = \"min\"\n",
    "            PATH_BETA = PATH_N_VAR + \"beta_min/\"\n",
    "        else:\n",
    "            beta_mode = \"random\"\n",
    "            PATH_BETA = PATH_N_VAR + \"beta_random/\"\n",
    "        if not os.path.exists(PATH_BETA):\n",
    "                os.makedirs(PATH_BETA)\n",
    "    \n",
    "    \n",
    "        EPSILON_STAR = jnp.inf\n",
    "\n",
    "        \n",
    "        for ACCEPT_RATE in ACCEPT_RATES:\n",
    "            print(\"\\n\\n--------------------\")\n",
    "            print(\"K = {}, TRUE_BETA = {}, ACCEPT_RATE = {}\".format(N_VAR, beta_mode, ACCEPT_RATE))\n",
    "            print(\"--------------------\\n\\n\")\n",
    "            \n",
    "            time_eps = time.time()\n",
    "            print(\"Selection of epsilon star...\")\n",
    "            EPSILON_STAR, key = get_epsilon_star(key, ACCEPT_RATE, N_POINTS_EPS, prior_simulator, data_simulator, discrepancy, TRUE_DATA, quantile_rate = .99, epsilon = EPSILON_STAR)\n",
    "            print('Time to select epsilon star: {:.2f}s\\n'.format(time.time()-time_eps))\n",
    "\n",
    "            print(\"Simulations of the testing dataset...\")\n",
    "            time_sim = time.time()\n",
    "            X_test, y_test, key = get_newdataset(key, N_POINTS_TEST, prior_simulator, data_simulator, discrepancy, EPSILON_STAR, TRUE_DATA)\n",
    "            print('Time to simulate the testing dataset: {:.2f}s\\n'.format(time.time()-time_sim))\n",
    "\n",
    "            print(\"Simulations of the training dataset...\")\n",
    "            time_sim = time.time()\n",
    "            X_train, y_train, key = get_newdataset(key, N_POINTS_TRAIN, prior_simulator, data_simulator, discrepancy, EPSILON_STAR, TRUE_DATA)\n",
    "            print('Time to simulate the training dataset: {:.2f}s\\n'.format(time.time()-time_sim))\n",
    "\n",
    "\n",
    "            print(\"Training the neural network...\")\n",
    "            time_nn = time.time()\n",
    "            params, train_accuracy, train_losses, test_accuracy, test_losses, key = train_loop(key, N_EPOCHS, NUM_LAYERS, HIDDEN_SIZE, NUM_CLASSES, BATCH_SIZE, NUM_BATCH, LEARNING_RATE, WDECAY, PATIENCE, COOLDOWN, FACTOR, RTOL, ACCUMULATION_SIZE, LEARNING_RATE_MIN, prior_simulator, data_simulator, discrepancy, true_data = TRUE_DATA, X_train = X_train, y_train = y_train, X_test = X_test, y_test =  y_test, N_POINTS_TRAIN = N_POINTS_TRAIN, N_POINTS_TEST = N_POINTS_TEST, epsilon = EPSILON_STAR, verbose = True)\n",
    "            print('Time to train the neural network: {:.2f}s\\n'.format(time.time()-time_nn))\n",
    "\n",
    "\n",
    "            print(\"Simulation Based Calibration...\")\n",
    "            time_sbc = time.time()\n",
    "\n",
    "            ranks, thetas_tilde, thetas, key = SBC_epsilon(key = key, N_SBC = N_SBC, L = L, params = params, epsilon = EPSILON_STAR, true_data = TRUE_DATA, prior_simulator = prior_simulator, prior_logpdf = PRIOR_LOGPDF, data_simulator = data_simulator, discrepancy = discrepancy, n_grid_explo = N_GRID_EXPLO, n_grid_final = N_GRID_FINAL, minn = MINN, maxx = MAXX)\n",
    "\n",
    "            print('Time to perform SBC: {:.2f}s\\n'.format(time.time()-time_sbc))\n",
    "\n",
    "\n",
    "            pickle_dico = {\"ACCEPT_RATE\":ACCEPT_RATE, \"ranks\": ranks, \"thetas_tilde\": thetas_tilde, \"thetas\": thetas, \"epsilon\":EPSILON_STAR, \"KEY\":key, \"N_SBC\":N_SBC, \"L\":L, \"N_GRID_EXPLO\": N_GRID_EXPLO, 'N_GRID_FINAL': N_GRID_FINAL,\"TRUE_DATA\": TRUE_DATA, \"TRUE_THETA\": TRUE_BETA, \"TRUE_BETAS\": TRUE_BETAS, \"params\": params, \"train_accuracy\":train_accuracy, \"test_accuracy\":test_accuracy, \"MODEL_ARGS\":MODEL_ARGS, \"PRIOR_ARGS\":PRIOR_ARGS, \"N_POINTS_TRAIN\":N_POINTS_TRAIN, \"N_POINTS_TEST\":N_POINTS_TEST, \"N_DATA\":N_DATA, \"N_EPOCHS\":N_EPOCHS, \"LEARNING_RATE\":LEARNING_RATE, \"PATIENCE\":PATIENCE, \"COOLDOWN\":COOLDOWN, \"FACTOR\":FACTOR, \"RTOL\":RTOL, \"ACCUMULATION_SIZE\":ACCUMULATION_SIZE, \"LEARNING_RATE_MIN\":LEARNING_RATE_MIN, \"BATCH_SIZE\":BATCH_SIZE, \"NUM_BATCH\":NUM_BATCH, \"NUM_CLASSES\":NUM_CLASSES, \"HIDDEN_SIZE\":HIDDEN_SIZE, \"NUM_LAYERS\":NUM_LAYERS, \"WDECAY\":WDECAY}\n",
    "\n",
    "\n",
    "            NAME = \"LinearReg_K_{}_beta_{}_acc_{}_eps_{:.3}\".format(N_VAR, beta_mode, ACCEPT_RATE, EPSILON_STAR)\n",
    "            NAMEFIG = PATH_BETA + \"figures/\" + NAME + \".png\"\n",
    "            NAMEFILE = PATH_BETA + \"pickles/\" + NAME + \".xz\"\n",
    "            \n",
    "            \n",
    "            if not os.path.exists(PATH_BETA + \"figures/\"):\n",
    "                os.makedirs(PATH_BETA + \"figures/\")\n",
    "            if not os.path.exists(PATH_BETA + \"pickles/\"):\n",
    "                os.makedirs(PATH_BETA + \"pickles/\")\n",
    "                \n",
    "            \n",
    "            with lzma.open(NAMEFILE, \"wb\") as f:\n",
    "                pickle.dump(pickle_dico, f)\n",
    "            print(\"Data saved in \", NAMEFILE)\n",
    "\n",
    "            title = \"Linear Regression with K = {}, beta = {}, accept rate = {}, epsilon = {:.3}\".format(N_VAR, beta_mode, ACCEPT_RATE, EPSILON_STAR)\n",
    "\n",
    "            \n",
    "            f, ax = plt.subplots(1,3, figsize = (15,5))\n",
    "            sns.kdeplot(thetas_tilde, label = \"Thetas_tilde\", ax = ax[0])\n",
    "            sns.kdeplot(thetas[:,0], label = \"Thetas\", ax = ax[0])\n",
    "\n",
    "            ax[0].legend()\n",
    "            f.suptitle(f'{title}')\n",
    "\n",
    "            grid_approx, pdf_approx = find_grid_explorative(lambda x: post_pdf_z(params, x, TRUE_DATA, PRIOR_LOGPDF), N_GRID_EXPLO, N_GRID_FINAL, MINN, MAXX)\n",
    "\n",
    "            \n",
    "            Z_approx = np.trapz(pdf_approx, grid_approx)\n",
    "            ax[1].plot(grid_approx, pdf_approx/Z_approx, label = \"Approx posterior (NRE)\")\n",
    "            sns.kdeplot(beta_post[:,INDEX_BETA], label = \"True posterior (PyMC)\", ax = ax[1])\n",
    "            ax[1].axvline(TRUE_BETA, color = \"red\", label = \"True parameter\", linestyle = \"--\")\n",
    "            # ax[1].plot(grid_true, pdf_true, label = \"True\")\n",
    "            ax[1].legend()\n",
    "            ax[1].set_title(\"Posterior comparison of the true data\")\n",
    "            plot_SBC(ranks, L, B, ax = ax[2])\n",
    "            ax[2].set_title(\"SBC with Rank Statistics\")\n",
    "            f.savefig(NAMEFIG)\n",
    "            plt.close(f)\n",
    "            \n",
    "            \n",
    "            \n",
    "            \n",
    "            \n",
    "            print(\"\\n\\n--------------------\")\n",
    "            print(\"ITERATION (ACC = {}) DONE IN {} SECONDS!\".format(ACCEPT_RATE, time.time()-time_eps))\n",
    "            print(\"--------------------\\n\\n\")"
   ]
  },
  {
   "cell_type": "code",
   "execution_count": null,
   "metadata": {},
   "outputs": [],
   "source": []
  }
 ],
 "metadata": {
  "kernelspec": {
   "display_name": "jax_env",
   "language": "python",
   "name": "python3"
  },
  "language_info": {
   "codemirror_mode": {
    "name": "ipython",
    "version": 3
   },
   "file_extension": ".py",
   "mimetype": "text/x-python",
   "name": "python",
   "nbconvert_exporter": "python",
   "pygments_lexer": "ipython3",
   "version": "3.10.13"
  }
 },
 "nbformat": 4,
 "nbformat_minor": 2
}
